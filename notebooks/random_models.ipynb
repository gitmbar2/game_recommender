{
 "cells": [
  {
   "cell_type": "markdown",
   "metadata": {},
   "source": [
    "# Compare to Random Models"
   ]
  },
  {
   "cell_type": "code",
   "execution_count": 1,
   "metadata": {
    "collapsed": true
   },
   "outputs": [],
   "source": [
    "import math\n",
    "import random\n",
    "import pandas as pd\n",
    "import numpy as np\n",
    "import matplotlib.pyplot as plt\n",
    "%matplotlib inline\n",
    "\n",
    "import pyspark\n",
    "from pyspark.sql import SparkSession\n",
    "from pyspark.ml.recommendation import ALS\n",
    "from pyspark.ml.evaluation import RegressionEvaluator\n",
    "\n",
    "import os, sys\n",
    "sys.path.append(os.path.dirname(os.path.dirname(os.path.abspath('__file__'))))\n",
    "from src import EDA\n",
    "from src import ModelEvaluation\n",
    "%load_ext autoreload\n",
    "%autoreload 2"
   ]
  },
  {
   "cell_type": "markdown",
   "metadata": {},
   "source": [
    "## This notebook was used to explore the differences in evaluation\n",
    "### Between randomly guessing ratings and ALS"
   ]
  },
  {
   "cell_type": "code",
   "execution_count": 2,
   "metadata": {},
   "outputs": [
    {
     "name": "stderr",
     "output_type": "stream",
     "text": [
      "/Users/michaelbarton/Code/gproject/src/EDA.py:21: UserWarning: Boolean Series key will be reindexed to match DataFrame index.\n",
      "  return filtered_users[steam_df['game_name'].isin(usable_games['game_name'].values)]\n",
      "/Users/michaelbarton/anaconda2/envs/py36/lib/python3.6/site-packages/pandas/core/groupby.py:4036: FutureWarning: using a dict with renaming is deprecated and will be removed in a future version\n",
      "  return super(DataFrameGroupBy, self).aggregate(arg, *args, **kwargs)\n"
     ]
    },
    {
     "data": {
      "text/html": [
       "<div>\n",
       "<style>\n",
       "    .dataframe thead tr:only-child th {\n",
       "        text-align: right;\n",
       "    }\n",
       "\n",
       "    .dataframe thead th {\n",
       "        text-align: left;\n",
       "    }\n",
       "\n",
       "    .dataframe tbody tr th {\n",
       "        vertical-align: top;\n",
       "    }\n",
       "</style>\n",
       "<table border=\"1\" class=\"dataframe\">\n",
       "  <thead>\n",
       "    <tr style=\"text-align: right;\">\n",
       "      <th></th>\n",
       "      <th>uid</th>\n",
       "      <th>game_name</th>\n",
       "      <th>purchase_action</th>\n",
       "      <th>playtime</th>\n",
       "      <th>playtime_rank</th>\n",
       "      <th>game_uid</th>\n",
       "      <th>playtime_mean</th>\n",
       "      <th>playtime_min</th>\n",
       "      <th>playtime_max</th>\n",
       "      <th>game_counts</th>\n",
       "      <th>min_max</th>\n",
       "    </tr>\n",
       "  </thead>\n",
       "  <tbody>\n",
       "    <tr>\n",
       "      <th>1</th>\n",
       "      <td>151603712</td>\n",
       "      <td>The Elder Scrolls V Skyrim</td>\n",
       "      <td>play</td>\n",
       "      <td>273.0</td>\n",
       "      <td>3</td>\n",
       "      <td>0</td>\n",
       "      <td>105.721530</td>\n",
       "      <td>0.1</td>\n",
       "      <td>1986.0</td>\n",
       "      <td>562</td>\n",
       "      <td>0.412256</td>\n",
       "    </tr>\n",
       "    <tr>\n",
       "      <th>3</th>\n",
       "      <td>151603712</td>\n",
       "      <td>Fallout 4</td>\n",
       "      <td>play</td>\n",
       "      <td>87.0</td>\n",
       "      <td>3</td>\n",
       "      <td>1</td>\n",
       "      <td>65.274172</td>\n",
       "      <td>0.2</td>\n",
       "      <td>629.0</td>\n",
       "      <td>151</td>\n",
       "      <td>0.414122</td>\n",
       "    </tr>\n",
       "  </tbody>\n",
       "</table>\n",
       "</div>"
      ],
      "text/plain": [
       "         uid                   game_name purchase_action  playtime  \\\n",
       "1  151603712  The Elder Scrolls V Skyrim            play     273.0   \n",
       "3  151603712                   Fallout 4            play      87.0   \n",
       "\n",
       "   playtime_rank  game_uid  playtime_mean  playtime_min  playtime_max  \\\n",
       "1              3         0     105.721530           0.1        1986.0   \n",
       "3              3         1      65.274172           0.2         629.0   \n",
       "\n",
       "   game_counts   min_max  \n",
       "1          562  0.412256  \n",
       "3          151  0.414122  "
      ]
     },
     "execution_count": 2,
     "metadata": {},
     "output_type": "execute_result"
    }
   ],
   "source": [
    "steam_df = EDA.load_without_cold_start(5)\n",
    "steam_df = steam_df[steam_df['purchase_action'] == 'play']\n",
    "steam_df[\"playtime_rank\"] = steam_df['playtime'].map(lambda value: EDA.rank_playtime(value))\n",
    "steam_df = EDA.get_uids(steam_df, from_column='game_name', to_column='game_uid')\n",
    "with_summaries_df = EDA.add_summaries(steam_df)\n",
    "with_summaries_df.head(2)"
   ]
  },
  {
   "cell_type": "markdown",
   "metadata": {
    "collapsed": true
   },
   "source": [
    "# Random Model"
   ]
  },
  {
   "cell_type": "code",
   "execution_count": 3,
   "metadata": {
    "collapsed": true
   },
   "outputs": [],
   "source": [
    "min_score = with_summaries_df['min_max'].min()\n",
    "max_score = with_summaries_df['min_max'].max()\n",
    "def get_random_scores(n, max_score):\n",
    "    return np.random.random_sample(n, ) * max_score"
   ]
  },
  {
   "cell_type": "code",
   "execution_count": 4,
   "metadata": {},
   "outputs": [
    {
     "data": {
      "text/plain": [
       "array([ 2.17048661,  0.20939214,  1.72070346,  2.94262984,  0.49252574])"
      ]
     },
     "execution_count": 4,
     "metadata": {},
     "output_type": "execute_result"
    }
   ],
   "source": [
    "get_random_scores(100, max_score)[:5]"
   ]
  },
  {
   "cell_type": "code",
   "execution_count": 5,
   "metadata": {
    "collapsed": true
   },
   "outputs": [],
   "source": [
    "steam_df_random_predictions = with_summaries_df.copy()\n",
    "steam_df_random_predictions['random_prediction'] = get_random_scores(steam_df_random_predictions.shape[0], max_score)"
   ]
  },
  {
   "cell_type": "code",
   "execution_count": 6,
   "metadata": {},
   "outputs": [
    {
     "data": {
      "text/html": [
       "<div>\n",
       "<style>\n",
       "    .dataframe thead tr:only-child th {\n",
       "        text-align: right;\n",
       "    }\n",
       "\n",
       "    .dataframe thead th {\n",
       "        text-align: left;\n",
       "    }\n",
       "\n",
       "    .dataframe tbody tr th {\n",
       "        vertical-align: top;\n",
       "    }\n",
       "</style>\n",
       "<table border=\"1\" class=\"dataframe\">\n",
       "  <thead>\n",
       "    <tr style=\"text-align: right;\">\n",
       "      <th></th>\n",
       "      <th>uid</th>\n",
       "      <th>game_name</th>\n",
       "      <th>purchase_action</th>\n",
       "      <th>playtime</th>\n",
       "      <th>playtime_rank</th>\n",
       "      <th>game_uid</th>\n",
       "      <th>playtime_mean</th>\n",
       "      <th>playtime_min</th>\n",
       "      <th>playtime_max</th>\n",
       "      <th>game_counts</th>\n",
       "      <th>min_max</th>\n",
       "      <th>random_prediction</th>\n",
       "    </tr>\n",
       "  </thead>\n",
       "  <tbody>\n",
       "    <tr>\n",
       "      <th>1</th>\n",
       "      <td>151603712</td>\n",
       "      <td>The Elder Scrolls V Skyrim</td>\n",
       "      <td>play</td>\n",
       "      <td>273.0</td>\n",
       "      <td>3</td>\n",
       "      <td>0</td>\n",
       "      <td>105.721530</td>\n",
       "      <td>0.1</td>\n",
       "      <td>1986.0</td>\n",
       "      <td>562</td>\n",
       "      <td>0.412256</td>\n",
       "      <td>2.088341</td>\n",
       "    </tr>\n",
       "    <tr>\n",
       "      <th>3</th>\n",
       "      <td>151603712</td>\n",
       "      <td>Fallout 4</td>\n",
       "      <td>play</td>\n",
       "      <td>87.0</td>\n",
       "      <td>3</td>\n",
       "      <td>1</td>\n",
       "      <td>65.274172</td>\n",
       "      <td>0.2</td>\n",
       "      <td>629.0</td>\n",
       "      <td>151</td>\n",
       "      <td>0.414122</td>\n",
       "      <td>0.200003</td>\n",
       "    </tr>\n",
       "    <tr>\n",
       "      <th>5</th>\n",
       "      <td>151603712</td>\n",
       "      <td>Spore</td>\n",
       "      <td>play</td>\n",
       "      <td>14.9</td>\n",
       "      <td>2</td>\n",
       "      <td>2</td>\n",
       "      <td>26.016667</td>\n",
       "      <td>0.1</td>\n",
       "      <td>417.0</td>\n",
       "      <td>54</td>\n",
       "      <td>0.106500</td>\n",
       "      <td>0.627496</td>\n",
       "    </tr>\n",
       "    <tr>\n",
       "      <th>7</th>\n",
       "      <td>151603712</td>\n",
       "      <td>Fallout New Vegas</td>\n",
       "      <td>play</td>\n",
       "      <td>12.1</td>\n",
       "      <td>2</td>\n",
       "      <td>3</td>\n",
       "      <td>52.247843</td>\n",
       "      <td>0.1</td>\n",
       "      <td>417.0</td>\n",
       "      <td>255</td>\n",
       "      <td>0.086352</td>\n",
       "      <td>1.654936</td>\n",
       "    </tr>\n",
       "    <tr>\n",
       "      <th>9</th>\n",
       "      <td>151603712</td>\n",
       "      <td>Left 4 Dead 2</td>\n",
       "      <td>play</td>\n",
       "      <td>8.9</td>\n",
       "      <td>2</td>\n",
       "      <td>4</td>\n",
       "      <td>43.288872</td>\n",
       "      <td>0.1</td>\n",
       "      <td>2710.0</td>\n",
       "      <td>665</td>\n",
       "      <td>0.009742</td>\n",
       "      <td>1.304388</td>\n",
       "    </tr>\n",
       "    <tr>\n",
       "      <th>11</th>\n",
       "      <td>151603712</td>\n",
       "      <td>HuniePop</td>\n",
       "      <td>play</td>\n",
       "      <td>8.5</td>\n",
       "      <td>2</td>\n",
       "      <td>5</td>\n",
       "      <td>20.820000</td>\n",
       "      <td>0.8</td>\n",
       "      <td>70.0</td>\n",
       "      <td>20</td>\n",
       "      <td>0.333815</td>\n",
       "      <td>1.349870</td>\n",
       "    </tr>\n",
       "    <tr>\n",
       "      <th>13</th>\n",
       "      <td>151603712</td>\n",
       "      <td>Path of Exile</td>\n",
       "      <td>play</td>\n",
       "      <td>8.1</td>\n",
       "      <td>2</td>\n",
       "      <td>6</td>\n",
       "      <td>52.956395</td>\n",
       "      <td>0.1</td>\n",
       "      <td>1158.0</td>\n",
       "      <td>172</td>\n",
       "      <td>0.020727</td>\n",
       "      <td>0.933534</td>\n",
       "    </tr>\n",
       "    <tr>\n",
       "      <th>15</th>\n",
       "      <td>151603712</td>\n",
       "      <td>Poly Bridge</td>\n",
       "      <td>play</td>\n",
       "      <td>7.5</td>\n",
       "      <td>2</td>\n",
       "      <td>7</td>\n",
       "      <td>5.825000</td>\n",
       "      <td>1.7</td>\n",
       "      <td>11.8</td>\n",
       "      <td>8</td>\n",
       "      <td>1.722772</td>\n",
       "      <td>2.033377</td>\n",
       "    </tr>\n",
       "    <tr>\n",
       "      <th>17</th>\n",
       "      <td>151603712</td>\n",
       "      <td>Left 4 Dead</td>\n",
       "      <td>play</td>\n",
       "      <td>3.3</td>\n",
       "      <td>1</td>\n",
       "      <td>8</td>\n",
       "      <td>46.823977</td>\n",
       "      <td>0.1</td>\n",
       "      <td>817.0</td>\n",
       "      <td>171</td>\n",
       "      <td>0.011752</td>\n",
       "      <td>0.444031</td>\n",
       "    </tr>\n",
       "    <tr>\n",
       "      <th>19</th>\n",
       "      <td>151603712</td>\n",
       "      <td>Team Fortress 2</td>\n",
       "      <td>play</td>\n",
       "      <td>2.8</td>\n",
       "      <td>1</td>\n",
       "      <td>9</td>\n",
       "      <td>96.972904</td>\n",
       "      <td>0.1</td>\n",
       "      <td>3503.0</td>\n",
       "      <td>1181</td>\n",
       "      <td>0.002312</td>\n",
       "      <td>2.324478</td>\n",
       "    </tr>\n",
       "  </tbody>\n",
       "</table>\n",
       "</div>"
      ],
      "text/plain": [
       "          uid                   game_name purchase_action  playtime  \\\n",
       "1   151603712  The Elder Scrolls V Skyrim            play     273.0   \n",
       "3   151603712                   Fallout 4            play      87.0   \n",
       "5   151603712                       Spore            play      14.9   \n",
       "7   151603712           Fallout New Vegas            play      12.1   \n",
       "9   151603712               Left 4 Dead 2            play       8.9   \n",
       "11  151603712                    HuniePop            play       8.5   \n",
       "13  151603712               Path of Exile            play       8.1   \n",
       "15  151603712                 Poly Bridge            play       7.5   \n",
       "17  151603712                 Left 4 Dead            play       3.3   \n",
       "19  151603712             Team Fortress 2            play       2.8   \n",
       "\n",
       "    playtime_rank  game_uid  playtime_mean  playtime_min  playtime_max  \\\n",
       "1               3         0     105.721530           0.1        1986.0   \n",
       "3               3         1      65.274172           0.2         629.0   \n",
       "5               2         2      26.016667           0.1         417.0   \n",
       "7               2         3      52.247843           0.1         417.0   \n",
       "9               2         4      43.288872           0.1        2710.0   \n",
       "11              2         5      20.820000           0.8          70.0   \n",
       "13              2         6      52.956395           0.1        1158.0   \n",
       "15              2         7       5.825000           1.7          11.8   \n",
       "17              1         8      46.823977           0.1         817.0   \n",
       "19              1         9      96.972904           0.1        3503.0   \n",
       "\n",
       "    game_counts   min_max  random_prediction  \n",
       "1           562  0.412256           2.088341  \n",
       "3           151  0.414122           0.200003  \n",
       "5            54  0.106500           0.627496  \n",
       "7           255  0.086352           1.654936  \n",
       "9           665  0.009742           1.304388  \n",
       "11           20  0.333815           1.349870  \n",
       "13          172  0.020727           0.933534  \n",
       "15            8  1.722772           2.033377  \n",
       "17          171  0.011752           0.444031  \n",
       "19         1181  0.002312           2.324478  "
      ]
     },
     "execution_count": 6,
     "metadata": {},
     "output_type": "execute_result"
    }
   ],
   "source": [
    "steam_df_random_predictions.head(10)"
   ]
  },
  {
   "cell_type": "code",
   "execution_count": 7,
   "metadata": {},
   "outputs": [
    {
     "name": "stdout",
     "output_type": "stream",
     "text": [
      "Training size:  29069\n",
      "Test size:  28720\n"
     ]
    }
   ],
   "source": [
    "spark = SparkSession.builder.getOrCreate()\n",
    "spark_df = spark.createDataFrame(steam_df_random_predictions)\n",
    "spark_df.count()\n",
    "train, test = spark_df.randomSplit([0.5, 0.5], seed=427471138)\n",
    "print('Training size: ', train.count())\n",
    "print('Test size: ', test.count())"
   ]
  },
  {
   "cell_type": "code",
   "execution_count": 8,
   "metadata": {},
   "outputs": [
    {
     "data": {
      "text/plain": [
       "0.7367555831067734"
      ]
     },
     "execution_count": 8,
     "metadata": {},
     "output_type": "execute_result"
    }
   ],
   "source": [
    "als_model = ALS(\n",
    "    itemCol='game_uid',\n",
    "    userCol='uid',\n",
    "    ratingCol='min_max',\n",
    "    nonnegative=True,    \n",
    "    regParam=0.1,\n",
    "    coldStartStrategy=\"drop\", # Drops if user or item in test was not in train\n",
    "    rank=10) \n",
    "\n",
    "fitted_als_model = als_model.fit(train)\n",
    "\n",
    "predictions = fitted_als_model.transform(test)\n",
    "evaluator = RegressionEvaluator() \\\n",
    "    .setMetricName(\"rmse\") \\\n",
    "    .setLabelCol(\"min_max\") \\\n",
    "    .setPredictionCol(\"prediction\")\n",
    "rmse = evaluator.evaluate(predictions)\n",
    "rmse"
   ]
  },
  {
   "cell_type": "code",
   "execution_count": 9,
   "metadata": {
    "collapsed": true
   },
   "outputs": [],
   "source": [
    "# Random RMSE\n",
    "# Would need multiple random models to be confident since it will be... random\n",
    "\n",
    "prediction_count = predictions.count() # less than test item count (NaNs)\n",
    "predictions_rdd = predictions.rdd\n",
    "random_SSE = predictions_rdd.map(lambda r: (r['min_max'] - r['random_prediction'])**2) \\\n",
    "    .reduce(lambda total, x: total + x)\n",
    "random_rmse = math.sqrt(random_SSE / prediction_count)"
   ]
  },
  {
   "cell_type": "code",
   "execution_count": 10,
   "metadata": {},
   "outputs": [
    {
     "name": "stdout",
     "output_type": "stream",
     "text": [
      "Random RMSE:  1.5662927061617042\n",
      "% Increase in Random Model RMSE:  112.59325915888057\n"
     ]
    }
   ],
   "source": [
    "print('Random RMSE: ', random_rmse)\n",
    "print('% Increase in Random Model RMSE: ', ((random_rmse / rmse) - 1) * 100)"
   ]
  },
  {
   "cell_type": "code",
   "execution_count": 11,
   "metadata": {
    "collapsed": true
   },
   "outputs": [],
   "source": [
    "# Huge RMSE difference and rmse value\n",
    "# mean that model may be useful to predict # hours played for a given game"
   ]
  },
  {
   "cell_type": "code",
   "execution_count": 12,
   "metadata": {},
   "outputs": [
    {
     "name": "stdout",
     "output_type": "stream",
     "text": [
      "x:  [[0.42567567567567566, 0.008724773302674294], [0.0006331785563528914, 0.000634816475212574]]\n"
     ]
    }
   ],
   "source": [
    "# For NDCG Calculation\n",
    "# fitted_als_model.recommendForAllUsers(n) may be an interesting alternative on train\n",
    "# predictions.groupBy('user_id') may be more efficient - df is more efficient than rdd\n",
    "\n",
    "test_point = (309404240,\n",
    "  [(0.0006331785563528914, 0.000634816475212574),\n",
    "   (0.42567567567567566, 0.008724773302674294)])\n",
    "\n",
    "def sort_predictions_slice(arr, n):\n",
    "    actual_and_pred = np.array(arr)\n",
    "    # sort by predictions\n",
    "    indeces = np.argsort(actual_and_pred[:, 1])\n",
    "    return actual_and_pred[indeces[::-1]][:n].tolist()\n",
    "\n",
    "# lambda functions in rdds cant import modules\n",
    "def dcg_at_k(scores, k):\n",
    "    \"\"\"\n",
    "    Discounted cumulative gain\n",
    "    See http://fastml.com/evaluating-recommender-systems/\n",
    "    Args:\n",
    "        r: List - Relevance scores in rank order\n",
    "        k: Number of results to consider\n",
    "    Returns:\n",
    "        Float\n",
    "    \"\"\"\n",
    "    r = np.asfarray(scores)[:k]\n",
    "    if r.size:\n",
    "        # item 1 and 2 have same weights\n",
    "        return r[0] + np.sum(r[1:] / np.log2(np.arange(2, r.size + 1)))\n",
    "        # use below for more emphasis on first rank\n",
    "        # return np.sum(r / np.log2(np.arange(2, r.size + 2)))\n",
    "    return 0.\n",
    "\n",
    "def ndcg_at_k(scores, k):\n",
    "    \"\"\"\n",
    "    Normalized Discounted cumulative gain\n",
    "    See http://fastml.com/evaluating-recommender-systems/\n",
    "    Args:\n",
    "        r: List - Relevance scores in rank order\n",
    "        k: Number of results to consider\n",
    "    Returns:\n",
    "        Float from 0 to 1\n",
    "    \"\"\"\n",
    "    dcg_max = dcg_at_k(sorted(scores, reverse=True), k)\n",
    "    if not dcg_max:\n",
    "        return 0.\n",
    "    return dcg_at_k(scores, k) / dcg_max\n",
    "\n",
    "x = sort_predictions_slice(test_point[1], 3)\n",
    "print('x: ', x)"
   ]
  },
  {
   "cell_type": "code",
   "execution_count": 13,
   "metadata": {},
   "outputs": [
    {
     "data": {
      "text/plain": [
       "1573.6568822738438"
      ]
     },
     "execution_count": 13,
     "metadata": {},
     "output_type": "execute_result"
    }
   ],
   "source": [
    "# use actual values for gain\n",
    "sampled = predictions_rdd.sample(False, 1, 1)\n",
    "ndcg = sampled.map(lambda row: (row['uid'], [(row['min_max'], row['prediction'])])) \\\n",
    "    .reduceByKey(lambda total, val: total + val) \\\n",
    "    .map(lambda kv: (kv[0], sort_predictions_slice(kv[1], 1000))) \\\n",
    "    .map(lambda kv: ndcg_at_k(np.array(kv[1])[:, 0], 3)) \\\n",
    "    .reduce(lambda total, gain: total + gain) \n",
    "average_ndcg = ndcg / prediction_count\n",
    "ndcg"
   ]
  },
  {
   "cell_type": "code",
   "execution_count": 14,
   "metadata": {},
   "outputs": [
    {
     "data": {
      "text/plain": [
       "1301.6262041264006"
      ]
     },
     "execution_count": 14,
     "metadata": {},
     "output_type": "execute_result"
    }
   ],
   "source": [
    "# use actual values for gain\n",
    "sampled = predictions_rdd.sample(False, 1, 1)\n",
    "random_ndcg = sampled.map(lambda row: (row['uid'], [(row['min_max'], row['random_prediction'])])) \\\n",
    "    .reduceByKey(lambda total, val: total + val) \\\n",
    "    .map(lambda kv: (kv[0], sort_predictions_slice(kv[1], 1000))) \\\n",
    "    .map(lambda kv: ndcg_at_k(np.array(kv[1])[:, 0], 3)) \\\n",
    "    .reduce(lambda total, gain: total + gain) \n",
    "average_random_dcg = random_ndcg / prediction_count\n",
    "random_ndcg"
   ]
  },
  {
   "cell_type": "code",
   "execution_count": 15,
   "metadata": {},
   "outputs": [
    {
     "name": "stdout",
     "output_type": "stream",
     "text": [
      "Increase in average cumulative gain:  20.8992933059\n"
     ]
    }
   ],
   "source": [
    "# 7.4% with 80/20 split\n",
    "# 20% with 50/50 split\n",
    "print('Increase in average cumulative gain: ', (ndcg / random_ndcg - 1) * 100)"
   ]
  },
  {
   "cell_type": "markdown",
   "metadata": {},
   "source": [
    "## With small number of test items, we can randomly guess their order\n",
    "More data is needed"
   ]
  },
  {
   "cell_type": "code",
   "execution_count": 17,
   "metadata": {},
   "outputs": [
    {
     "data": {
      "text/plain": [
       "[(64350600, 3), (163432200, 38)]"
      ]
     },
     "execution_count": 17,
     "metadata": {},
     "output_type": "execute_result"
    }
   ],
   "source": [
    "# use actual values for gain\n",
    "sampled = predictions_rdd.sample(False, 1, 1)\n",
    "average_value_count = sampled.map(lambda row: (row['uid'], 1)) \\\n",
    "    .reduceByKey(lambda total, val: total + val)\n",
    "#     .reduce(lambda total, gain: total + gain) \n",
    "average_value_count.take(2)"
   ]
  },
  {
   "cell_type": "code",
   "execution_count": 24,
   "metadata": {},
   "outputs": [
    {
     "data": {
      "text/plain": [
       "[6.0]"
      ]
     },
     "execution_count": 24,
     "metadata": {},
     "output_type": "execute_result"
    }
   ],
   "source": [
    "# TODO Median\n",
    "med = predictions.groupby('uid').count().approxQuantile(\"count\", [0.5], 0.25)\n",
    "med"
   ]
  },
  {
   "cell_type": "code",
   "execution_count": 125,
   "metadata": {
    "collapsed": true
   },
   "outputs": [],
   "source": [
    "unique_users_in_predictions = predictions.groupby('uid').count().count()"
   ]
  },
  {
   "cell_type": "code",
   "execution_count": 126,
   "metadata": {},
   "outputs": [
    {
     "name": "stdout",
     "output_type": "stream",
     "text": [
      "Average number of predictions per user:  5.345505617977528\n"
     ]
    }
   ],
   "source": [
    "print(\"Average number of predictions per user: \", prediction_count / unique_users_in_predictions)"
   ]
  },
  {
   "cell_type": "markdown",
   "metadata": {},
   "source": [
    "# MAP will weight first higher\n",
    "Skewed by useless data (like 1 recommendation).  \n",
    "Imagine 1000 things with 1 rec and 1 thing with many ranks ranked well.   \n",
    "Really anything that cannot be predicted well will improve real vs random recommendation"
   ]
  }
 ],
 "metadata": {
  "kernelspec": {
   "display_name": "Python 3",
   "language": "python",
   "name": "python3"
  },
  "language_info": {
   "codemirror_mode": {
    "name": "ipython",
    "version": 3
   },
   "file_extension": ".py",
   "mimetype": "text/x-python",
   "name": "python",
   "nbconvert_exporter": "python",
   "pygments_lexer": "ipython3",
   "version": "3.6.3"
  }
 },
 "nbformat": 4,
 "nbformat_minor": 2
}
