{
 "cells": [
  {
   "cell_type": "markdown",
   "metadata": {},
   "source": [
    "# Initial Model\n",
    "\n",
    "## Considering Normalization\n",
    "### Comparing to min / max normalization to bucketization"
   ]
  },
  {
   "cell_type": "code",
   "execution_count": 2,
   "metadata": {},
   "outputs": [
    {
     "name": "stdout",
     "output_type": "stream",
     "text": [
      "The autoreload extension is already loaded. To reload it, use:\n",
      "  %reload_ext autoreload\n"
     ]
    }
   ],
   "source": [
    "import math\n",
    "import pandas as pd\n",
    "import numpy as np\n",
    "import matplotlib.pyplot as plt\n",
    "%matplotlib inline\n",
    "\n",
    "import warnings\n",
    "warnings.filterwarnings(\"ignore\")\n",
    "\n",
    "import pyspark\n",
    "from pyspark.sql import SparkSession\n",
    "from pyspark.ml.recommendation import ALS\n",
    "from pyspark.ml.evaluation import RegressionEvaluator\n",
    "\n",
    "import os, sys\n",
    "sys.path.append(os.path.dirname(os.path.dirname(os.path.abspath('__file__'))))\n",
    "from src import EDA, ModelEvaluation, Split\n",
    "%load_ext autoreload\n",
    "%autoreload 2"
   ]
  },
  {
   "cell_type": "markdown",
   "metadata": {
    "collapsed": true
   },
   "source": [
    "![caption](../figures/user_dropoff_5.png)"
   ]
  },
  {
   "cell_type": "code",
   "execution_count": 8,
   "metadata": {
    "scrolled": false
   },
   "outputs": [
    {
     "data": {
      "text/html": [
       "<div>\n",
       "<style>\n",
       "    .dataframe thead tr:only-child th {\n",
       "        text-align: right;\n",
       "    }\n",
       "\n",
       "    .dataframe thead th {\n",
       "        text-align: left;\n",
       "    }\n",
       "\n",
       "    .dataframe tbody tr th {\n",
       "        vertical-align: top;\n",
       "    }\n",
       "</style>\n",
       "<table border=\"1\" class=\"dataframe\">\n",
       "  <thead>\n",
       "    <tr style=\"text-align: right;\">\n",
       "      <th></th>\n",
       "      <th>uid</th>\n",
       "      <th>game_name</th>\n",
       "      <th>playtime</th>\n",
       "    </tr>\n",
       "  </thead>\n",
       "  <tbody>\n",
       "    <tr>\n",
       "      <th>1</th>\n",
       "      <td>151603712</td>\n",
       "      <td>The Elder Scrolls V Skyrim</td>\n",
       "      <td>273.0</td>\n",
       "    </tr>\n",
       "    <tr>\n",
       "      <th>3</th>\n",
       "      <td>151603712</td>\n",
       "      <td>Fallout 4</td>\n",
       "      <td>87.0</td>\n",
       "    </tr>\n",
       "  </tbody>\n",
       "</table>\n",
       "</div>"
      ],
      "text/plain": [
       "         uid                   game_name  playtime\n",
       "1  151603712  The Elder Scrolls V Skyrim     273.0\n",
       "3  151603712                   Fallout 4      87.0"
      ]
     },
     "execution_count": 8,
     "metadata": {},
     "output_type": "execute_result"
    }
   ],
   "source": [
    "steam_df = EDA.load_without_cold_start(5)\n",
    "steam_df.head(2)"
   ]
  },
  {
   "cell_type": "markdown",
   "metadata": {},
   "source": [
    "## Some normalization can be done for played time"
   ]
  },
  {
   "cell_type": "code",
   "execution_count": 9,
   "metadata": {},
   "outputs": [
    {
     "data": {
      "text/html": [
       "<div>\n",
       "<style>\n",
       "    .dataframe thead tr:only-child th {\n",
       "        text-align: right;\n",
       "    }\n",
       "\n",
       "    .dataframe thead th {\n",
       "        text-align: left;\n",
       "    }\n",
       "\n",
       "    .dataframe tbody tr th {\n",
       "        vertical-align: top;\n",
       "    }\n",
       "</style>\n",
       "<table border=\"1\" class=\"dataframe\">\n",
       "  <thead>\n",
       "    <tr style=\"text-align: right;\">\n",
       "      <th></th>\n",
       "      <th>uid</th>\n",
       "      <th>game_name</th>\n",
       "      <th>playtime</th>\n",
       "      <th>playtime_rank</th>\n",
       "    </tr>\n",
       "  </thead>\n",
       "  <tbody>\n",
       "    <tr>\n",
       "      <th>1</th>\n",
       "      <td>151603712</td>\n",
       "      <td>The Elder Scrolls V Skyrim</td>\n",
       "      <td>273.0</td>\n",
       "      <td>3</td>\n",
       "    </tr>\n",
       "    <tr>\n",
       "      <th>3</th>\n",
       "      <td>151603712</td>\n",
       "      <td>Fallout 4</td>\n",
       "      <td>87.0</td>\n",
       "      <td>3</td>\n",
       "    </tr>\n",
       "  </tbody>\n",
       "</table>\n",
       "</div>"
      ],
      "text/plain": [
       "         uid                   game_name  playtime  playtime_rank\n",
       "1  151603712  The Elder Scrolls V Skyrim     273.0              3\n",
       "3  151603712                   Fallout 4      87.0              3"
      ]
     },
     "execution_count": 9,
     "metadata": {},
     "output_type": "execute_result"
    }
   ],
   "source": [
    "steam_df[\"playtime_rank\"] = steam_df['playtime'].map(lambda value: EDA.rank_playtime(value))\n",
    "steam_df.head(2)"
   ]
  },
  {
   "cell_type": "code",
   "execution_count": 51,
   "metadata": {},
   "outputs": [
    {
     "data": {
      "text/html": [
       "<div>\n",
       "<style>\n",
       "    .dataframe thead tr:only-child th {\n",
       "        text-align: right;\n",
       "    }\n",
       "\n",
       "    .dataframe thead th {\n",
       "        text-align: left;\n",
       "    }\n",
       "\n",
       "    .dataframe tbody tr th {\n",
       "        vertical-align: top;\n",
       "    }\n",
       "</style>\n",
       "<table border=\"1\" class=\"dataframe\">\n",
       "  <thead>\n",
       "    <tr style=\"text-align: right;\">\n",
       "      <th></th>\n",
       "      <th>uid</th>\n",
       "      <th>game_name</th>\n",
       "      <th>playtime</th>\n",
       "      <th>playtime_rank</th>\n",
       "      <th>game_uid</th>\n",
       "      <th>playtime_mean</th>\n",
       "      <th>playtime_min</th>\n",
       "      <th>playtime_max</th>\n",
       "      <th>game_counts</th>\n",
       "      <th>min_max</th>\n",
       "    </tr>\n",
       "  </thead>\n",
       "  <tbody>\n",
       "    <tr>\n",
       "      <th>1</th>\n",
       "      <td>151603712</td>\n",
       "      <td>The Elder Scrolls V Skyrim</td>\n",
       "      <td>273.0</td>\n",
       "      <td>3</td>\n",
       "      <td>0</td>\n",
       "      <td>105.721530</td>\n",
       "      <td>0.1</td>\n",
       "      <td>1986.0</td>\n",
       "      <td>562</td>\n",
       "      <td>0.412256</td>\n",
       "    </tr>\n",
       "    <tr>\n",
       "      <th>3</th>\n",
       "      <td>151603712</td>\n",
       "      <td>Fallout 4</td>\n",
       "      <td>87.0</td>\n",
       "      <td>3</td>\n",
       "      <td>1</td>\n",
       "      <td>65.274172</td>\n",
       "      <td>0.2</td>\n",
       "      <td>629.0</td>\n",
       "      <td>151</td>\n",
       "      <td>0.414122</td>\n",
       "    </tr>\n",
       "  </tbody>\n",
       "</table>\n",
       "</div>"
      ],
      "text/plain": [
       "         uid                   game_name  playtime  playtime_rank  game_uid  \\\n",
       "1  151603712  The Elder Scrolls V Skyrim     273.0              3         0   \n",
       "3  151603712                   Fallout 4      87.0              3         1   \n",
       "\n",
       "   playtime_mean  playtime_min  playtime_max  game_counts   min_max  \n",
       "1     105.721530           0.1        1986.0          562  0.412256  \n",
       "3      65.274172           0.2         629.0          151  0.414122  "
      ]
     },
     "execution_count": 51,
     "metadata": {},
     "output_type": "execute_result"
    }
   ],
   "source": [
    "with_summaries_df = EDA.add_summaries(steam_df)\n",
    "with_summaries_df.head(2)"
   ]
  },
  {
   "cell_type": "markdown",
   "metadata": {},
   "source": [
    "### Game names need to be changed to IDs for Spark ML model"
   ]
  },
  {
   "cell_type": "code",
   "execution_count": 52,
   "metadata": {},
   "outputs": [
    {
     "data": {
      "text/plain": [
       "True"
      ]
     },
     "execution_count": 52,
     "metadata": {},
     "output_type": "execute_result"
    }
   ],
   "source": [
    "# fitting ALS must have numbers for itemCol and userCol\n",
    "steam_df = EDA.get_uids(with_summaries_df, from_column='game_name', to_column='game_uid')\n",
    "steam_df['game_uid'].value_counts().size == steam_df['game_name'].value_counts().size"
   ]
  },
  {
   "cell_type": "markdown",
   "metadata": {},
   "source": [
    "### User and Item Counts"
   ]
  },
  {
   "cell_type": "code",
   "execution_count": 53,
   "metadata": {},
   "outputs": [
    {
     "name": "stdout",
     "output_type": "stream",
     "text": [
      "Number of users:  2436\n",
      "Number of games:  3544\n"
     ]
    }
   ],
   "source": [
    "print('Number of users: ', steam_df['uid'].value_counts().size)\n",
    "print('Number of games: ', steam_df['game_name'].value_counts().size)"
   ]
  },
  {
   "cell_type": "code",
   "execution_count": 119,
   "metadata": {},
   "outputs": [
    {
     "data": {
      "text/plain": [
       "uid              9.276618e+07\n",
       "playtime         4.058039e+01\n",
       "playtime_rank    1.455035e+00\n",
       "game_uid         6.333881e+02\n",
       "playtime_mean    4.058039e+01\n",
       "playtime_min     4.687449e-01\n",
       "playtime_max     8.067901e+02\n",
       "game_counts      1.681010e+02\n",
       "min_max          4.541064e-01\n",
       "dtype: float64"
      ]
     },
     "execution_count": 119,
     "metadata": {},
     "output_type": "execute_result"
    }
   ],
   "source": [
    "# delete?\n",
    "with_summaries_df.mean()"
   ]
  },
  {
   "cell_type": "markdown",
   "metadata": {},
   "source": [
    "##### We will use Co-clustering instead of relying only on user-user or item-item similarity"
   ]
  },
  {
   "cell_type": "markdown",
   "metadata": {},
   "source": [
    "# Spark ALS Model Building"
   ]
  },
  {
   "cell_type": "markdown",
   "metadata": {},
   "source": [
    "### Simple train test split"
   ]
  },
  {
   "cell_type": "code",
   "execution_count": 71,
   "metadata": {},
   "outputs": [
    {
     "name": "stdout",
     "output_type": "stream",
     "text": [
      "Training size:  46128\n",
      "Test size:  11661\n"
     ]
    }
   ],
   "source": [
    "spark = SparkSession.builder.getOrCreate()\n",
    "spark_df = spark.createDataFrame(steam_df)\n",
    "spark_df.count()\n",
    "train, test = spark_df.randomSplit([0.8, 0.2], seed=427471138)\n",
    "\n",
    "print('Training size: ', train.count())\n",
    "print('Test size: ', test.count())"
   ]
  },
  {
   "cell_type": "code",
   "execution_count": 72,
   "metadata": {
    "collapsed": true
   },
   "outputs": [],
   "source": [
    "als_rank_model = ALS(\n",
    "    itemCol='game_uid',\n",
    "    userCol='uid',\n",
    "    ratingCol='playtime_rank',\n",
    "    nonnegative=True,    \n",
    "    regParam=0.1,\n",
    "    coldStartStrategy=\"drop\", # Drops if user or item in test was not in train\n",
    "    rank=10) \n",
    "fitted_als_rank_model = als_rank_model.fit(train)"
   ]
  },
  {
   "cell_type": "code",
   "execution_count": 73,
   "metadata": {
    "collapsed": true
   },
   "outputs": [],
   "source": [
    "# one_row_pandas_df = pd.DataFrame({'uid': [151603712], 'game_uid': [1]})\n",
    "# one_row_spark_df = spark.createDataFrame(one_row_pandas_df)\n",
    "# fitted_als_rank_model.transform(one_row_spark_df).show()\n",
    "# steam_df[steam_df['uid'] == 151603712]"
   ]
  },
  {
   "cell_type": "markdown",
   "metadata": {},
   "source": [
    "## RMSE"
   ]
  },
  {
   "cell_type": "code",
   "execution_count": 82,
   "metadata": {
    "collapsed": true
   },
   "outputs": [],
   "source": [
    "rank_predictions = fitted_als_rank_model.transform(test)\n",
    "evaluator = RegressionEvaluator() \\\n",
    "    .setMetricName(\"rmse\") \\\n",
    "    .setLabelCol(\"playtime_rank\") \\\n",
    "    .setPredictionCol(\"prediction\")\n",
    "rmse = evaluator.evaluate(rank_predictions)"
   ]
  },
  {
   "cell_type": "code",
   "execution_count": 83,
   "metadata": {},
   "outputs": [
    {
     "data": {
      "text/plain": [
       "1.0060683366599708"
      ]
     },
     "execution_count": 83,
     "metadata": {},
     "output_type": "execute_result"
    }
   ],
   "source": [
    "rmse\n",
    "# was 1.046 without restricting to 5+\n",
    "# was 1.005 with 5+, without min_max hours played\n",
    "# was 1.015 with 5+, 2+ users, without normalizing hours played\n",
    "# was 1.03 using 1-4 instead of 0-3"
   ]
  },
  {
   "cell_type": "code",
   "execution_count": 78,
   "metadata": {},
   "outputs": [
    {
     "data": {
      "text/html": [
       "<div>\n",
       "<style>\n",
       "    .dataframe thead tr:only-child th {\n",
       "        text-align: right;\n",
       "    }\n",
       "\n",
       "    .dataframe thead th {\n",
       "        text-align: left;\n",
       "    }\n",
       "\n",
       "    .dataframe tbody tr th {\n",
       "        vertical-align: top;\n",
       "    }\n",
       "</style>\n",
       "<table border=\"1\" class=\"dataframe\">\n",
       "  <thead>\n",
       "    <tr style=\"text-align: right;\">\n",
       "      <th></th>\n",
       "      <th>uid</th>\n",
       "      <th>game_name</th>\n",
       "      <th>playtime</th>\n",
       "      <th>playtime_rank</th>\n",
       "      <th>game_uid</th>\n",
       "      <th>playtime_mean</th>\n",
       "      <th>playtime_min</th>\n",
       "      <th>playtime_max</th>\n",
       "      <th>game_counts</th>\n",
       "      <th>min_max</th>\n",
       "    </tr>\n",
       "  </thead>\n",
       "  <tbody>\n",
       "    <tr>\n",
       "      <th>1</th>\n",
       "      <td>151603712</td>\n",
       "      <td>The Elder Scrolls V Skyrim</td>\n",
       "      <td>273.0</td>\n",
       "      <td>3</td>\n",
       "      <td>0</td>\n",
       "      <td>105.721530</td>\n",
       "      <td>0.1</td>\n",
       "      <td>1986.0</td>\n",
       "      <td>562</td>\n",
       "      <td>0.412256</td>\n",
       "    </tr>\n",
       "    <tr>\n",
       "      <th>3</th>\n",
       "      <td>151603712</td>\n",
       "      <td>Fallout 4</td>\n",
       "      <td>87.0</td>\n",
       "      <td>3</td>\n",
       "      <td>1</td>\n",
       "      <td>65.274172</td>\n",
       "      <td>0.2</td>\n",
       "      <td>629.0</td>\n",
       "      <td>151</td>\n",
       "      <td>0.414122</td>\n",
       "    </tr>\n",
       "  </tbody>\n",
       "</table>\n",
       "</div>"
      ],
      "text/plain": [
       "         uid                   game_name  playtime  playtime_rank  game_uid  \\\n",
       "1  151603712  The Elder Scrolls V Skyrim     273.0              3         0   \n",
       "3  151603712                   Fallout 4      87.0              3         1   \n",
       "\n",
       "   playtime_mean  playtime_min  playtime_max  game_counts   min_max  \n",
       "1     105.721530           0.1        1986.0          562  0.412256  \n",
       "3      65.274172           0.2         629.0          151  0.414122  "
      ]
     },
     "execution_count": 78,
     "metadata": {},
     "output_type": "execute_result"
    }
   ],
   "source": [
    "with_summaries_df.head(2)\n",
    "# TODO drop some columns here"
   ]
  },
  {
   "cell_type": "code",
   "execution_count": 61,
   "metadata": {
    "collapsed": true
   },
   "outputs": [],
   "source": [
    "# spark_df = spark.createDataFrame(with_summaries_df)\n",
    "# spark_df.count()\n",
    "# # train, test = spark_df.randomSplit([0.8, 0.2], seed=427471138)\n",
    "# print('Training size: ', train.count())\n",
    "# print('Test size: ', test.count())"
   ]
  },
  {
   "cell_type": "code",
   "execution_count": 113,
   "metadata": {},
   "outputs": [
    {
     "data": {
      "text/plain": [
       "0.7654772700522948"
      ]
     },
     "execution_count": 113,
     "metadata": {},
     "output_type": "execute_result"
    }
   ],
   "source": [
    "als_min_max_model = ALS(\n",
    "    itemCol='game_uid',\n",
    "    userCol='uid',\n",
    "    ratingCol='min_max',\n",
    "    nonnegative=True,    \n",
    "    regParam=0.1,\n",
    "    coldStartStrategy=\"drop\", # Drops if user or item in test was not in train\n",
    "    rank=10) \n",
    "\n",
    "fitted_als_min_max_model = als_min_max_model.fit(train)\n",
    "\n",
    "min_max_predictions = fitted_als_min_max_model.transform(test)\n",
    "evaluator = RegressionEvaluator() \\\n",
    "    .setMetricName(\"rmse\") \\\n",
    "    .setLabelCol(\"min_max\") \\\n",
    "    .setPredictionCol(\"prediction\")\n",
    "min_max_rmse = evaluator.evaluate(min_max_predictions)\n",
    "min_max_rmse"
   ]
  },
  {
   "cell_type": "markdown",
   "metadata": {},
   "source": [
    "## Normalizing makes a  difference on predictions"
   ]
  },
  {
   "cell_type": "code",
   "execution_count": 64,
   "metadata": {},
   "outputs": [
    {
     "name": "stdout",
     "output_type": "stream",
     "text": [
      "+--------+---------+-----------+\n",
      "|game_uid|      uid| prediction|\n",
      "+--------+---------+-----------+\n",
      "|       1|151603712|0.041270062|\n",
      "+--------+---------+-----------+\n",
      "\n"
     ]
    },
    {
     "data": {
      "text/html": [
       "<div>\n",
       "<style>\n",
       "    .dataframe thead tr:only-child th {\n",
       "        text-align: right;\n",
       "    }\n",
       "\n",
       "    .dataframe thead th {\n",
       "        text-align: left;\n",
       "    }\n",
       "\n",
       "    .dataframe tbody tr th {\n",
       "        vertical-align: top;\n",
       "    }\n",
       "</style>\n",
       "<table border=\"1\" class=\"dataframe\">\n",
       "  <thead>\n",
       "    <tr style=\"text-align: right;\">\n",
       "      <th></th>\n",
       "      <th>uid</th>\n",
       "      <th>game_name</th>\n",
       "      <th>playtime</th>\n",
       "      <th>playtime_rank</th>\n",
       "      <th>game_uid</th>\n",
       "      <th>playtime_mean</th>\n",
       "      <th>playtime_min</th>\n",
       "      <th>playtime_max</th>\n",
       "      <th>game_counts</th>\n",
       "      <th>min_max</th>\n",
       "    </tr>\n",
       "  </thead>\n",
       "  <tbody>\n",
       "    <tr>\n",
       "      <th>3</th>\n",
       "      <td>151603712</td>\n",
       "      <td>Fallout 4</td>\n",
       "      <td>87.0</td>\n",
       "      <td>3</td>\n",
       "      <td>1</td>\n",
       "      <td>65.274172</td>\n",
       "      <td>0.2</td>\n",
       "      <td>629.0</td>\n",
       "      <td>151</td>\n",
       "      <td>0.414122</td>\n",
       "    </tr>\n",
       "  </tbody>\n",
       "</table>\n",
       "</div>"
      ],
      "text/plain": [
       "         uid  game_name  playtime  playtime_rank  game_uid  playtime_mean  \\\n",
       "3  151603712  Fallout 4      87.0              3         1      65.274172   \n",
       "\n",
       "   playtime_min  playtime_max  game_counts   min_max  \n",
       "3           0.2         629.0          151  0.414122  "
      ]
     },
     "execution_count": 64,
     "metadata": {},
     "output_type": "execute_result"
    }
   ],
   "source": [
    "# make sure we are using training point example\n",
    "\n",
    "one_row_pandas_df = pd.DataFrame({'uid': [151603712], 'game_uid': [1]})\n",
    "one_row_spark_df = spark.createDataFrame(one_row_pandas_df)\n",
    "fitted_als_rank_model.transform(one_row_spark_df).show()\n",
    "with_summaries_df[(with_summaries_df['uid'] == 151603712) & (with_summaries_df['game_uid'] == 1)]"
   ]
  },
  {
   "cell_type": "markdown",
   "metadata": {
    "collapsed": true
   },
   "source": [
    "# NDCG"
   ]
  },
  {
   "cell_type": "code",
   "execution_count": 103,
   "metadata": {},
   "outputs": [
    {
     "name": "stdout",
     "output_type": "stream",
     "text": [
      "11418\n",
      "11418\n"
     ]
    }
   ],
   "source": [
    "rank_prediction_count = rank_predictions.count()\n",
    "min_max_prediction_count = min_max_predictions.count()\n",
    "rank_predictions_rdd = rank_predictions.rdd\n",
    "min_max_predictions_rdd = min_max_predictions.rdd\n",
    "print(rank_prediction_count)\n",
    "print(min_max_prediction_count)"
   ]
  },
  {
   "cell_type": "code",
   "execution_count": 66,
   "metadata": {},
   "outputs": [
    {
     "name": "stdout",
     "output_type": "stream",
     "text": [
      "x:  [[0.42567567567567566, 0.008724773302674294], [0.0006331785563528914, 0.000634816475212574]]\n"
     ]
    }
   ],
   "source": [
    "# For NDCG Calculation\n",
    "# fitted_als_rank_model.recommendForAllUsers(n) may be interesting to compare\n",
    "# predictions.groupBy('user_id') may be more efficient - df is more efficient than rdd\n",
    "\n",
    "test = (309404240,\n",
    "  [(0.0006331785563528914, 0.000634816475212574),\n",
    "   (0.42567567567567566, 0.008724773302674294)])\n",
    "\n",
    "def do_sort(arr):\n",
    "    actual_and_pred = np.array(arr)\n",
    "    indeces = np.argsort(actual_and_pred[:, 1])\n",
    "    return actual_and_pred[indeces[::-1]].tolist()\n",
    "    \n",
    "def sort_predictions_slice_relevance(arr, n):\n",
    "    actual_and_pred = np.array(arr)\n",
    "    indeces = np.argsort(actual_and_pred[:, 1])\n",
    "    return actual_and_pred[indeces[::-1]][:n].tolist()\n",
    "\n",
    "# lambda functions in rdds cant import modules\n",
    "def dcg_at_k(scores, k):\n",
    "    \"\"\"\n",
    "    Discounted cumulative gain\n",
    "    See http://fastml.com/evaluating-recommender-systems/\n",
    "    Args:\n",
    "        r: List - Relevance scores in rank order\n",
    "        k: Number of results to consider\n",
    "    Returns:\n",
    "        Float\n",
    "    \"\"\"\n",
    "    r = np.asfarray(scores)[:k]\n",
    "    if r.size:\n",
    "        # item 1 and 2 have same weights\n",
    "        return r[0] + np.sum(r[1:] / np.log2(np.arange(2, r.size + 1)))\n",
    "        # use below for more emphasis on first rank\n",
    "        # return np.sum(r / np.log2(np.arange(2, r.size + 2)))\n",
    "    return 0.\n",
    "\n",
    "def ndcg_at_k(scores, k, method=0):\n",
    "    \"\"\"\n",
    "    Normalized Discounted cumulative gain\n",
    "    See http://fastml.com/evaluating-recommender-systems/\n",
    "    Args:\n",
    "        r: List - Relevance scores in rank order\n",
    "        k: Number of results to consider\n",
    "    Returns:\n",
    "        Float from 0 to 1\n",
    "    \"\"\"\n",
    "    dcg_max = dcg_at_k(sorted(scores, reverse=True), k)\n",
    "    if not dcg_max:\n",
    "        return 0.\n",
    "    return dcg_at_k(scores, k) / dcg_max\n",
    "\n",
    "do_sort(test[1])\n",
    "x = sort_predictions_slice_relevance(test[1], 3)\n",
    "print('x: ', x)"
   ]
  },
  {
   "cell_type": "code",
   "execution_count": 110,
   "metadata": {},
   "outputs": [
    {
     "data": {
      "text/plain": [
       "0.15631623239587861"
      ]
     },
     "execution_count": 110,
     "metadata": {},
     "output_type": "execute_result"
    }
   ],
   "source": [
    "# use actual values for gain\n",
    "rank_sampled = rank_predictions_rdd.sample(False, 1, 1)\n",
    "rank_ndcg = rank_sampled.map(lambda row: (row['uid'], [(row['playtime_rank'], row['prediction'])])) \\\n",
    "    .reduceByKey(lambda total, val: total + val) \\\n",
    "    .map(lambda kv: (kv[0], sort_predictions_slice_relevance(kv[1], 1000))) \\\n",
    "    .map(lambda kv: ndcg_at_k(np.array(kv[1])[:, 0], 5)) \\\n",
    "    .reduce(lambda total, gain: total + gain)\n",
    "rank_ndcg / prediction_count"
   ]
  },
  {
   "cell_type": "markdown",
   "metadata": {
    "collapsed": true
   },
   "source": [
    "### NDCGain is higher on min_max splits"
   ]
  },
  {
   "cell_type": "code",
   "execution_count": 111,
   "metadata": {},
   "outputs": [
    {
     "data": {
      "text/plain": [
       "0.15707517048126932"
      ]
     },
     "execution_count": 111,
     "metadata": {},
     "output_type": "execute_result"
    }
   ],
   "source": [
    "# use actual values for gain\n",
    "min_max_sampled = min_max_predictions_rdd.sample(False, 1, 1)\n",
    "min_max_ndcg = min_max_sampled.map(lambda row: (row['uid'], [(row['min_max'], row['prediction'])])) \\\n",
    "    .reduceByKey(lambda total, val: total + val) \\\n",
    "    .map(lambda kv: (kv[0], sort_predictions_slice_relevance(kv[1], 1000))) \\\n",
    "    .map(lambda kv: ndcg_at_k(np.array(kv[1])[:, 0], 5)) \\\n",
    "    .reduce(lambda total, gain: total + gain)\n",
    "min_max_ndcg / prediction_count"
   ]
  },
  {
   "cell_type": "code",
   "execution_count": 112,
   "metadata": {},
   "outputs": [
    {
     "data": {
      "text/plain": [
       "1.0048551457117305"
      ]
     },
     "execution_count": 112,
     "metadata": {},
     "output_type": "execute_result"
    }
   ],
   "source": [
    "min_max_ndcg / rank_ndcg"
   ]
  },
  {
   "cell_type": "code",
   "execution_count": 117,
   "metadata": {},
   "outputs": [
    {
     "data": {
      "text/plain": [
       "[Row(uid=61632730, game_name='H1Z1', playtime=418.0, playtime_rank=3, game_uid=463, playtime_mean=54.08468468468469, playtime_min=0.1, playtime_max=602.0, game_counts=111, min_max=2.082904136899817, prediction=1.8934279680252075),\n",
       " Row(uid=18074031, game_name='H1Z1', playtime=70.0, playtime_rank=3, game_uid=463, playtime_mean=54.08468468468469, playtime_min=0.1, playtime_max=602.0, game_counts=111, min_max=0.3483967436451238, prediction=1.4224703311920166),\n",
       " Row(uid=24919113, game_name='H1Z1', playtime=25.0, playtime_rank=2, game_uid=463, playtime_mean=54.08468468468469, playtime_min=0.1, playtime_max=602.0, game_counts=111, min_max=0.12410699451736168, prediction=1.2894067764282227),\n",
       " Row(uid=43684632, game_name='H1Z1', playtime=4.8, playtime_rank=1, game_uid=463, playtime_mean=54.08468468468469, playtime_min=0.1, playtime_max=602.0, game_counts=111, min_max=0.023425818242232933, prediction=1.7647634744644165),\n",
       " Row(uid=105159791, game_name='H1Z1', playtime=1.0, playtime_rank=0, game_uid=463, playtime_mean=54.08468468468469, playtime_min=0.1, playtime_max=602.0, game_counts=111, min_max=0.004485794982555242, prediction=2.5781753063201904),\n",
       " Row(uid=273082868, game_name='H1Z1', playtime=15.4, playtime_rank=2, game_uid=463, playtime_mean=54.08468468468469, playtime_min=0.1, playtime_max=602.0, game_counts=111, min_max=0.07625851470343911, prediction=1.2538163661956787),\n",
       " Row(uid=59115473, game_name='H1Z1', playtime=141.0, playtime_rank=3, game_uid=463, playtime_mean=54.08468468468469, playtime_min=0.1, playtime_max=602.0, game_counts=111, min_max=0.7022761256022596, prediction=1.9869016408920288),\n",
       " Row(uid=10450544, game_name='H1Z1', playtime=8.3, playtime_rank=2, game_uid=463, playtime_mean=54.08468468468469, playtime_min=0.1, playtime_max=602.0, game_counts=111, min_max=0.04087057650772554, prediction=1.8153064250946045),\n",
       " Row(uid=43913966, game_name='H1Z1', playtime=2.4, playtime_rank=1, game_uid=463, playtime_mean=54.08468468468469, playtime_min=0.1, playtime_max=602.0, game_counts=111, min_max=0.011463698288752284, prediction=1.7485612630844116),\n",
       " Row(uid=115008799, game_name='H1Z1', playtime=42.0, playtime_rank=3, game_uid=463, playtime_mean=54.08468468468469, playtime_min=0.1, playtime_max=602.0, game_counts=111, min_max=0.2088386775211829, prediction=1.8322314023971558),\n",
       " Row(uid=36978196, game_name='H1Z1', playtime=65.0, playtime_rank=3, game_uid=463, playtime_mean=54.08468468468469, playtime_min=0.1, playtime_max=602.0, game_counts=111, min_max=0.3234756604087058, prediction=1.5455073118209839),\n",
       " Row(uid=48080423, game_name='H1Z1', playtime=24.0, playtime_rank=2, game_uid=463, playtime_mean=54.08468468468469, playtime_min=0.1, playtime_max=602.0, game_counts=111, min_max=0.11912277787007809, prediction=1.237037181854248),\n",
       " Row(uid=112962796, game_name='H1Z1', playtime=11.8, playtime_rank=2, game_uid=463, playtime_mean=54.08468468468469, playtime_min=0.1, playtime_max=602.0, game_counts=111, min_max=0.05831533477321815, prediction=1.3270429372787476),\n",
       " Row(uid=189813843, game_name='H1Z1', playtime=57.0, playtime_rank=3, game_uid=463, playtime_mean=54.08468468468469, playtime_min=0.1, playtime_max=602.0, game_counts=111, min_max=0.2836019272304369, prediction=2.5851688385009766),\n",
       " Row(uid=151229648, game_name='H1Z1', playtime=12.3, playtime_rank=2, game_uid=463, playtime_mean=54.08468468468469, playtime_min=0.1, playtime_max=602.0, game_counts=111, min_max=0.06080744309685995, prediction=1.7919257879257202),\n",
       " Row(uid=186483761, game_name='H1Z1', playtime=17.7, playtime_rank=2, game_uid=463, playtime_mean=54.08468468468469, playtime_min=0.1, playtime_max=602.0, game_counts=111, min_max=0.08772221299219139, prediction=2.2311015129089355),\n",
       " Row(uid=142793906, game_name='H1Z1', playtime=52.0, playtime_rank=3, game_uid=463, playtime_mean=54.08468468468469, playtime_min=0.1, playtime_max=602.0, game_counts=111, min_max=0.2586808439940189, prediction=2.184844970703125),\n",
       " Row(uid=134839311, game_name='H1Z1', playtime=1.2, playtime_rank=1, game_uid=463, playtime_mean=54.08468468468469, playtime_min=0.1, playtime_max=602.0, game_counts=111, min_max=0.005482638312011962, prediction=1.9051706790924072),\n",
       " Row(uid=152078939, game_name='H1Z1', playtime=2.8, playtime_rank=1, game_uid=463, playtime_mean=54.08468468468469, playtime_min=0.1, playtime_max=602.0, game_counts=111, min_max=0.013457384947665725, prediction=1.8179198503494263),\n",
       " Row(uid=116912767, game_name='H1Z1', playtime=0.8, playtime_rank=0, game_uid=463, playtime_mean=54.08468468468469, playtime_min=0.1, playtime_max=602.0, game_counts=111, min_max=0.0034889516530985216, prediction=2.0221524238586426),\n",
       " Row(uid=82263745, game_name='H1Z1', playtime=560.0, playtime_rank=3, game_uid=463, playtime_mean=54.08468468468469, playtime_min=0.1, playtime_max=602.0, game_counts=111, min_max=2.790662900814089, prediction=1.8592733144760132),\n",
       " Row(uid=165755355, game_name='H1Z1', playtime=0.2, playtime_rank=0, game_uid=463, playtime_mean=54.08468468468469, playtime_min=0.1, playtime_max=602.0, game_counts=111, min_max=0.0004984216647283602, prediction=1.8073492050170898),\n",
       " Row(uid=54103616, game_name='H1Z1', playtime=36.0, playtime_rank=3, game_uid=463, playtime_mean=54.08468468468469, playtime_min=0.1, playtime_max=602.0, game_counts=111, min_max=0.1789333776374813, prediction=1.7882630825042725),\n",
       " Row(uid=207869089, game_name='H1Z1', playtime=4.5, playtime_rank=1, game_uid=463, playtime_mean=54.08468468468469, playtime_min=0.1, playtime_max=602.0, game_counts=111, min_max=0.02193055324804785, prediction=2.103990316390991),\n",
       " Row(uid=171067153, game_name='H1Z1', playtime=26.0, playtime_rank=3, game_uid=463, playtime_mean=54.08468468468469, playtime_min=0.1, playtime_max=602.0, game_counts=111, min_max=0.12909121116464528, prediction=2.120617628097534),\n",
       " Row(uid=105243827, game_name='H1Z1', playtime=1.1, playtime_rank=1, game_uid=463, playtime_mean=54.08468468468469, playtime_min=0.1, playtime_max=602.0, game_counts=111, min_max=0.004984216647283602, prediction=1.402025580406189),\n",
       " Row(uid=60217594, game_name='War Inc. Battlezone', playtime=2.6, playtime_rank=1, game_uid=471, playtime_mean=5.152631578947369, playtime_min=0.1, playtime_max=53.0, game_counts=19, min_max=0.14177693761814744, prediction=2.0412957668304443),\n",
       " Row(uid=213231597, game_name='War Inc. Battlezone', playtime=0.4, playtime_rank=0, game_uid=471, playtime_mean=5.152631578947369, playtime_min=0.1, playtime_max=53.0, game_counts=19, min_max=0.017013232514177697, prediction=1.5020432472229004),\n",
       " Row(uid=174923254, game_name='War Inc. Battlezone', playtime=0.5, playtime_rank=0, game_uid=471, playtime_mean=5.152631578947369, playtime_min=0.1, playtime_max=53.0, game_counts=19, min_max=0.022684310018903593, prediction=1.531714677810669),\n",
       " Row(uid=264253640, game_name='War Inc. Battlezone', playtime=6.4, playtime_rank=2, game_uid=471, playtime_mean=5.152631578947369, playtime_min=0.1, playtime_max=53.0, game_counts=19, min_max=0.3572778827977316, prediction=0.8225001692771912),\n",
       " Row(uid=276057148, game_name='War Inc. Battlezone', playtime=2.0, playtime_rank=1, game_uid=471, playtime_mean=5.152631578947369, playtime_min=0.1, playtime_max=53.0, game_counts=19, min_max=0.10775047258979205, prediction=0.6163371801376343),\n",
       " Row(uid=119619506, game_name='War Inc. Battlezone', playtime=1.0, playtime_rank=0, game_uid=471, playtime_mean=5.152631578947369, playtime_min=0.1, playtime_max=53.0, game_counts=19, min_max=0.05103969754253308, prediction=1.1483858823776245),\n",
       " Row(uid=259477553, game_name='War Inc. Battlezone', playtime=1.1, playtime_rank=1, game_uid=471, playtime_mean=5.152631578947369, playtime_min=0.1, playtime_max=53.0, game_counts=19, min_max=0.05671077504725898, prediction=0.20965184271335602),\n",
       " Row(uid=265859320, game_name='La Tale', playtime=0.2, playtime_rank=0, game_uid=496, playtime_mean=5.768750000000001, playtime_min=0.1, playtime_max=34.0, game_counts=16, min_max=0.008849557522123895, prediction=0.6285400390625),\n",
       " Row(uid=144845684, game_name='Blender 2.76b', playtime=0.5, playtime_rank=0, game_uid=833, playtime_mean=0.9333333333333335, playtime_min=0.1, playtime_max=5.7, game_counts=15, min_max=0.21428571428571427, prediction=0.4727245569229126),\n",
       " Row(uid=60611062, game_name='Blender 2.76b', playtime=1.3, playtime_rank=1, game_uid=833, playtime_mean=0.9333333333333335, playtime_min=0.1, playtime_max=5.7, game_counts=15, min_max=0.6428571428571428, prediction=0.49225956201553345),\n",
       " Row(uid=75232211, game_name='Dead Effect', playtime=0.6, playtime_rank=0, game_uid=1238, playtime_mean=1.0000000000000002, playtime_min=0.2, playtime_max=4.4, game_counts=7, min_max=0.2857142857142857, prediction=0.2561706304550171),\n",
       " Row(uid=11794760, game_name='Transformers War for Cybertron', playtime=0.9, playtime_rank=0, game_uid=1580, playtime_mean=9.033333333333333, playtime_min=0.3, playtime_max=37.0, game_counts=12, min_max=0.04904632152588556, prediction=0.35054025053977966),\n",
       " Row(uid=33282871, game_name='Transformers War for Cybertron', playtime=10.6, playtime_rank=2, game_uid=1580, playtime_mean=9.033333333333333, playtime_min=0.3, playtime_max=37.0, game_counts=12, min_max=0.8419618528610352, prediction=1.2434918880462646),\n",
       " Row(uid=65398650, game_name='Mercenary Kings', playtime=2.6, playtime_rank=1, game_uid=1645, playtime_mean=7.56, playtime_min=0.8, playtime_max=29.0, game_counts=10, min_max=0.1914893617021277, prediction=1.3982234001159668)]"
      ]
     },
     "execution_count": 117,
     "metadata": {},
     "output_type": "execute_result"
    }
   ],
   "source": [
    "rank_predictions_rdd.take(40)"
   ]
  },
  {
   "cell_type": "code",
   "execution_count": 118,
   "metadata": {},
   "outputs": [
    {
     "data": {
      "text/plain": [
       "[Row(uid=61632730, game_name='H1Z1', playtime=418.0, playtime_rank=3, game_uid=463, playtime_mean=54.08468468468469, playtime_min=0.1, playtime_max=602.0, game_counts=111, min_max=2.082904136899817, prediction=0.13349205255508423),\n",
       " Row(uid=18074031, game_name='H1Z1', playtime=70.0, playtime_rank=3, game_uid=463, playtime_mean=54.08468468468469, playtime_min=0.1, playtime_max=602.0, game_counts=111, min_max=0.3483967436451238, prediction=0.019686125218868256),\n",
       " Row(uid=24919113, game_name='H1Z1', playtime=25.0, playtime_rank=2, game_uid=463, playtime_mean=54.08468468468469, playtime_min=0.1, playtime_max=602.0, game_counts=111, min_max=0.12410699451736168, prediction=0.0),\n",
       " Row(uid=43684632, game_name='H1Z1', playtime=4.8, playtime_rank=1, game_uid=463, playtime_mean=54.08468468468469, playtime_min=0.1, playtime_max=602.0, game_counts=111, min_max=0.023425818242232933, prediction=0.4433247447013855),\n",
       " Row(uid=105159791, game_name='H1Z1', playtime=1.0, playtime_rank=0, game_uid=463, playtime_mean=54.08468468468469, playtime_min=0.1, playtime_max=602.0, game_counts=111, min_max=0.004485794982555242, prediction=0.09473378956317902),\n",
       " Row(uid=273082868, game_name='H1Z1', playtime=15.4, playtime_rank=2, game_uid=463, playtime_mean=54.08468468468469, playtime_min=0.1, playtime_max=602.0, game_counts=111, min_max=0.07625851470343911, prediction=0.017757147550582886),\n",
       " Row(uid=59115473, game_name='H1Z1', playtime=141.0, playtime_rank=3, game_uid=463, playtime_mean=54.08468468468469, playtime_min=0.1, playtime_max=602.0, game_counts=111, min_max=0.7022761256022596, prediction=0.03786191716790199),\n",
       " Row(uid=10450544, game_name='H1Z1', playtime=8.3, playtime_rank=2, game_uid=463, playtime_mean=54.08468468468469, playtime_min=0.1, playtime_max=602.0, game_counts=111, min_max=0.04087057650772554, prediction=0.15003564953804016),\n",
       " Row(uid=43913966, game_name='H1Z1', playtime=2.4, playtime_rank=1, game_uid=463, playtime_mean=54.08468468468469, playtime_min=0.1, playtime_max=602.0, game_counts=111, min_max=0.011463698288752284, prediction=0.09596262872219086),\n",
       " Row(uid=115008799, game_name='H1Z1', playtime=42.0, playtime_rank=3, game_uid=463, playtime_mean=54.08468468468469, playtime_min=0.1, playtime_max=602.0, game_counts=111, min_max=0.2088386775211829, prediction=0.007820074446499348),\n",
       " Row(uid=36978196, game_name='H1Z1', playtime=65.0, playtime_rank=3, game_uid=463, playtime_mean=54.08468468468469, playtime_min=0.1, playtime_max=602.0, game_counts=111, min_max=0.3234756604087058, prediction=0.30162161588668823),\n",
       " Row(uid=48080423, game_name='H1Z1', playtime=24.0, playtime_rank=2, game_uid=463, playtime_mean=54.08468468468469, playtime_min=0.1, playtime_max=602.0, game_counts=111, min_max=0.11912277787007809, prediction=0.6027773022651672),\n",
       " Row(uid=112962796, game_name='H1Z1', playtime=11.8, playtime_rank=2, game_uid=463, playtime_mean=54.08468468468469, playtime_min=0.1, playtime_max=602.0, game_counts=111, min_max=0.05831533477321815, prediction=0.04740743339061737),\n",
       " Row(uid=189813843, game_name='H1Z1', playtime=57.0, playtime_rank=3, game_uid=463, playtime_mean=54.08468468468469, playtime_min=0.1, playtime_max=602.0, game_counts=111, min_max=0.2836019272304369, prediction=0.2571806311607361),\n",
       " Row(uid=151229648, game_name='H1Z1', playtime=12.3, playtime_rank=2, game_uid=463, playtime_mean=54.08468468468469, playtime_min=0.1, playtime_max=602.0, game_counts=111, min_max=0.06080744309685995, prediction=0.07270747423171997),\n",
       " Row(uid=186483761, game_name='H1Z1', playtime=17.7, playtime_rank=2, game_uid=463, playtime_mean=54.08468468468469, playtime_min=0.1, playtime_max=602.0, game_counts=111, min_max=0.08772221299219139, prediction=0.29380887746810913),\n",
       " Row(uid=142793906, game_name='H1Z1', playtime=52.0, playtime_rank=3, game_uid=463, playtime_mean=54.08468468468469, playtime_min=0.1, playtime_max=602.0, game_counts=111, min_max=0.2586808439940189, prediction=0.1775059849023819),\n",
       " Row(uid=134839311, game_name='H1Z1', playtime=1.2, playtime_rank=1, game_uid=463, playtime_mean=54.08468468468469, playtime_min=0.1, playtime_max=602.0, game_counts=111, min_max=0.005482638312011962, prediction=0.03630148619413376),\n",
       " Row(uid=152078939, game_name='H1Z1', playtime=2.8, playtime_rank=1, game_uid=463, playtime_mean=54.08468468468469, playtime_min=0.1, playtime_max=602.0, game_counts=111, min_max=0.013457384947665725, prediction=0.10778529942035675),\n",
       " Row(uid=116912767, game_name='H1Z1', playtime=0.8, playtime_rank=0, game_uid=463, playtime_mean=54.08468468468469, playtime_min=0.1, playtime_max=602.0, game_counts=111, min_max=0.0034889516530985216, prediction=0.15430091321468353),\n",
       " Row(uid=82263745, game_name='H1Z1', playtime=560.0, playtime_rank=3, game_uid=463, playtime_mean=54.08468468468469, playtime_min=0.1, playtime_max=602.0, game_counts=111, min_max=2.790662900814089, prediction=0.2257598638534546),\n",
       " Row(uid=165755355, game_name='H1Z1', playtime=0.2, playtime_rank=0, game_uid=463, playtime_mean=54.08468468468469, playtime_min=0.1, playtime_max=602.0, game_counts=111, min_max=0.0004984216647283602, prediction=0.13789959251880646),\n",
       " Row(uid=54103616, game_name='H1Z1', playtime=36.0, playtime_rank=3, game_uid=463, playtime_mean=54.08468468468469, playtime_min=0.1, playtime_max=602.0, game_counts=111, min_max=0.1789333776374813, prediction=0.1143343448638916),\n",
       " Row(uid=207869089, game_name='H1Z1', playtime=4.5, playtime_rank=1, game_uid=463, playtime_mean=54.08468468468469, playtime_min=0.1, playtime_max=602.0, game_counts=111, min_max=0.02193055324804785, prediction=0.08945512771606445),\n",
       " Row(uid=171067153, game_name='H1Z1', playtime=26.0, playtime_rank=3, game_uid=463, playtime_mean=54.08468468468469, playtime_min=0.1, playtime_max=602.0, game_counts=111, min_max=0.12909121116464528, prediction=0.10415224730968475),\n",
       " Row(uid=105243827, game_name='H1Z1', playtime=1.1, playtime_rank=1, game_uid=463, playtime_mean=54.08468468468469, playtime_min=0.1, playtime_max=602.0, game_counts=111, min_max=0.004984216647283602, prediction=0.06770619004964828),\n",
       " Row(uid=60217594, game_name='War Inc. Battlezone', playtime=2.6, playtime_rank=1, game_uid=471, playtime_mean=5.152631578947369, playtime_min=0.1, playtime_max=53.0, game_counts=19, min_max=0.14177693761814744, prediction=0.2830559313297272),\n",
       " Row(uid=213231597, game_name='War Inc. Battlezone', playtime=0.4, playtime_rank=0, game_uid=471, playtime_mean=5.152631578947369, playtime_min=0.1, playtime_max=53.0, game_counts=19, min_max=0.017013232514177697, prediction=0.3121874928474426),\n",
       " Row(uid=174923254, game_name='War Inc. Battlezone', playtime=0.5, playtime_rank=0, game_uid=471, playtime_mean=5.152631578947369, playtime_min=0.1, playtime_max=53.0, game_counts=19, min_max=0.022684310018903593, prediction=0.02882159873843193),\n",
       " Row(uid=264253640, game_name='War Inc. Battlezone', playtime=6.4, playtime_rank=2, game_uid=471, playtime_mean=5.152631578947369, playtime_min=0.1, playtime_max=53.0, game_counts=19, min_max=0.3572778827977316, prediction=0.5123022198677063),\n",
       " Row(uid=276057148, game_name='War Inc. Battlezone', playtime=2.0, playtime_rank=1, game_uid=471, playtime_mean=5.152631578947369, playtime_min=0.1, playtime_max=53.0, game_counts=19, min_max=0.10775047258979205, prediction=0.12306716293096542),\n",
       " Row(uid=119619506, game_name='War Inc. Battlezone', playtime=1.0, playtime_rank=0, game_uid=471, playtime_mean=5.152631578947369, playtime_min=0.1, playtime_max=53.0, game_counts=19, min_max=0.05103969754253308, prediction=0.13758379220962524),\n",
       " Row(uid=259477553, game_name='War Inc. Battlezone', playtime=1.1, playtime_rank=1, game_uid=471, playtime_mean=5.152631578947369, playtime_min=0.1, playtime_max=53.0, game_counts=19, min_max=0.05671077504725898, prediction=0.7304842472076416),\n",
       " Row(uid=265859320, game_name='La Tale', playtime=0.2, playtime_rank=0, game_uid=496, playtime_mean=5.768750000000001, playtime_min=0.1, playtime_max=34.0, game_counts=16, min_max=0.008849557522123895, prediction=0.06900903582572937),\n",
       " Row(uid=144845684, game_name='Blender 2.76b', playtime=0.5, playtime_rank=0, game_uid=833, playtime_mean=0.9333333333333335, playtime_min=0.1, playtime_max=5.7, game_counts=15, min_max=0.21428571428571427, prediction=0.29650118947029114),\n",
       " Row(uid=60611062, game_name='Blender 2.76b', playtime=1.3, playtime_rank=1, game_uid=833, playtime_mean=0.9333333333333335, playtime_min=0.1, playtime_max=5.7, game_counts=15, min_max=0.6428571428571428, prediction=0.48450419306755066),\n",
       " Row(uid=75232211, game_name='Dead Effect', playtime=0.6, playtime_rank=0, game_uid=1238, playtime_mean=1.0000000000000002, playtime_min=0.2, playtime_max=4.4, game_counts=7, min_max=0.2857142857142857, prediction=0.36202341318130493),\n",
       " Row(uid=11794760, game_name='Transformers War for Cybertron', playtime=0.9, playtime_rank=0, game_uid=1580, playtime_mean=9.033333333333333, playtime_min=0.3, playtime_max=37.0, game_counts=12, min_max=0.04904632152588556, prediction=0.12086044251918793),\n",
       " Row(uid=33282871, game_name='Transformers War for Cybertron', playtime=10.6, playtime_rank=2, game_uid=1580, playtime_mean=9.033333333333333, playtime_min=0.3, playtime_max=37.0, game_counts=12, min_max=0.8419618528610352, prediction=0.6639070510864258),\n",
       " Row(uid=65398650, game_name='Mercenary Kings', playtime=2.6, playtime_rank=1, game_uid=1645, playtime_mean=7.56, playtime_min=0.8, playtime_max=29.0, game_counts=10, min_max=0.1914893617021277, prediction=0.26769664883613586)]"
      ]
     },
     "execution_count": 118,
     "metadata": {},
     "output_type": "execute_result"
    }
   ],
   "source": [
    "min_max_predictions_rdd.take(40)"
   ]
  }
 ],
 "metadata": {
  "kernelspec": {
   "display_name": "Python 3",
   "language": "python",
   "name": "python3"
  },
  "language_info": {
   "codemirror_mode": {
    "name": "ipython",
    "version": 3
   },
   "file_extension": ".py",
   "mimetype": "text/x-python",
   "name": "python",
   "nbconvert_exporter": "python",
   "pygments_lexer": "ipython3",
   "version": "3.6.3"
  }
 },
 "nbformat": 4,
 "nbformat_minor": 2
}
