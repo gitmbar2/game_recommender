{
 "cells": [
  {
   "cell_type": "code",
   "execution_count": 5,
   "metadata": {},
   "outputs": [],
   "source": [
    "import math\n",
    "import random\n",
    "import pandas as pd\n",
    "import numpy as np\n",
    "import matplotlib.pyplot as plt\n",
    "%matplotlib inline\n",
    "\n",
    "import warnings\n",
    "warnings.filterwarnings(\"ignore\")\n",
    "\n",
    "import pyspark\n",
    "from pyspark.sql import SparkSession\n",
    "from pyspark.ml.recommendation import ALS\n",
    "from pyspark.ml.tuning import CrossValidator, ParamGridBuilder, TrainValidationSplit\n",
    "from pyspark.ml.evaluation import RegressionEvaluator\n",
    "\n",
    "import os, sys\n",
    "sys.path.append(os.path.dirname(os.path.dirname(os.path.abspath('__file__'))))\n",
    "# can try doing addfiles to spark init in nb_spark - maybe terminal option for files\n",
    "from src import EDA, ModelEvaluation, Preprocess, Split\n",
    "%load_ext autoreload\n",
    "%autoreload 2\n",
    "\n",
    "spark_session = SparkSession.builder.getOrCreate()"
   ]
  },
  {
   "cell_type": "code",
   "execution_count": 14,
   "metadata": {},
   "outputs": [
    {
     "name": "stdout",
     "output_type": "stream",
     "text": [
      "split sizes:  (62791, 7698)\n"
     ]
    },
    {
     "data": {
      "text/html": [
       "<div>\n",
       "<style>\n",
       "    .dataframe thead tr:only-child th {\n",
       "        text-align: right;\n",
       "    }\n",
       "\n",
       "    .dataframe thead th {\n",
       "        text-align: left;\n",
       "    }\n",
       "\n",
       "    .dataframe tbody tr th {\n",
       "        vertical-align: top;\n",
       "    }\n",
       "</style>\n",
       "<table border=\"1\" class=\"dataframe\">\n",
       "  <thead>\n",
       "    <tr style=\"text-align: right;\">\n",
       "      <th></th>\n",
       "      <th>uid</th>\n",
       "      <th>playtime</th>\n",
       "      <th>playtime_min_max</th>\n",
       "      <th>game_name</th>\n",
       "      <th>game_uid</th>\n",
       "      <th>random_prediction</th>\n",
       "    </tr>\n",
       "  </thead>\n",
       "  <tbody>\n",
       "    <tr>\n",
       "      <th>1</th>\n",
       "      <td>151603712</td>\n",
       "      <td>273.0</td>\n",
       "      <td>0.412256</td>\n",
       "      <td>The Elder Scrolls V Skyrim</td>\n",
       "      <td>0</td>\n",
       "      <td>2.314122</td>\n",
       "    </tr>\n",
       "    <tr>\n",
       "      <th>3</th>\n",
       "      <td>151603712</td>\n",
       "      <td>87.0</td>\n",
       "      <td>0.414122</td>\n",
       "      <td>Fallout 4</td>\n",
       "      <td>1</td>\n",
       "      <td>2.970704</td>\n",
       "    </tr>\n",
       "  </tbody>\n",
       "</table>\n",
       "</div>"
      ],
      "text/plain": [
       "         uid  playtime  playtime_min_max                   game_name  \\\n",
       "1  151603712     273.0          0.412256  The Elder Scrolls V Skyrim   \n",
       "3  151603712      87.0          0.414122                   Fallout 4   \n",
       "\n",
       "   game_uid  random_prediction  \n",
       "1         0           2.314122  \n",
       "3         1           2.970704  "
      ]
     },
     "execution_count": 14,
     "metadata": {},
     "output_type": "execute_result"
    }
   ],
   "source": [
    "# need holdout users.  Hold out 10%.  We could put some percent of their games into\n",
    "# the training but it will make it very complicated\n",
    "steam_df = EDA.load_200k()\n",
    "preprocessor = Preprocess.PandasALSPreprocessor(steam_df)\n",
    "preprocessor.process_general()\n",
    "preprocessor.process_buckets()\n",
    "preprocessor.process_min_max()\n",
    "preprocessor.keep_standard_columns()\n",
    "steam_df = preprocessor.get_df()\n",
    "max_score = steam_df['playtime_min_max'].max()\n",
    "steam_df['random_prediction'] = get_random_scores(steam_df.shape[0], max_score)\n",
    "pandas_train_test = Split.PandasTrainTest(steam_df, seed=1)\n",
    "train_val, holdout_test = pandas_train_test.user_only_split(user_split_train=.9)\n",
    "print('split sizes: ', (train_val.shape[0], holdout_test.shape[0]))\n",
    "train_val.head(2)"
   ]
  },
  {
   "cell_type": "code",
   "execution_count": 15,
   "metadata": {},
   "outputs": [],
   "source": [
    "def get_random_scores(n, max_score):\n",
    "    return np.random.random_sample(n, ) * max_score\n",
    "\n",
    "def create_dataset(df, min_games_played=0, min_users_for_game=0):\n",
    "    df = EDA.restrict_user_item(df, min_games_played=min_games_played, min_users_for_game=min_users_for_game)\n",
    "    pandas_train_test = Split.PandasTrainTest(df, seed=1)\n",
    "    k_fold_dfs = pandas_train_test.get_k_folds(5, game_split_train=.3)\n",
    "    print('first train test split size: {}, {} '.format(k_fold_dfs[0][0].shape[0], k_fold_dfs[0][1].shape[0]))\n",
    "    sparkified_k_fold_dfs = [(spark_session.createDataFrame(a), spark_session.createDataFrame(b)) for a, b in k_fold_dfs]\n",
    "    return sparkified_k_fold_dfs"
   ]
  },
  {
   "cell_type": "code",
   "execution_count": 8,
   "metadata": {
    "collapsed": true
   },
   "outputs": [],
   "source": [
    "# we leave more than the top sorted by prediction because the actual may be n away from the \n",
    "# top predictions\n",
    "def sort_predictions_slice(arr, n):\n",
    "    actual_and_pred = np.array(arr)\n",
    "    # sort by predictions\n",
    "    indeces = np.argsort(actual_and_pred[:, 1])\n",
    "    return actual_and_pred[indeces[::-1]][:n].tolist()\n",
    "\n",
    "def dcg_at_k(scores, k):\n",
    "    \"\"\"\n",
    "    Discounted cumulative gain\n",
    "    See http://fastml.com/evaluating-recommender-systems/\n",
    "    Args:\n",
    "        r: List - Relevance scores in rank order\n",
    "        k: Number of results to consider\n",
    "    Returns:\n",
    "        Float\n",
    "    \"\"\"\n",
    "    r = np.asfarray(scores)[:k]\n",
    "    if r.size:\n",
    "        # item 1 and 2 have same weights\n",
    "        # return r[0] + np.sum(r[1:] / np.log2(np.arange(2, r.size + 1)))\n",
    "        # use below for more emphasis on first rank\n",
    "        return np.sum(r / np.log2(np.arange(2, r.size + 2)))\n",
    "    print('sersly?')\n",
    "    return 0.\n",
    "\n",
    "def ndcg_at_k(scores, k):\n",
    "    \"\"\"\n",
    "    Normalized Discounted cumulative gain\n",
    "    See http://fastml.com/evaluating-recommender-systems/\n",
    "    Args:\n",
    "        r: List - Relevance scores in rank order\n",
    "        k: Number of results to consider\n",
    "    Returns:\n",
    "        Float from 0 to 1\n",
    "    \"\"\"\n",
    "    dcg_max = dcg_at_k(sorted(scores, reverse=True), k)\n",
    "    if not dcg_max:\n",
    "        return 0.\n",
    "    return dcg_at_k(scores, k) / dcg_max\n",
    "\n",
    "def get_rdd_ndcg(rdd, top_n=3, label_col='playtime_min_max', prediction_col='prediction', id_col='uid'):\n",
    "    rdd_ndcg = rdd.map(lambda row: (row[id_col], [(row[label_col], row[prediction_col])])) \\\n",
    "        .reduceByKey(lambda total, val: total + val) \\\n",
    "        .map(lambda kv: (kv[0], sort_predictions_slice(kv[1], 1000))) \\\n",
    "        .map(lambda kv: ndcg_at_k(np.array(kv[1])[:, 0], top_n)) \\\n",
    "        .sum()\n",
    "    return rdd_ndcg\n",
    "\n",
    "def fit_and_calculate_kfold_ndcg(model, train_test_dfs, top_n=5):\n",
    "    results = []\n",
    "    for train, test in train_test_dfs:\n",
    "        fitted_model = model.fit(train)\n",
    "        predictions = fitted_model.transform(test)\n",
    "        predictions_rdd = predictions.rdd\n",
    "        ndcg = get_rdd_ndcg(predictions_rdd, top_n=top_n, prediction_col='prediction')\n",
    "        # can divide ndcg by user count - would be more efficient to pass counts\n",
    "        num_users = len(predictions.groupby('uid').count().collect())\n",
    "        results.append(ndcg / num_users)\n",
    "    return sum(results) / len(results)\n",
    "\n",
    "def fit_and_predict_kfold(model, train_test_dfs):\n",
    "    prediction_rdds = []\n",
    "    for train, test in train_test_dfs:\n",
    "        fitted_model = model.fit(train)\n",
    "        predictions = fitted_model.transform(test)\n",
    "        prediction_rdd = predictions.rdd\n",
    "        prediction_rdds.append(prediction_rdd)\n",
    "    return prediction_rdds\n",
    "\n",
    "def get_ndcg_and_random_ndcg(dataset):\n",
    "    k_fold_prediction_rdds = fit_and_predict_kfold(als_model, dataset)\n",
    "    ndcgs = [get_rdd_ndcg(predictions_rdd, top_n=5, prediction_col='prediction') for predictions_rdd in k_fold_prediction_rdds]\n",
    "    random_ndcgs = [get_rdd_ndcg(predictions_rdd, top_n=5, prediction_col='random_prediction') for predictions_rdd in k_fold_prediction_rdds]\n",
    "    ndcg = sum(ndcgs) / len(ndcgs)\n",
    "    random_ndcg = sum(random_ndcgs) / len(random_ndcgs)\n",
    "    print('ndcg: ', ndcg)\n",
    "    print('random_ndcg: ', random_ndcg)\n",
    "    return (ndcg, random_ndcg)"
   ]
  },
  {
   "cell_type": "code",
   "execution_count": 9,
   "metadata": {
    "collapsed": true
   },
   "outputs": [],
   "source": [
    "als_model = ALS(\n",
    "    itemCol='game_uid',\n",
    "    userCol='uid',\n",
    "    ratingCol='playtime_min_max',\n",
    "    nonnegative=True,    \n",
    "    regParam=0.1,\n",
    "    coldStartStrategy=\"drop\", # Drops if user or item in test was not in train\n",
    "    rank=10\n",
    ");"
   ]
  },
  {
   "cell_type": "code",
   "execution_count": 17,
   "metadata": {},
   "outputs": [
    {
     "name": "stdout",
     "output_type": "stream",
     "text": [
      "Number of users:  10215\n",
      "first train test split size 53164, 9627: \n",
      "ndcg:  431.024559748\n",
      "random_ndcg:  365.709611512\n"
     ]
    },
    {
     "data": {
      "text/plain": [
       "(431.02455974834868, 365.70961151170661)"
      ]
     },
     "execution_count": 17,
     "metadata": {},
     "output_type": "execute_result"
    }
   ],
   "source": [
    "base_case = create_dataset(train_val, min_games_played=0, min_users_for_game=0)\n",
    "get_ndcg_and_random_ndcg(base_case)"
   ]
  },
  {
   "cell_type": "markdown",
   "metadata": {},
   "source": [
    "## Cold Start for Users"
   ]
  },
  {
   "cell_type": "code",
   "execution_count": null,
   "metadata": {
    "collapsed": true
   },
   "outputs": [],
   "source": [
    "min_games_played_datasets1 = [create_dataset(train_val, min_games_played=i, min_users_for_game=0) for i in range(1,10)]"
   ]
  },
  {
   "cell_type": "code",
   "execution_count": 20,
   "metadata": {},
   "outputs": [
    {
     "name": "stdout",
     "output_type": "stream",
     "text": [
      "ndcg:  431.024559748\n",
      "random_ndcg:  365.709611512\n",
      "ndcg:  426.150640534\n",
      "random_ndcg:  363.214365998\n",
      "ndcg:  427.690077312\n",
      "random_ndcg:  362.533219841\n",
      "ndcg:  325.154006477\n",
      "random_ndcg:  263.271049074\n",
      "ndcg:  263.827389752\n",
      "random_ndcg:  210.020082089\n",
      "ndcg:  219.223411865\n",
      "random_ndcg:  168.768726783\n",
      "ndcg:  186.867872024\n",
      "random_ndcg:  138.781498671\n",
      "ndcg:  163.929897318\n",
      "random_ndcg:  121.201318144\n",
      "ndcg:  147.792840053\n",
      "random_ndcg:  104.767347795\n"
     ]
    }
   ],
   "source": [
    "# prediction vs random_prediction ndcg\n",
    "user_results1 = [get_ndcg_and_random_ndcg(dataset) for dataset in min_games_played_datasets1]\n",
    "user_increase1 = [((predicted / random) - 1) * 100 for predicted, random in user_results1]"
   ]
  },
  {
   "cell_type": "code",
   "execution_count": 22,
   "metadata": {},
   "outputs": [
    {
     "data": {
      "image/png": "[encoded data removed]",
      "text/plain": [
       "<matplotlib.figure.Figure at 0x1122156d8>"
      ]
     },
     "metadata": {},
     "output_type": "display_data"
    }
   ],
   "source": [
    "fig, ax = plt.subplots()\n",
    "ax.scatter(list(range(1,10)), user_increase1)\n",
    "ax.set_title('Increase over random for models with Different games played cutoffs')\n",
    "ax.set_xlabel('Rank')\n",
    "ax.set_ylabel('NDCG Increase %')\n",
    "fig.show()"
   ]
  },
  {
   "cell_type": "code",
   "execution_count": 23,
   "metadata": {},
   "outputs": [
    {
     "name": "stdout",
     "output_type": "stream",
     "text": [
      "Number of users:  1339\n",
      "first train test split size 38833, 6926: \n",
      "Number of users:  1243\n",
      "first train test split size 38194, 6564: \n",
      "Number of users:  1155\n",
      "first train test split size 37895, 5936: \n",
      "Number of users:  1094\n",
      "first train test split size 37177, 5922: \n",
      "Number of users:  1017\n",
      "first train test split size 36543, 5431: \n",
      "Number of users:  962\n",
      "first train test split size 35763, 5520: \n",
      "Number of users:  889\n",
      "first train test split size 34761, 5472: \n",
      "Number of users:  838\n",
      "first train test split size 33951, 5352: \n",
      "Number of users:  789\n",
      "first train test split size 32919, 5665: \n",
      "Number of users:  748\n",
      "first train test split size 31899, 5829: \n"
     ]
    }
   ],
   "source": [
    "min_games_played_datasets2 = [create_dataset(train_val, min_games_played=i, min_users_for_game=0) for i in range(10,20)]"
   ]
  },
  {
   "cell_type": "code",
   "execution_count": 24,
   "metadata": {},
   "outputs": [
    {
     "name": "stdout",
     "output_type": "stream",
     "text": [
      "ndcg:  129.388139867\n",
      "random_ndcg:  89.6402410141\n",
      "ndcg:  116.755643929\n",
      "random_ndcg:  79.8550472443\n",
      "ndcg:  104.787068903\n",
      "random_ndcg:  69.692519045\n",
      "ndcg:  99.0230179735\n",
      "random_ndcg:  64.9100810411\n",
      "ndcg:  90.6627332092\n",
      "random_ndcg:  58.6337442694\n",
      "ndcg:  84.0846961125\n",
      "random_ndcg:  55.179307183\n",
      "ndcg:  73.6182060266\n",
      "random_ndcg:  48.535064047\n",
      "ndcg:  68.3411702537\n",
      "random_ndcg:  43.9102068073\n",
      "ndcg:  64.5049908406\n",
      "random_ndcg:  40.8382774438\n",
      "ndcg:  59.4235650916\n",
      "random_ndcg:  38.0640034965\n"
     ]
    }
   ],
   "source": [
    "# prediction vs random_prediction ndcg\n",
    "user_results2 = [get_ndcg_and_random_ndcg(dataset) for dataset in min_games_played_datasets2]\n",
    "user_increase2 = [((predicted / random) - 1) * 100 for predicted, random in user_results2]"
   ]
  },
  {
   "cell_type": "code",
   "execution_count": 32,
   "metadata": {},
   "outputs": [
    {
     "data": {
      "image/png": "[encoded data removed]",
      "text/plain": [
       "<matplotlib.figure.Figure at 0x1125b1dd8>"
      ]
     },
     "metadata": {},
     "output_type": "display_data"
    }
   ],
   "source": [
    "user_increases = user_increase1 + user_increase2\n",
    "# user_abs\n",
    "fig, ax = plt.subplots()\n",
    "ax.scatter(list(range(1,20)), user_increases)\n",
    "ax.set_xticks(list(range(1,20)))\n",
    "ax.set_title('Increase over Random Model')\n",
    "ax.set_xlabel('Games Played')\n",
    "ax.set_ylabel('NDCG Increase %')\n",
    "fig.show()\n",
    "# fig.savefig('../figures/increase_games_played.png')"
   ]
  },
  {
   "cell_type": "code",
   "execution_count": 34,
   "metadata": {},
   "outputs": [
    {
     "data": {
      "image/png": "[encoded data removed]",
      "text/plain": [
       "<matplotlib.figure.Figure at 0x1120dc518>"
      ]
     },
     "metadata": {},
     "output_type": "display_data"
    }
   ],
   "source": [
    "user_results = user_results1 + user_results2\n",
    "absolute_increase = np.array(user_results)[:,0]\n",
    "fig, ax = plt.subplots()\n",
    "ax.scatter(list(range(1,20)), absolute_increase)\n",
    "ax.set_xticks(list(range(1,20)))\n",
    "ax.set_title('Absolute NDCG')\n",
    "ax.set_xlabel('Games Played')\n",
    "ax.set_ylabel('NDCG')\n",
    "fig.show()\n",
    "# fig.savefig('../figures/absolute_games_played.png')"
   ]
  },
  {
   "cell_type": "markdown",
   "metadata": {},
   "source": [
    "## Cold Start for Items"
   ]
  },
  {
   "cell_type": "code",
   "execution_count": 45,
   "metadata": {},
   "outputs": [
    {
     "name": "stdout",
     "output_type": "stream",
     "text": [
      "split sizes:  (61872, 7599)\n",
      "Number of users:  10197\n",
      "train test split size 0:  (52895, 8975)\n",
      "train test split size 1:  (52798, 9072)\n",
      "train test split size 2:  (52853, 9017)\n",
      "train test split size 3:  (52158, 9712)\n",
      "train test split size 4:  (52495, 9375)\n",
      "split sizes:  (61950, 6593)\n",
      "Number of users:  10184\n",
      "train test split size 0:  (52966, 8984)\n",
      "train test split size 1:  (52888, 9062)\n",
      "train test split size 2:  (52922, 9028)\n",
      "train test split size 3:  (52337, 9613)\n",
      "train test split size 4:  (52413, 9537)\n",
      "split sizes:  (62111, 5496)\n",
      "Number of users:  10166\n",
      "train test split size 0:  (52664, 9446)\n",
      "train test split size 1:  (53646, 8464)\n",
      "train test split size 2:  (53266, 8844)\n",
      "train test split size 3:  (51863, 10247)\n",
      "train test split size 4:  (52795, 9315)\n",
      "split sizes:  (59179, 7540)\n",
      "Number of users:  10149\n",
      "train test split size 0:  (50189, 8990)\n",
      "train test split size 1:  (50835, 8344)\n",
      "train test split size 2:  (50358, 8821)\n",
      "train test split size 3:  (50197, 8982)\n",
      "train test split size 4:  (50064, 9115)\n",
      "split sizes:  (60023, 5966)\n",
      "Number of users:  10132\n",
      "train test split size 0:  (51035, 8934)\n",
      "train test split size 1:  (51735, 8234)\n",
      "train test split size 2:  (50902, 9067)\n",
      "train test split size 3:  (50591, 9378)\n",
      "train test split size 4:  (50757, 9212)\n",
      "split sizes:  (58619, 6602)\n",
      "Number of users:  10114\n",
      "train test split size 0:  (49588, 9031)\n",
      "train test split size 1:  (49666, 8953)\n",
      "train test split size 2:  (50282, 8337)\n",
      "train test split size 3:  (49833, 8786)\n",
      "train test split size 4:  (49866, 8753)\n",
      "split sizes:  (57042, 7388)\n",
      "Number of users:  10093\n",
      "train test split size 0:  (48373, 8656)\n",
      "train test split size 1:  (47925, 9104)\n",
      "train test split size 2:  (48627, 8402)\n",
      "train test split size 3:  (48424, 8605)\n",
      "train test split size 4:  (49052, 7977)\n",
      "split sizes:  (57235, 6627)\n",
      "Number of users:  10086\n",
      "train test split size 0:  (47934, 9283)\n",
      "train test split size 1:  (48462, 8755)\n",
      "train test split size 2:  (49121, 8096)\n",
      "train test split size 3:  (48894, 8323)\n",
      "train test split size 4:  (48794, 8423)\n",
      "split sizes:  (56347, 6858)\n",
      "Number of users:  10068\n",
      "train test split size 0:  (47832, 8512)\n",
      "train test split size 1:  (47930, 8414)\n",
      "train test split size 2:  (47517, 8827)\n",
      "train test split size 3:  (47902, 8442)\n",
      "train test split size 4:  (48282, 8062)\n"
     ]
    }
   ],
   "source": [
    "min_user_counts_datasets1 = [create_dataset(train_val, min_games_played=1, min_users_for_game=i) for i in range(1,10)]"
   ]
  },
  {
   "cell_type": "code",
   "execution_count": 46,
   "metadata": {},
   "outputs": [
    {
     "name": "stdout",
     "output_type": "stream",
     "text": [
      "ndcg:  429.6666117\n",
      "random_ndcg:  364.003091059\n",
      "ndcg:  425.309861075\n",
      "random_ndcg:  362.19947297\n",
      "ndcg:  434.253536305\n",
      "random_ndcg:  360.878323465\n",
      "ndcg:  428.574219563\n",
      "random_ndcg:  362.773415129\n",
      "ndcg:  433.423561435\n",
      "random_ndcg:  358.812393461\n",
      "ndcg:  429.939565448\n",
      "random_ndcg:  357.310703928\n",
      "ndcg:  430.412047725\n",
      "random_ndcg:  359.102308\n",
      "ndcg:  424.794156649\n",
      "random_ndcg:  355.568758652\n",
      "ndcg:  425.587869716\n",
      "random_ndcg:  351.336311442\n"
     ]
    }
   ],
   "source": [
    "# prediction vs random_prediction ndcg\n",
    "item_results1 = [get_ndcg_and_random_ndcg(dataset) for dataset in min_user_counts_datasets1]\n",
    "item_increase1 = [((predicted / random) - 1) * 100 for predicted, random in item_results1]"
   ]
  },
  {
   "cell_type": "code",
   "execution_count": 48,
   "metadata": {},
   "outputs": [
    {
     "data": {
      "image/png": "[encoded data removed]",
      "text/plain": [
       "<matplotlib.figure.Figure at 0x106c316a0>"
      ]
     },
     "metadata": {},
     "output_type": "display_data"
    }
   ],
   "source": [
    "fig, ax = plt.subplots()\n",
    "ax.scatter(list(range(1,10)), item_increase1)\n",
    "ax.set_title('Increase over random for models with Different games played cutoffs')\n",
    "ax.set_xlabel('Rank')\n",
    "ax.set_ylabel('NDCG Increase %')\n",
    "fig.show()"
   ]
  },
  {
   "cell_type": "code",
   "execution_count": null,
   "metadata": {},
   "outputs": [
    {
     "name": "stdout",
     "output_type": "stream",
     "text": [
      "Number of users:  10034\n",
      "first train test split size 46900, 8153: \n",
      "Number of users:  10015\n",
      "first train test split size 45940, 8420: \n",
      "Number of users:  10005\n",
      "first train test split size 45850, 7910: \n",
      "Number of users:  9987\n",
      "first train test split size 45183, 7895: \n"
     ]
    }
   ],
   "source": [
    "min_user_counts_datasets2 = [create_dataset(train_val, min_games_played=1, min_users_for_game=i) for i in range(10,20)]"
   ]
  },
  {
   "cell_type": "code",
   "execution_count": 45,
   "metadata": {},
   "outputs": [
    {
     "name": "stdout",
     "output_type": "stream",
     "text": [
      "ndcg:  262.679643418\n",
      "random_ndcg:  209.948573308\n",
      "ndcg:  266.983306767\n",
      "random_ndcg:  209.001654708\n",
      "ndcg:  269.374851085\n",
      "random_ndcg:  210.727566581\n",
      "ndcg:  272.285738912\n",
      "random_ndcg:  209.438884602\n",
      "ndcg:  273.866233652\n",
      "random_ndcg:  208.469486767\n",
      "ndcg:  276.811011242\n",
      "random_ndcg:  213.611364461\n",
      "ndcg:  277.075475878\n",
      "random_ndcg:  215.006543934\n",
      "ndcg:  279.846853137\n",
      "random_ndcg:  213.863217545\n",
      "ndcg:  279.266932282\n",
      "random_ndcg:  213.950020824\n"
     ]
    }
   ],
   "source": [
    "# prediction vs random_prediction ndcg\n",
    "item_results2 = [get_ndcg_and_random_ndcg(dataset) for dataset in min_user_counts_datasets2]\n",
    "item_increase2 = [((predicted / random) - 1) * 100 for predicted, random in item_results2]"
   ]
  },
  {
   "cell_type": "code",
   "execution_count": 62,
   "metadata": {},
   "outputs": [
    {
     "name": "stderr",
     "output_type": "stream",
     "text": [
      "/Users/michaelbarton/anaconda2/envs/py36/lib/python3.6/site-packages/matplotlib/figure.py:418: UserWarning: matplotlib is currently using a non-GUI backend, so cannot show the figure\n",
      "  \"matplotlib is currently using a non-GUI backend, \"\n"
     ]
    },
    {
     "data": {
      "image/png": "[encoded data removed]",
      "text/plain": [
       "<matplotlib.figure.Figure at 0x115e5b5c0>"
      ]
     },
     "metadata": {},
     "output_type": "display_data"
    }
   ],
   "source": [
    "increases = first_item_increase + second_item_increase\n",
    "fig, ax = plt.subplots()\n",
    "ax.scatter(list(range(1,20)), increases)\n",
    "ax.set_title('Increase over random models')\n",
    "ax.set_xlabel('Number of Users')\n",
    "ax.set_ylabel('NDCG Increase %')\n",
    "ax.set_xticks(list(range(1,20)))\n",
    "fig.show()\n",
    "# fig.savefig('../figures/increase_users_for_items.png')"
   ]
  },
  {
   "cell_type": "code",
   "execution_count": 19,
   "metadata": {},
   "outputs": [
    {
     "name": "stderr",
     "output_type": "stream",
     "text": [
      "/Users/michaelbarton/anaconda2/envs/py36/lib/python3.6/site-packages/matplotlib/figure.py:418: UserWarning: matplotlib is currently using a non-GUI backend, so cannot show the figure\n",
      "  \"matplotlib is currently using a non-GUI backend, \"\n"
     ]
    }
   ],
   "source": [
    "increases = first_increase + second_increase\n",
    "fig, ax = plt.subplots()\n",
    "ax.scatter(list(range(1,20)), increases[1:])\n",
    "ax.set_title('Increase over random models')\n",
    "ax.set_xlabel('Number of Games Played')\n",
    "ax.set_ylabel('NDCG Increase %')\n",
    "fig.show()\n",
    "# fig.savefig('../figures/increase_games_played.png')"
   ]
  },
  {
   "cell_type": "markdown",
   "metadata": {},
   "source": [
    "## 5 Games Played+ As Baseline"
   ]
  },
  {
   "cell_type": "code",
   "execution_count": 4,
   "metadata": {},
   "outputs": [
    {
     "name": "stderr",
     "output_type": "stream",
     "text": [
      "/Users/michaelbarton/Code/gproject/src/EDA.py:22: UserWarning: Boolean Series key will be reindexed to match DataFrame index.\n",
      "  return filtered_users[steam_df['game_name'].isin(usable_games['game_name'].values)]\n",
      "/Users/michaelbarton/anaconda2/envs/py36/lib/python3.6/site-packages/pandas/core/groupby.py:4036: FutureWarning: using a dict with renaming is deprecated and will be removed in a future version\n",
      "  return super(DataFrameGroupBy, self).aggregate(arg, *args, **kwargs)\n"
     ]
    },
    {
     "name": "stdout",
     "output_type": "stream",
     "text": [
      "         uid  playtime  playtime_min_max                   game_name  game_uid\n",
      "1  151603712     273.0          0.412256  The Elder Scrolls V Skyrim         0\n",
      "3  151603712      87.0          0.414122                   Fallout 4         1\n",
      "5  151603712      14.9          0.106500                       Spore         2\n",
      "7  151603712      12.1          0.086352           Fallout New Vegas         3\n",
      "9  151603712       8.9          0.009742               Left 4 Dead 2         4\n",
      "split sizes:  (51708, 5109)\n",
      "Number of users:  2193\n",
      "train test split size 0:  (44185, 7437)\n",
      "train test split size 1:  (44899, 6723)\n",
      "train test split size 2:  (44492, 7130)\n",
      "train test split size 3:  (44625, 6997)\n",
      "train test split size 4:  (43443, 8179)\n",
      "         uid  playtime  playtime_min_max                   game_name  game_uid\n",
      "1  151603712     273.0          0.412256  The Elder Scrolls V Skyrim         0\n",
      "3  151603712      87.0          0.414122                   Fallout 4         1\n",
      "5  151603712      14.9          0.106500                       Spore         2\n",
      "7  151603712      12.1          0.086352           Fallout New Vegas         3\n",
      "9  151603712       8.9          0.009742               Left 4 Dead 2         4\n",
      "split sizes:  (50650, 5289)\n",
      "Number of users:  2192\n",
      "train test split size 0:  (43352, 7234)\n",
      "train test split size 1:  (44218, 6368)\n",
      "train test split size 2:  (43679, 6907)\n",
      "train test split size 3:  (43163, 7423)\n",
      "train test split size 4:  (42762, 7824)\n",
      "         uid  playtime  playtime_min_max                   game_name  game_uid\n",
      "1  151603712     273.0          0.412256  The Elder Scrolls V Skyrim         0\n",
      "3  151603712      87.0          0.414122                   Fallout 4         1\n",
      "5  151603712      14.9          0.106500                       Spore         2\n",
      "7  151603712      12.1          0.086352           Fallout New Vegas         3\n",
      "9  151603712       8.9          0.009742               Left 4 Dead 2         4\n",
      "split sizes:  (49854, 5213)\n",
      "Number of users:  2192\n",
      "train test split size 0:  (42661, 7129)\n",
      "train test split size 1:  (43515, 6275)\n",
      "train test split size 2:  (42998, 6792)\n",
      "train test split size 3:  (42501, 7289)\n",
      "train test split size 4:  (42067, 7723)\n",
      "         uid  playtime  playtime_min_max                   game_name  game_uid\n",
      "1  151603712     273.0          0.412256  The Elder Scrolls V Skyrim         0\n",
      "3  151603712      87.0          0.414122                   Fallout 4         1\n",
      "5  151603712      14.9          0.106500                       Spore         2\n",
      "7  151603712      12.1          0.086352           Fallout New Vegas         3\n",
      "9  151603712       8.9          0.009742               Left 4 Dead 2         4\n",
      "split sizes:  (49088, 5147)\n",
      "Number of users:  2192\n",
      "train test split size 0:  (41996, 7028)\n",
      "train test split size 1:  (42838, 6186)\n",
      "train test split size 2:  (42350, 6674)\n",
      "train test split size 3:  (41879, 7145)\n",
      "train test split size 4:  (41392, 7632)\n",
      "         uid  playtime  playtime_min_max                   game_name  game_uid\n",
      "1  151603712     273.0          0.412256  The Elder Scrolls V Skyrim         0\n",
      "3  151603712      87.0          0.414122                   Fallout 4         1\n",
      "5  151603712      14.9          0.106500                       Spore         2\n",
      "7  151603712      12.1          0.086352           Fallout New Vegas         3\n",
      "9  151603712       8.9          0.009742               Left 4 Dead 2         4\n",
      "split sizes:  (48483, 5070)\n",
      "Number of users:  2192\n",
      "train test split size 0:  (41468, 6952)\n",
      "train test split size 1:  (42290, 6130)\n",
      "train test split size 2:  (41832, 6588)\n",
      "train test split size 3:  (41353, 7067)\n",
      "train test split size 4:  (40890, 7530)\n",
      "         uid  playtime  playtime_min_max                   game_name  game_uid\n",
      "1  151603712     273.0          0.412256  The Elder Scrolls V Skyrim         0\n",
      "3  151603712      87.0          0.414122                   Fallout 4         1\n",
      "5  151603712      14.9          0.106500                       Spore         2\n",
      "7  151603712      12.1          0.086352           Fallout New Vegas         3\n",
      "9  151603712       8.9          0.009742               Left 4 Dead 2         4\n",
      "split sizes:  (47807, 5028)\n",
      "Number of users:  2192\n",
      "train test split size 0:  (40885, 6862)\n",
      "train test split size 1:  (41697, 6050)\n",
      "train test split size 2:  (41272, 6475)\n",
      "train test split size 3:  (40797, 6950)\n",
      "train test split size 4:  (40317, 7430)\n",
      "         uid  playtime  playtime_min_max                   game_name  game_uid\n",
      "1  151603712     273.0          0.412256  The Elder Scrolls V Skyrim         0\n",
      "3  151603712      87.0          0.414122                   Fallout 4         1\n",
      "5  151603712      14.9          0.106500                       Spore         2\n",
      "7  151603712      12.1          0.086352           Fallout New Vegas         3\n",
      "9  151603712       8.9          0.009742               Left 4 Dead 2         4\n",
      "split sizes:  (47157, 4966)\n",
      "Number of users:  2192\n",
      "train test split size 0:  (40321, 6777)\n",
      "train test split size 1:  (41116, 5982)\n",
      "train test split size 2:  (40716, 6382)\n",
      "train test split size 3:  (40255, 6843)\n",
      "train test split size 4:  (39770, 7328)\n",
      "         uid  playtime  playtime_min_max                   game_name  game_uid\n",
      "1  151603712     273.0          0.412256  The Elder Scrolls V Skyrim         0\n",
      "3  151603712      87.0          0.414122                   Fallout 4         1\n",
      "5  151603712      14.9          0.106500                       Spore         2\n",
      "7  151603712      12.1          0.086352           Fallout New Vegas         3\n",
      "9  151603712       8.9          0.009742               Left 4 Dead 2         4\n",
      "split sizes:  (46684, 4904)\n",
      "Number of users:  2192\n",
      "train test split size 0:  (39911, 6714)\n",
      "train test split size 1:  (40687, 5938)\n",
      "train test split size 2:  (40308, 6317)\n",
      "train test split size 3:  (39853, 6772)\n",
      "train test split size 4:  (39381, 7244)\n",
      "         uid  playtime  playtime_min_max                   game_name  game_uid\n",
      "1  151603712     273.0          0.412256  The Elder Scrolls V Skyrim         0\n",
      "3  151603712      87.0          0.414122                   Fallout 4         1\n",
      "5  151603712      14.9          0.106500                       Spore         2\n",
      "7  151603712      12.1          0.086352           Fallout New Vegas         3\n",
      "9  151603712       8.9          0.009742               Left 4 Dead 2         4\n",
      "split sizes:  (46134, 4853)\n",
      "Number of users:  2192\n",
      "train test split size 0:  (39440, 6637)\n",
      "train test split size 1:  (40214, 5863)\n",
      "train test split size 2:  (39836, 6241)\n",
      "train test split size 3:  (39373, 6704)\n",
      "train test split size 4:  (38913, 7164)\n"
     ]
    }
   ],
   "source": [
    "results_5_games_n_users_datasets = [create_dataset(min_games_played=5, min_users_for_game=i) for i in range(1,10)]"
   ]
  },
  {
   "cell_type": "code",
   "execution_count": 9,
   "metadata": {},
   "outputs": [
    {
     "name": "stdout",
     "output_type": "stream",
     "text": [
      "ndcg:  262.679643418\n",
      "random_ndcg:  208.363712409\n",
      "ndcg:  266.983306767\n",
      "random_ndcg:  207.771150089\n",
      "ndcg:  269.374851085\n",
      "random_ndcg:  211.957656785\n",
      "ndcg:  272.285738912\n",
      "random_ndcg:  213.082836618\n",
      "ndcg:  273.866233652\n",
      "random_ndcg:  211.892308297\n",
      "ndcg:  276.811011242\n",
      "random_ndcg:  215.66073954\n",
      "ndcg:  277.075475878\n",
      "random_ndcg:  211.919222428\n",
      "ndcg:  279.846853137\n",
      "random_ndcg:  216.019747564\n",
      "ndcg:  279.266932282\n",
      "random_ndcg:  215.177245857\n"
     ]
    },
    {
     "data": {
      "text/plain": [
       "[(262.67964341831487, 208.36371240904472),\n",
       " (266.98330676703063, 207.77115008851166),\n",
       " (269.37485108472885, 211.95765678469397),\n",
       " (272.28573891164535, 213.08283661795795),\n",
       " (273.86623365246226, 211.89230829679619),\n",
       " (276.81101124210699, 215.66073954044887),\n",
       " (277.07547587806704, 211.91922242769866),\n",
       " (279.84685313668149, 216.01974756421455),\n",
       " (279.26693228189038, 215.17724585692659)]"
      ]
     },
     "execution_count": 9,
     "metadata": {},
     "output_type": "execute_result"
    }
   ],
   "source": [
    "results_5_games_n_users = [get_ndcg_and_random_ndcg(dataset) for dataset in results_5_games_n_users_datasets]"
   ]
  },
  {
   "cell_type": "code",
   "execution_count": 44,
   "metadata": {},
   "outputs": [
    {
     "data": {
      "image/png": "[encoded data removed]",
      "text/plain": [
       "<matplotlib.figure.Figure at 0x106c0ab38>"
      ]
     },
     "metadata": {},
     "output_type": "display_data"
    }
   ],
   "source": [
    "results_5_games_n_increase = [((predicted / random) - 1) * 100 for predicted, random in results_5_games_n_users]\n",
    "\n",
    "fig, ax = plt.subplots()\n",
    "ax.scatter(list(range(1,10)), results_5_games_n_increase)\n",
    "ax.set_title('Increase over random models')\n",
    "ax.set_xlabel('Number of Games Played')\n",
    "ax.set_ylabel('NDCG Increase %')\n",
    "fig.show()\n",
    "# fig.savefig('../figures/increase_users_for_items_at_5.png')"
   ]
  },
  {
   "cell_type": "code",
   "execution_count": 41,
   "metadata": {},
   "outputs": [
    {
     "name": "stdout",
     "output_type": "stream",
     "text": [
      "split sizes:  (50650, 5289)\n",
      "Number of users:  2192\n",
      "train test split size 0:  (43352, 7234)\n",
      "train test split size 1:  (44218, 6368)\n",
      "train test split size 2:  (43679, 6907)\n",
      "train test split size 3:  (43163, 7423)\n",
      "train test split size 4:  (42762, 7824)\n"
     ]
    },
    {
     "data": {
      "text/plain": [
       "(266.98330676703063, 208.87644498730697)"
      ]
     },
     "execution_count": 41,
     "metadata": {},
     "output_type": "execute_result"
    }
   ],
   "source": [
    "final_model_dataset = create_dataset(min_games_played=5, min_users_for_game=2)\n",
    "k_fold_prediction_rdds = fit_and_predict_kfold(als_model, final_model_dataset)\n",
    "ndcgs = [get_rdd_ndcg(predictions_rdd, top_n=5, prediction_col='prediction') for predictions_rdd in k_fold_prediction_rdds]\n",
    "random_ndcgs = [get_rdd_ndcg(predictions_rdd, top_n=5, prediction_col='random_prediction') for predictions_rdd in k_fold_prediction_rdds]\n",
    "ndcg = sum(ndcgs) / len(ndcgs)\n",
    "random_ndcg = sum(random_ndcgs) / len(random_ndcgs)\n",
    "final_model_results = (ndcg, random_ndcg)\n",
    "final_model_results"
   ]
  },
  {
   "cell_type": "code",
   "execution_count": 37,
   "metadata": {},
   "outputs": [
    {
     "name": "stdout",
     "output_type": "stream",
     "text": [
      "Final Model Increase: 27.523%\n"
     ]
    }
   ],
   "source": [
    "final_increase = ((final_model_results[0] / final_model_results[1]) - 1) * 100\n",
    "print('Final Model Increase: {}%'.format(round(final_increase, 3)))"
   ]
  },
  {
   "cell_type": "markdown",
   "metadata": {},
   "source": [
    "## We could look at absolute NDCG increases / decreases.. \n",
    "But the size of the dataset will change the outcome vs ideal,  \n",
    "As well as the absolute DCG (less data, lower gain)"
   ]
  },
  {
   "cell_type": "code",
   "execution_count": 23,
   "metadata": {},
   "outputs": [],
   "source": [
    "raw_increase_ndcg = np.array(results_5_games_n_users)[:,0]"
   ]
  },
  {
   "cell_type": "code",
   "execution_count": 42,
   "metadata": {},
   "outputs": [
    {
     "data": {
      "image/png": "[encoded data removed]",
      "text/plain": [
       "<matplotlib.figure.Figure at 0x102b85b00>"
      ]
     },
     "metadata": {},
     "output_type": "display_data"
    }
   ],
   "source": [
    "fig, ax = plt.subplots()\n",
    "ax.scatter(list(range(1,10)), raw_increase_ndcg)\n",
    "ax.set_title('Absolute NDCG Increase 5 Games+')\n",
    "ax.set_xlabel('Number of Users for Game')\n",
    "ax.set_ylabel('NDCG Increase')\n",
    "fig.show()\n",
    "# fig.savefig('../figures/absolute_final_increases.png')"
   ]
  },
  {
   "cell_type": "code",
   "execution_count": null,
   "metadata": {
    "collapsed": true
   },
   "outputs": [],
   "source": [
    "# div by data size\n",
    "normalized_raw_increase_ndcg= raw_increase_ndcg / "
   ]
  }
 ],
 "metadata": {
  "kernelspec": {
   "display_name": "Python 3",
   "language": "python",
   "name": "python3"
  },
  "language_info": {
   "codemirror_mode": {
    "name": "ipython",
    "version": 3
   },
   "file_extension": ".py",
   "mimetype": "text/x-python",
   "name": "python",
   "nbconvert_exporter": "python",
   "pygments_lexer": "ipython3",
   "version": "3.6.3"
  }
 },
 "nbformat": 4,
 "nbformat_minor": 2
}
