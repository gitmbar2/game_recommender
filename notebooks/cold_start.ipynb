{
 "cells": [
  {
   "cell_type": "code",
   "execution_count": 1,
   "metadata": {
    "collapsed": true
   },
   "outputs": [],
   "source": [
    "import random\n",
    "import pandas as pd\n",
    "import numpy as np\n",
    "import matplotlib.pyplot as plt\n",
    "%matplotlib inline\n",
    "\n",
    "import warnings\n",
    "warnings.filterwarnings(\"ignore\")\n",
    "\n",
    "import pyspark\n",
    "from pyspark.sql import SparkSession\n",
    "from pyspark.ml.recommendation import ALS\n",
    "from pyspark.ml.evaluation import RegressionEvaluator\n",
    "\n",
    "import os, sys\n",
    "sys.path.append(os.path.dirname(os.path.dirname(os.path.abspath('__file__'))))\n",
    "# can alternatively use addfiles to spark init in nb_spark\n",
    "from src import EDA, ModelEvaluation, Preprocess, Split\n",
    "%load_ext autoreload\n",
    "%autoreload 2\n",
    "\n",
    "spark_session = SparkSession.builder.getOrCreate()"
   ]
  },
  {
   "cell_type": "code",
   "execution_count": 2,
   "metadata": {
    "collapsed": true
   },
   "outputs": [],
   "source": [
    "def get_random_scores(n, max_score):\n",
    "    return np.random.random_sample(n, ) * max_score\n",
    "\n",
    "def create_dataset(df, min_games_played=0, min_users_for_game=0):\n",
    "    df = EDA.get_filtered_user_item(df, min_games_played=min_games_played, min_users_for_game=min_users_for_game)\n",
    "    pandas_train_test = Split.PandasTrainTest(df, seed=1)\n",
    "    k_fold_dfs = pandas_train_test.get_k_folds(5, game_split_train=.3)\n",
    "    print('first train test split size: {}, {} '.format(k_fold_dfs[0][0].shape[0], k_fold_dfs[0][1].shape[0]))\n",
    "    sparkified_k_fold_dfs = [(spark_session.createDataFrame(a), spark_session.createDataFrame(b)) for a, b in k_fold_dfs]\n",
    "    return sparkified_k_fold_dfs"
   ]
  },
  {
   "cell_type": "code",
   "execution_count": 3,
   "metadata": {
    "collapsed": true
   },
   "outputs": [],
   "source": [
    "# we leave more than the top sorted by prediction because the actual may be n away from the \n",
    "# top predictions\n",
    "def sort_predictions_slice(arr, n):\n",
    "    actual_and_pred = np.array(arr)\n",
    "    # sort by predictions\n",
    "    indeces = np.argsort(actual_and_pred[:, 1])\n",
    "    return actual_and_pred[indeces[::-1]][:n].tolist()\n",
    "\n",
    "def dcg_at_k(scores, k):\n",
    "    \"\"\"\n",
    "    Discounted cumulative gain\n",
    "    See http://fastml.com/evaluating-recommender-systems/\n",
    "    Args:\n",
    "        r: List - Relevance scores in rank order\n",
    "        k: Number of results to consider\n",
    "    Returns:\n",
    "        Float\n",
    "    \"\"\"\n",
    "    r = np.asfarray(scores)[:k]\n",
    "    if r.size:\n",
    "        # item 1 and 2 have same weights\n",
    "        # return r[0] + np.sum(r[1:] / np.log2(np.arange(2, r.size + 1)))\n",
    "        # use below for more emphasis on first rank\n",
    "        return np.sum(r / np.log2(np.arange(2, r.size + 2)))\n",
    "    return 0.\n",
    "\n",
    "def ndcg_at_k(scores, k):\n",
    "    \"\"\"\n",
    "    Normalized Discounted cumulative gain\n",
    "    See http://fastml.com/evaluating-recommender-systems/\n",
    "    Args:\n",
    "        r: List - Relevance scores in rank order\n",
    "        k: Number of results to consider\n",
    "    Returns:\n",
    "        Float from 0 to 1\n",
    "    \"\"\"\n",
    "    dcg_max = dcg_at_k(sorted(scores, reverse=True), k)\n",
    "    if not dcg_max:\n",
    "        return 0.\n",
    "    return dcg_at_k(scores, k) / dcg_max\n",
    "\n",
    "def get_rdd_ndcg(rdd, top_n=3, label_col='playtime_min_max', prediction_col='prediction', id_col='uid'):\n",
    "    rdd_ndcg = rdd.map(lambda row: (row[id_col], [(row[label_col], row[prediction_col])])) \\\n",
    "        .reduceByKey(lambda total, val: total + val) \\\n",
    "        .map(lambda kv: (kv[0], sort_predictions_slice(kv[1], 1000))) \\\n",
    "        .map(lambda kv: ndcg_at_k(np.array(kv[1])[:, 0], top_n)) \\\n",
    "        .sum()\n",
    "    return rdd_ndcg\n",
    "\n",
    "def fit_and_calculate_kfold_ndcg(model, train_test_dfs, top_n=5):\n",
    "    results = []\n",
    "    for train, test in train_test_dfs:\n",
    "        fitted_model = model.fit(train)\n",
    "        predictions = fitted_model.transform(test)\n",
    "        predictions_rdd = predictions.rdd\n",
    "        ndcg = get_rdd_ndcg(predictions_rdd, top_n=top_n, prediction_col='prediction')\n",
    "        # can divide ndcg by user count - would be more efficient to pass counts\n",
    "        num_users = len(predictions.groupby('uid').count().collect())\n",
    "        results.append(ndcg / num_users)\n",
    "    return sum(results) / len(results)\n",
    "\n",
    "def fit_and_predict_kfold(model, train_test_dfs):\n",
    "    prediction_rdds = []\n",
    "    for train, test in train_test_dfs:\n",
    "        fitted_model = model.fit(train)\n",
    "        predictions = fitted_model.transform(test)\n",
    "        prediction_rdd = predictions.rdd\n",
    "        prediction_rdds.append(prediction_rdd)\n",
    "    return prediction_rdds\n",
    "\n",
    "def get_ndcg_and_random_ndcg(dataset):\n",
    "    '''\n",
    "        Returns a tuple with the average ndcg over k folds\n",
    "        and the average random ndcg of the same k folds\n",
    "    '''\n",
    "    k_fold_prediction_rdds = fit_and_predict_kfold(als_model, dataset)\n",
    "    ndcgs = [get_rdd_ndcg(predictions_rdd, top_n=5, prediction_col='prediction') for predictions_rdd in k_fold_prediction_rdds]\n",
    "    random_ndcgs = [get_rdd_ndcg(predictions_rdd, top_n=5, prediction_col='random_prediction') for predictions_rdd in k_fold_prediction_rdds]\n",
    "    ndcg = sum(ndcgs) / len(ndcgs)\n",
    "    random_ndcg = sum(random_ndcgs) / len(random_ndcgs)\n",
    "    print('ndcg: ', ndcg)\n",
    "    return (ndcg, random_ndcg)"
   ]
  },
  {
   "cell_type": "code",
   "execution_count": 4,
   "metadata": {},
   "outputs": [
    {
     "name": "stdout",
     "output_type": "stream",
     "text": [
      "split sizes:  (62791, 7698)\n"
     ]
    },
    {
     "data": {
      "text/html": [
       "<div>\n",
       "<style>\n",
       "    .dataframe thead tr:only-child th {\n",
       "        text-align: right;\n",
       "    }\n",
       "\n",
       "    .dataframe thead th {\n",
       "        text-align: left;\n",
       "    }\n",
       "\n",
       "    .dataframe tbody tr th {\n",
       "        vertical-align: top;\n",
       "    }\n",
       "</style>\n",
       "<table border=\"1\" class=\"dataframe\">\n",
       "  <thead>\n",
       "    <tr style=\"text-align: right;\">\n",
       "      <th></th>\n",
       "      <th>uid</th>\n",
       "      <th>playtime</th>\n",
       "      <th>playtime_min_max</th>\n",
       "      <th>game_name</th>\n",
       "      <th>game_uid</th>\n",
       "      <th>random_prediction</th>\n",
       "    </tr>\n",
       "  </thead>\n",
       "  <tbody>\n",
       "    <tr>\n",
       "      <th>1</th>\n",
       "      <td>151603712</td>\n",
       "      <td>273.0</td>\n",
       "      <td>0.412256</td>\n",
       "      <td>The Elder Scrolls V Skyrim</td>\n",
       "      <td>0</td>\n",
       "      <td>0.259380</td>\n",
       "    </tr>\n",
       "    <tr>\n",
       "      <th>3</th>\n",
       "      <td>151603712</td>\n",
       "      <td>87.0</td>\n",
       "      <td>0.414122</td>\n",
       "      <td>Fallout 4</td>\n",
       "      <td>1</td>\n",
       "      <td>0.022195</td>\n",
       "    </tr>\n",
       "  </tbody>\n",
       "</table>\n",
       "</div>"
      ],
      "text/plain": [
       "         uid  playtime  playtime_min_max                   game_name  \\\n",
       "1  151603712     273.0          0.412256  The Elder Scrolls V Skyrim   \n",
       "3  151603712      87.0          0.414122                   Fallout 4   \n",
       "\n",
       "   game_uid  random_prediction  \n",
       "1         0           0.259380  \n",
       "3         1           0.022195  "
      ]
     },
     "execution_count": 4,
     "metadata": {},
     "output_type": "execute_result"
    }
   ],
   "source": [
    "# need holdout users.  Hold out 10%.\n",
    "steam_df = EDA.load_200k()\n",
    "preprocessor = Preprocess.PandasALSPreprocessor(steam_df)\n",
    "preprocessor.add_item_ids()\n",
    "preprocessor.add_rank_buckets()\n",
    "preprocessor.add_min_max()\n",
    "preprocessor.keep_standard_columns()\n",
    "steam_df = preprocessor.get_df()\n",
    "max_score = steam_df['playtime_min_max'].max()\n",
    "steam_df['random_prediction'] = get_random_scores(steam_df.shape[0], max_score)\n",
    "pandas_train_test = Split.PandasTrainTest(steam_df, seed=1)\n",
    "train_val, holdout_test = pandas_train_test.user_only_split(user_split_train=.9)\n",
    "print('split sizes: ', (train_val.shape[0], holdout_test.shape[0]))\n",
    "train_val.head(2)"
   ]
  },
  {
   "cell_type": "code",
   "execution_count": 5,
   "metadata": {
    "collapsed": true
   },
   "outputs": [],
   "source": [
    "als_model = ALS(\n",
    "    itemCol='game_uid',\n",
    "    userCol='uid',\n",
    "    ratingCol='playtime_min_max',\n",
    "    nonnegative=True,    \n",
    "    regParam=0.1,\n",
    "    coldStartStrategy=\"drop\", # Drops if user or item in test was not in train\n",
    "    rank=10\n",
    ");"
   ]
  },
  {
   "cell_type": "code",
   "execution_count": 17,
   "metadata": {},
   "outputs": [
    {
     "name": "stdout",
     "output_type": "stream",
     "text": [
      "Number of users:  10215\n",
      "first train test split size 53164, 9627: \n",
      "ndcg:  431.024559748\n",
      "random_ndcg:  365.709611512\n"
     ]
    },
    {
     "data": {
      "text/plain": [
       "(431.02455974834868, 365.70961151170661)"
      ]
     },
     "execution_count": 17,
     "metadata": {},
     "output_type": "execute_result"
    }
   ],
   "source": [
    "base_case = create_dataset(train_val, min_games_played=0, min_users_for_game=0)\n",
    "get_ndcg_and_random_ndcg(base_case)"
   ]
  },
  {
   "cell_type": "markdown",
   "metadata": {},
   "source": [
    "## Cold Start for Users"
   ]
  },
  {
   "cell_type": "code",
   "execution_count": 6,
   "metadata": {},
   "outputs": [
    {
     "name": "stdout",
     "output_type": "stream",
     "text": [
      "Number of users:  10215\n",
      "first train test split size: 53164, 9627 \n",
      "Number of users:  4316\n",
      "first train test split size: 48882, 8008 \n",
      "Number of users:  3123\n",
      "first train test split size: 46142, 8234 \n",
      "Number of users:  2553\n",
      "first train test split size: 45786, 6940 \n",
      "Number of users:  2199\n",
      "first train test split size: 44504, 6876 \n",
      "Number of users:  1925\n",
      "first train test split size: 43069, 6941 \n",
      "Number of users:  1718\n",
      "first train test split size: 41888, 6698 \n",
      "Number of users:  1575\n",
      "first train test split size: 41363, 6404 \n",
      "Number of users:  1459\n",
      "first train test split size: 39763, 7076 \n"
     ]
    }
   ],
   "source": [
    "min_games_played_datasets1 = [create_dataset(train_val, min_games_played=i, min_users_for_game=0) for i in range(1,10)]"
   ]
  },
  {
   "cell_type": "code",
   "execution_count": 16,
   "metadata": {},
   "outputs": [
    {
     "name": "stdout",
     "output_type": "stream",
     "text": [
      "ndcg:  431.024559748\n",
      "ndcg:  426.150640534\n",
      "ndcg:  427.690077312\n",
      "ndcg:  325.154006477\n",
      "ndcg:  263.827389752\n",
      "ndcg:  219.223411865\n",
      "ndcg:  186.867872024\n",
      "ndcg:  163.929897318\n",
      "ndcg:  147.792840053\n"
     ]
    }
   ],
   "source": [
    "# prediction vs random_prediction ndcg\n",
    "user_results1 = [get_ndcg_and_random_ndcg(dataset) for dataset in min_games_played_datasets1]\n",
    "user_increase1 = [((predicted / random) - 1) * 100 for predicted, random in user_results1]"
   ]
  },
  {
   "cell_type": "code",
   "execution_count": 17,
   "metadata": {},
   "outputs": [
    {
     "name": "stdout",
     "output_type": "stream",
     "text": [
      "first train test split size: 38833, 6926 \n",
      "first train test split size: 38194, 6564 \n",
      "first train test split size: 37895, 5936 \n",
      "first train test split size: 37177, 5922 \n",
      "first train test split size: 36543, 5431 \n",
      "first train test split size: 35763, 5520 \n",
      "first train test split size: 34761, 5472 \n",
      "first train test split size: 33951, 5352 \n",
      "first train test split size: 32919, 5665 \n",
      "first train test split size: 31899, 5829 \n"
     ]
    }
   ],
   "source": [
    "min_games_played_datasets2 = [create_dataset(train_val, min_games_played=i, min_users_for_game=0) for i in range(10,20)]"
   ]
  },
  {
   "cell_type": "code",
   "execution_count": 18,
   "metadata": {},
   "outputs": [
    {
     "name": "stdout",
     "output_type": "stream",
     "text": [
      "ndcg:  129.388139867\n",
      "ndcg:  116.755643929\n",
      "ndcg:  104.787068903\n",
      "ndcg:  99.0230179735\n",
      "ndcg:  90.6627332092\n",
      "ndcg:  84.0846961125\n",
      "ndcg:  73.6182060266\n",
      "ndcg:  68.3411702537\n",
      "ndcg:  64.5049908406\n",
      "ndcg:  59.4235650916\n"
     ]
    }
   ],
   "source": [
    "# prediction vs random_prediction ndcg\n",
    "user_results2 = [get_ndcg_and_random_ndcg(dataset) for dataset in min_games_played_datasets2]\n",
    "user_increase2 = [((predicted / random) - 1) * 100 for predicted, random in user_results2]"
   ]
  },
  {
   "cell_type": "code",
   "execution_count": 32,
   "metadata": {},
   "outputs": [
    {
     "data": {
      "image/png": "[encoded data removed]",
      "text/plain": [
       "<matplotlib.figure.Figure at 0x1125b1dd8>"
      ]
     },
     "metadata": {},
     "output_type": "display_data"
    }
   ],
   "source": [
    "user_increases = user_increase1 + user_increase2\n",
    "fig, ax = plt.subplots()\n",
    "ax.scatter(list(range(1,20)), user_increases)\n",
    "ax.set_xticks(list(range(1,20)))\n",
    "ax.set_title('Increase over Random Model')\n",
    "ax.set_xlabel('Games Played')\n",
    "ax.set_ylabel('NDCG Increase %')\n",
    "fig.show()\n",
    "# fig.savefig('../figures/increase_games_played.png')"
   ]
  },
  {
   "cell_type": "markdown",
   "metadata": {},
   "source": [
    "## Cold Start for Items"
   ]
  },
  {
   "cell_type": "code",
   "execution_count": 6,
   "metadata": {},
   "outputs": [
    {
     "name": "stdout",
     "output_type": "stream",
     "text": [
      "first train test split size: 53282, 8503 \n",
      "first train test split size: 51985, 8811 \n",
      "first train test split size: 50415, 9472 \n",
      "first train test split size: 50348, 8755 \n",
      "first train test split size: 48980, 9268 \n",
      "first train test split size: 48960, 8686 \n",
      "first train test split size: 48168, 8773 \n",
      "first train test split size: 48172, 8069 \n",
      "first train test split size: 47158, 8475 \n"
     ]
    }
   ],
   "source": [
    "min_user_counts_datasets1 = [create_dataset(train_val, min_games_played=1, min_users_for_game=i) for i in range(1,10)]"
   ]
  },
  {
   "cell_type": "code",
   "execution_count": 7,
   "metadata": {},
   "outputs": [
    {
     "name": "stdout",
     "output_type": "stream",
     "text": [
      "ndcg:  424.365635435\n",
      "ndcg:  428.062593462\n",
      "ndcg:  430.009713229\n",
      "ndcg:  430.345438786\n",
      "ndcg:  428.701882087\n",
      "ndcg:  429.589627781\n",
      "ndcg:  425.438680142\n",
      "ndcg:  427.026674432\n",
      "ndcg:  425.326833497\n"
     ]
    }
   ],
   "source": [
    "# prediction vs random_prediction ndcg\n",
    "item_results1 = [get_ndcg_and_random_ndcg(dataset) for dataset in min_user_counts_datasets1]\n",
    "item_increase1 = [((predicted / random) - 1) * 100 for predicted, random in item_results1]"
   ]
  },
  {
   "cell_type": "code",
   "execution_count": 8,
   "metadata": {},
   "outputs": [
    {
     "name": "stdout",
     "output_type": "stream",
     "text": [
      "first train test split size: 46900, 8153 \n",
      "first train test split size: 45940, 8420 \n",
      "first train test split size: 45850, 7910 \n",
      "first train test split size: 45183, 7895 \n",
      "first train test split size: 44633, 7960 \n",
      "first train test split size: 44311, 7892 \n",
      "first train test split size: 44245, 7605 \n",
      "first train test split size: 43222, 8135 \n",
      "first train test split size: 42980, 8017 \n",
      "first train test split size: 43512, 7067 \n"
     ]
    }
   ],
   "source": [
    "min_user_counts_datasets2 = [create_dataset(train_val, min_games_played=1, min_users_for_game=i) for i in range(10,20)]"
   ]
  },
  {
   "cell_type": "code",
   "execution_count": 9,
   "metadata": {},
   "outputs": [
    {
     "name": "stdout",
     "output_type": "stream",
     "text": [
      "ndcg:  424.746366028\n",
      "ndcg:  423.683711599\n",
      "ndcg:  423.298176092\n",
      "ndcg:  423.153155444\n",
      "ndcg:  423.386130051\n",
      "ndcg:  420.159857847\n",
      "ndcg:  420.405357366\n",
      "ndcg:  420.793073089\n",
      "ndcg:  421.669817998\n",
      "ndcg:  419.979141982\n"
     ]
    }
   ],
   "source": [
    "# prediction vs random_prediction ndcg\n",
    "item_results2 = [get_ndcg_and_random_ndcg(dataset) for dataset in min_user_counts_datasets2]\n",
    "item_increase2 = [((predicted / random) - 1) * 100 for predicted, random in item_results2]"
   ]
  },
  {
   "cell_type": "code",
   "execution_count": 11,
   "metadata": {},
   "outputs": [
    {
     "data": {
      "image/png": "[encoded data removed]",
      "text/plain": [
       "<matplotlib.figure.Figure at 0x1047eab00>"
      ]
     },
     "metadata": {},
     "output_type": "display_data"
    }
   ],
   "source": [
    "item_increases = item_increase1 + item_increase2\n",
    "fig, ax = plt.subplots()\n",
    "ax.scatter(list(range(1,20)), item_increases)\n",
    "ax.set_title('Increase over random models')\n",
    "ax.set_xlabel('Number of Users')\n",
    "ax.set_ylabel('NDCG Increase %')\n",
    "ax.set_xticks(list(range(1,20)))\n",
    "fig.show()\n",
    "# fig.savefig('../figures/increase_users_for_items2.png')"
   ]
  },
  {
   "cell_type": "markdown",
   "metadata": {},
   "source": [
    "## 5 Games Played+ As Baseline"
   ]
  },
  {
   "cell_type": "code",
   "execution_count": 22,
   "metadata": {},
   "outputs": [
    {
     "name": "stdout",
     "output_type": "stream",
     "text": [
      "Number of users:  2199\n",
      "first train test split size: 43706, 6720 \n",
      "Number of users:  2198\n",
      "first train test split size: 42512, 6994 \n",
      "Number of users:  2198\n",
      "first train test split size: 41763, 6865 \n",
      "Number of users:  2198\n",
      "first train test split size: 41142, 6743 \n",
      "Number of users:  2198\n",
      "first train test split size: 40482, 6608 \n",
      "Number of users:  2198\n",
      "first train test split size: 39991, 6528 \n",
      "Number of users:  2198\n",
      "first train test split size: 39433, 6446 \n",
      "Number of users:  2198\n",
      "first train test split size: 38893, 6347 \n",
      "Number of users:  2198\n",
      "first train test split size: 38406, 6261 \n",
      "Number of users:  2198\n",
      "first train test split size: 37939, 6185 \n",
      "Number of users:  2198\n",
      "first train test split size: 37408, 6082 \n",
      "Number of users:  2198\n",
      "first train test split size: 36921, 6002 \n",
      "Number of users:  2198\n",
      "first train test split size: 36386, 5908 \n",
      "Number of users:  2198\n",
      "first train test split size: 35998, 5843 \n",
      "Number of users:  2197\n",
      "first train test split size: 35620, 5897 \n",
      "Number of users:  2196\n",
      "first train test split size: 35105, 6066 \n",
      "Number of users:  2196\n",
      "first train test split size: 34699, 6001 \n",
      "Number of users:  2196\n",
      "first train test split size: 34418, 5955 \n",
      "Number of users:  2196\n",
      "first train test split size: 34093, 5894 \n"
     ]
    }
   ],
   "source": [
    "optimal_games_n_users_datasets = [create_dataset(train_val, min_games_played=5, min_users_for_game=i) for i in range(1,20)]"
   ]
  },
  {
   "cell_type": "code",
   "execution_count": 23,
   "metadata": {},
   "outputs": [
    {
     "name": "stdout",
     "output_type": "stream",
     "text": [
      "ndcg:  264.516087887\n",
      "random_ndcg:  208.011943613\n",
      "ndcg:  269.762861809\n",
      "random_ndcg:  208.97919148\n",
      "ndcg:  273.107463907\n",
      "random_ndcg:  209.835322161\n",
      "ndcg:  273.617186165\n",
      "random_ndcg:  209.285715376\n",
      "ndcg:  276.940748499\n",
      "random_ndcg:  212.541227677\n",
      "ndcg:  279.111205521\n",
      "random_ndcg:  214.215815606\n",
      "ndcg:  279.948323427\n",
      "random_ndcg:  213.27856396\n",
      "ndcg:  280.754779383\n",
      "random_ndcg:  213.190169748\n",
      "ndcg:  281.660680602\n",
      "random_ndcg:  216.90452359\n",
      "ndcg:  283.539577328\n",
      "random_ndcg:  216.337465577\n",
      "ndcg:  284.364401041\n",
      "random_ndcg:  217.597094961\n",
      "ndcg:  282.56483939\n",
      "random_ndcg:  218.459782742\n",
      "ndcg:  282.599872221\n",
      "random_ndcg:  220.153996636\n",
      "ndcg:  284.496373296\n",
      "random_ndcg:  221.963798117\n",
      "ndcg:  285.567029903\n",
      "random_ndcg:  220.628504139\n",
      "ndcg:  282.740969176\n",
      "random_ndcg:  220.85718535\n",
      "ndcg:  284.772344336\n",
      "random_ndcg:  221.914168751\n",
      "ndcg:  286.581516329\n",
      "random_ndcg:  224.057556309\n",
      "ndcg:  288.275414858\n",
      "random_ndcg:  224.990878356\n"
     ]
    }
   ],
   "source": [
    "results_optimal_games_n_users = [get_ndcg_and_random_ndcg(dataset) for dataset in optimal_games_n_users_datasets]\n",
    "optimal_games_item_increase = [((predicted / random) - 1) * 100 for predicted, random in results_optimal_games_n_users]"
   ]
  },
  {
   "cell_type": "code",
   "execution_count": 27,
   "metadata": {},
   "outputs": [
    {
     "data": {
      "image/png": "[encoded data removed]",
      "text/plain": [
       "<matplotlib.figure.Figure at 0x115557c88>"
      ]
     },
     "metadata": {},
     "output_type": "display_data"
    }
   ],
   "source": [
    "fig, ax = plt.subplots()\n",
    "ax.scatter(list(range(1,20)), optimal_games_item_increase)\n",
    "ax.set_title('Increase over Random 5+ Games')\n",
    "ax.set_xlabel('Users per Game')\n",
    "ax.set_ylabel('NDCG Increase %')\n",
    "ax.set_xticks(list(range(1,20)))\n",
    "fig.show()\n",
    "# fig.savefig('../figures/increase_users_for_items_at_5.png')"
   ]
  },
  {
   "cell_type": "markdown",
   "metadata": {},
   "source": [
    "## Final Model"
   ]
  },
  {
   "cell_type": "code",
   "execution_count": 28,
   "metadata": {},
   "outputs": [
    {
     "name": "stdout",
     "output_type": "stream",
     "text": [
      "Number of users:  2198\n",
      "first train test split size: 41763, 6865 \n"
     ]
    },
    {
     "data": {
      "text/plain": [
       "(273.10746390662069, 209.83532216054897)"
      ]
     },
     "execution_count": 28,
     "metadata": {},
     "output_type": "execute_result"
    }
   ],
   "source": [
    "final_model_dataset = create_dataset(train_val, min_games_played=5, min_users_for_game=3)\n",
    "k_fold_prediction_rdds = fit_and_predict_kfold(als_model, final_model_dataset)\n",
    "ndcgs = [get_rdd_ndcg(predictions_rdd, top_n=5, prediction_col='prediction') for predictions_rdd in k_fold_prediction_rdds]\n",
    "random_ndcgs = [get_rdd_ndcg(predictions_rdd, top_n=5, prediction_col='random_prediction') for predictions_rdd in k_fold_prediction_rdds]\n",
    "ndcg = sum(ndcgs) / len(ndcgs)\n",
    "random_ndcg = sum(random_ndcgs) / len(random_ndcgs)\n",
    "final_model_results = (ndcg, random_ndcg)\n",
    "final_model_results"
   ]
  },
  {
   "cell_type": "code",
   "execution_count": 29,
   "metadata": {},
   "outputs": [
    {
     "name": "stdout",
     "output_type": "stream",
     "text": [
      "Final Model Increase: 30.153%\n"
     ]
    }
   ],
   "source": [
    "final_increase = ((final_model_results[0] / final_model_results[1]) - 1) * 100\n",
    "print('Final Model Validation Increase: {}%'.format(round(final_increase, 3)))"
   ]
  },
  {
   "cell_type": "code",
   "execution_count": 21,
   "metadata": {},
   "outputs": [
    {
     "name": "stdout",
     "output_type": "stream",
     "text": [
      "Using 19.37% of Original Users\n"
     ]
    }
   ],
   "source": [
    "print('Using {}% of Original Users'.format(round((2198 / 11350) * 100, 2)))"
   ]
  },
  {
   "cell_type": "markdown",
   "metadata": {},
   "source": [
    "#### Test on Holdout Validation"
   ]
  },
  {
   "cell_type": "code",
   "execution_count": 49,
   "metadata": {
    "collapsed": true
   },
   "outputs": [],
   "source": [
    "final_model_training = EDA.get_filtered_user_item(train_val, min_games_played=5, min_users_for_game=3)\n",
    "final_model_holdout = EDA.get_filtered_user_item(holdout_test, min_games_played=5, min_users_for_game=3)\n",
    "final_splitter = Split.PandasTrainTest(final_model_holdout)\n",
    "holdout_train_games, holdout_test_games  = final_splitter.user_games_split(final_model_holdout, game_split_train=.3)\n",
    "final_model_training = final_model_training.append(holdout_train_games)"
   ]
  },
  {
   "cell_type": "code",
   "execution_count": 54,
   "metadata": {
    "collapsed": true
   },
   "outputs": [],
   "source": [
    "final_model_training_spark_dataset = spark_session.createDataFrame(final_model_training)\n",
    "holdout_test_spark_dataset = spark_session.createDataFrame(holdout_test_games)\n",
    "training_fitted_model = als_model.fit(final_model_training_spark_dataset)\n",
    "final_test_predictions = training_fitted_model.transform(holdout_test_spark_dataset)\n",
    "final_test_predictions_rdd = final_test_predictions.rdd\n",
    "# How valuable is this kind of validation here?\n",
    "# How would we implement it?\n",
    "final_test_ndcg = get_rdd_ndcg(final_test_predictions_rdd, top_n=5, prediction_col='prediction')\n",
    "final_test_random_ndcg = get_rdd_ndcg(final_test_predictions_rdd, top_n=5, prediction_col='random_prediction')"
   ]
  },
  {
   "cell_type": "code",
   "execution_count": 55,
   "metadata": {},
   "outputs": [
    {
     "name": "stdout",
     "output_type": "stream",
     "text": [
      "Final Model Validation Increase: 34.193%\n"
     ]
    }
   ],
   "source": [
    "final_test_increase = ((final_test_ndcg / final_test_random_ndcg) - 1) * 100\n",
    "print('Final Model Validation Increase: {}%'.format(round(final_test_increase, 3)))"
   ]
  },
  {
   "cell_type": "code",
   "execution_count": 57,
   "metadata": {
    "collapsed": true
   },
   "outputs": [],
   "source": [
    "evaluator = RegressionEvaluator() \\\n",
    "    .setMetricName(\"rmse\") \\\n",
    "    .setLabelCol(\"playtime_min_max\") \\\n",
    "    .setPredictionCol(\"prediction\")\n",
    "rmse = evaluator.evaluate(final_test_predictions)\n",
    "random_evaluator = RegressionEvaluator() \\\n",
    "    .setMetricName(\"rmse\") \\\n",
    "    .setLabelCol(\"playtime_min_max\") \\\n",
    "    .setPredictionCol(\"random_prediction\")\n",
    "random_rmse = random_evaluator.evaluate(final_test_predictions)"
   ]
  },
  {
   "cell_type": "code",
   "execution_count": 63,
   "metadata": {},
   "outputs": [
    {
     "name": "stdout",
     "output_type": "stream",
     "text": [
      "Final Model Random RMSE Increase: 222.554%\n"
     ]
    }
   ],
   "source": [
    "final_test_rmse_increase = ((random_rmse / rmse) - 1) * 100\n",
    "print('Final Model Random RMSE Increase: {}%'.format(round(final_test_rmse_increase, 3)))"
   ]
  },
  {
   "cell_type": "markdown",
   "metadata": {},
   "source": [
    "## We could look at absolute NDCG increases / decreases.. \n",
    "But it can be very misleading"
   ]
  },
  {
   "cell_type": "code",
   "execution_count": 32,
   "metadata": {
    "collapsed": true
   },
   "outputs": [],
   "source": [
    "raw_increase_ndcg = np.array(results_optimal_games_n_users)[:,0]"
   ]
  },
  {
   "cell_type": "code",
   "execution_count": 35,
   "metadata": {},
   "outputs": [
    {
     "data": {
      "image/png": "[encoded data removed]",
      "text/plain": [
       "<matplotlib.figure.Figure at 0x114d3acc0>"
      ]
     },
     "metadata": {},
     "output_type": "display_data"
    }
   ],
   "source": [
    "### Even without dividing by data size, absolute NDCG will increase \n",
    "### as number of games decreases - Because we are recommending games to users\n",
    "### and removing possibilities to get wrong\n",
    "fig, ax = plt.subplots()\n",
    "ax.scatter(list(range(1,20)), raw_increase_ndcg)\n",
    "ax.set_title('Absolute NDCG Increase 5 Games+')\n",
    "ax.set_xlabel('Number of Users for Game')\n",
    "ax.set_ylabel('NDCG Increase')\n",
    "fig.show()\n",
    "# fig.savefig('../figures/absolute_optimal_games_n_users_increases.png')"
   ]
  },
  {
   "cell_type": "code",
   "execution_count": 63,
   "metadata": {},
   "outputs": [
    {
     "data": {
      "image/png": "[encoded data removed]",
      "text/plain": [
       "<matplotlib.figure.Figure at 0x10cac3cf8>"
      ]
     },
     "metadata": {},
     "output_type": "display_data"
    }
   ],
   "source": [
    "'''\n",
    "This is expected because Users with low games played\n",
    "are easier to order perfectly.\n",
    "The 1 and 2 cutoffs are just issues with splitting the game data for 1 or 2 items into train and test at 30%\n",
    "'''\n",
    "all_games_played_datasets = min_games_played_datasets1 + min_games_played_datasets2\n",
    "user_counts_at_games_played = [len(dset_pair[0][1].groupby('uid').count().collect()) for dset_pair in all_games_played_datasets]\n",
    "print('Users included in Test split: {}'.format(user_counts_at_games_played))\n",
    "user_results = user_results1 + user_results2\n",
    "absolute_increase = np.array(user_results)[:,0]\n",
    "absolute_normalized_increase = absolute_increase / np.array(user_counts_at_games_played)\n",
    "fig, ax = plt.subplots()\n",
    "ax.scatter(list(range(1,20)), absolute_normalized_increase)\n",
    "ax.set_xticks(list(range(1,20)))\n",
    "ax.set_title('Mean Absolute NDCG')\n",
    "ax.set_xlabel('Games Played')\n",
    "ax.set_ylabel('NDCG')\n",
    "fig.show()\n",
    "# fig.savefig('../figures/absolute_games_played.png')"
   ]
  },
  {
   "cell_type": "code",
   "execution_count": 13,
   "metadata": {},
   "outputs": [
    {
     "name": "stdout",
     "output_type": "stream",
     "text": [
      "Users included in Test split: [2038, 2035, 2031, 2028, 2023, 2021, 2017, 2012, 2010, 2007, 2003, 2001, 1997, 1994, 1992, 1991, 1990, 1987, 1985]\n"
     ]
    },
    {
     "data": {
      "image/png": "[encoded data removed]",
      "text/plain": [
       "<matplotlib.figure.Figure at 0x10b553940>"
      ]
     },
     "metadata": {},
     "output_type": "display_data"
    }
   ],
   "source": [
    "'''\n",
    "This is somewhat expected because removing Items makes it easier to get a good order of items\n",
    "The 1 and 2 cutoffs are just issues with splitting the game data for 1 or 2 items into train and test at 30%\n",
    "'''\n",
    "all_user_counts_datasets = min_user_counts_datasets1 + min_user_counts_datasets2\n",
    "user_counts_at_user_cutoffs = [len(dset_pair[0][1].groupby('uid').count().collect()) for dset_pair in all_user_counts_datasets]\n",
    "print('Users included in Test split: {}'.format(user_counts_at_user_cutoffs))\n",
    "item_results = item_results1 + item_results2\n",
    "\n",
    "absolute_increase = np.array(item_results)[:,0]\n",
    "absolute_normalized_increase = absolute_increase / np.array(user_counts_at_user_cutoffs)\n",
    "fig, ax = plt.subplots()\n",
    "ax.scatter(list(range(1,20)), absolute_normalized_increase)\n",
    "ax.set_xticks(list(range(1,20)))\n",
    "ax.set_title('Mean Absolute NDCG')\n",
    "ax.set_xlabel('Minimum Users')\n",
    "ax.set_ylabel('NDCG')\n",
    "fig.show()\n",
    "# fig.savefig('../figures/absolute_user_cutoffs.png')"
   ]
  }
 ],
 "metadata": {
  "kernelspec": {
   "display_name": "Python 3",
   "language": "python",
   "name": "python3"
  },
  "language_info": {
   "codemirror_mode": {
    "name": "ipython",
    "version": 3
   },
   "file_extension": ".py",
   "mimetype": "text/x-python",
   "name": "python",
   "nbconvert_exporter": "python",
   "pygments_lexer": "ipython3",
   "version": "3.6.3"
  }
 },
 "nbformat": 4,
 "nbformat_minor": 2
}
