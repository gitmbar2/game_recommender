{
 "cells": [
  {
   "cell_type": "markdown",
   "metadata": {},
   "source": [
    "# EDA"
   ]
  },
  {
   "cell_type": "code",
   "execution_count": 1,
   "metadata": {
    "collapsed": true
   },
   "outputs": [],
   "source": [
    "import numpy as np\n",
    "import pandas as pd\n",
    "import matplotlib.pyplot as plt\n",
    "%matplotlib inline\n",
    "\n",
    "import warnings\n",
    "warnings.filterwarnings(\"ignore\")\n",
    "\n",
    "import os, sys\n",
    "sys.path.append(os.path.dirname(os.path.dirname(os.path.abspath('__file__'))))\n",
    "from src import EDA\n",
    "%load_ext autoreload\n",
    "%autoreload 2"
   ]
  },
  {
   "cell_type": "code",
   "execution_count": 2,
   "metadata": {
    "collapsed": true
   },
   "outputs": [],
   "source": [
    "steam_df = EDA.load_200k()"
   ]
  },
  {
   "cell_type": "code",
   "execution_count": 3,
   "metadata": {},
   "outputs": [
    {
     "name": "stdout",
     "output_type": "stream",
     "text": [
      "Total hours played:  3445365.8000000766\n",
      "Number of records:  70489\n",
      "Number of users:  11350\n"
     ]
    },
    {
     "data": {
      "text/html": [
       "<div>\n",
       "<style>\n",
       "    .dataframe thead tr:only-child th {\n",
       "        text-align: right;\n",
       "    }\n",
       "\n",
       "    .dataframe thead th {\n",
       "        text-align: left;\n",
       "    }\n",
       "\n",
       "    .dataframe tbody tr th {\n",
       "        vertical-align: top;\n",
       "    }\n",
       "</style>\n",
       "<table border=\"1\" class=\"dataframe\">\n",
       "  <thead>\n",
       "    <tr style=\"text-align: right;\">\n",
       "      <th></th>\n",
       "      <th>uid</th>\n",
       "      <th>game_name</th>\n",
       "      <th>playtime</th>\n",
       "    </tr>\n",
       "  </thead>\n",
       "  <tbody>\n",
       "    <tr>\n",
       "      <th>1</th>\n",
       "      <td>151603712</td>\n",
       "      <td>The Elder Scrolls V Skyrim</td>\n",
       "      <td>273.0</td>\n",
       "    </tr>\n",
       "    <tr>\n",
       "      <th>3</th>\n",
       "      <td>151603712</td>\n",
       "      <td>Fallout 4</td>\n",
       "      <td>87.0</td>\n",
       "    </tr>\n",
       "    <tr>\n",
       "      <th>5</th>\n",
       "      <td>151603712</td>\n",
       "      <td>Spore</td>\n",
       "      <td>14.9</td>\n",
       "    </tr>\n",
       "    <tr>\n",
       "      <th>7</th>\n",
       "      <td>151603712</td>\n",
       "      <td>Fallout New Vegas</td>\n",
       "      <td>12.1</td>\n",
       "    </tr>\n",
       "    <tr>\n",
       "      <th>9</th>\n",
       "      <td>151603712</td>\n",
       "      <td>Left 4 Dead 2</td>\n",
       "      <td>8.9</td>\n",
       "    </tr>\n",
       "  </tbody>\n",
       "</table>\n",
       "</div>"
      ],
      "text/plain": [
       "         uid                   game_name  playtime\n",
       "1  151603712  The Elder Scrolls V Skyrim     273.0\n",
       "3  151603712                   Fallout 4      87.0\n",
       "5  151603712                       Spore      14.9\n",
       "7  151603712           Fallout New Vegas      12.1\n",
       "9  151603712               Left 4 Dead 2       8.9"
      ]
     },
     "execution_count": 3,
     "metadata": {},
     "output_type": "execute_result"
    }
   ],
   "source": [
    "total_hours_played = steam_df['playtime'].sum()\n",
    "print('Total hours played: ', total_hours_played)\n",
    "print('Number of records: ', steam_df.shape[0])\n",
    "print('Number of users: ', steam_df.groupby('uid').count().shape[0])\n",
    "steam_df.head()"
   ]
  },
  {
   "cell_type": "markdown",
   "metadata": {},
   "source": [
    "#### Remove Extreme Low and High playtimes"
   ]
  },
  {
   "cell_type": "code",
   "execution_count": 4,
   "metadata": {},
   "outputs": [
    {
     "name": "stdout",
     "output_type": "stream",
     "text": [
      "User purchased but did not play:  1058\n",
      "Dropping  1682\n"
     ]
    }
   ],
   "source": [
    "# remove low high data so that we can see a more granular distribution\n",
    "# we want to keep the high playtime data for actual analysis\n",
    "over_1000 = steam_df[steam_df['playtime'] > 1000].shape[0]\n",
    "at_1 = steam_df[steam_df['playtime'] == 1].shape[0]\n",
    "print('User purchased but did not play: ', at_1)\n",
    "print('Dropping ', over_1000 + at_1)\n",
    "steam_df_no_outliers = steam_df[(steam_df['playtime'] <= 1000) & (steam_df['playtime'] > 1)]"
   ]
  },
  {
   "cell_type": "markdown",
   "metadata": {},
   "source": [
    "## What is the distribution of Hours Played for games?"
   ]
  },
  {
   "cell_type": "code",
   "execution_count": 5,
   "metadata": {},
   "outputs": [
    {
     "name": "stdout",
     "output_type": "stream",
     "text": [
      "Average hours played:  43.1691512063833\n"
     ]
    },
    {
     "data": {
      "image/png": "[encoded data removed]",
      "text/plain": [
       "<matplotlib.figure.Figure at 0x10fff7630>"
      ]
     },
     "metadata": {},
     "output_type": "display_data"
    }
   ],
   "source": [
    "print('Average hours played: ', steam_df_no_outliers['playtime'].mean())\n",
    "ax, fig = plt.subplots()\n",
    "fig.hist(steam_df_no_outliers['playtime'], bins=1000, normed=True)\n",
    "fig.set_xlim(0, 40)\n",
    "fig.set_title('Distribution of Hours Played')\n",
    "fig.set_xlabel('Game Hours')\n",
    "ax.show()"
   ]
  },
  {
   "cell_type": "markdown",
   "metadata": {},
   "source": [
    "## The Percent of Users who have played many games is low\n",
    "#### But users need to have played a significant number of games before we can recommend anything"
   ]
  },
  {
   "cell_type": "code",
   "execution_count": 11,
   "metadata": {},
   "outputs": [
    {
     "name": "stdout",
     "output_type": "stream",
     "text": [
      "Number of unique users:  11350\n"
     ]
    },
    {
     "data": {
      "image/png": "[encoded data removed]",
      "text/plain": [
       "<matplotlib.figure.Figure at 0x1163d95f8>"
      ]
     },
     "metadata": {},
     "output_type": "display_data"
    }
   ],
   "source": [
    "game_counts = steam_df.groupby('uid').count()\n",
    "print('Number of unique users: ', game_counts.shape[0])\n",
    "\n",
    "range_max = 30\n",
    "counts = [game_counts[game_counts['game_name'] >= i].shape[0] for i in range (1, range_max)]\n",
    "percent_counts = [count / counts[0] for count in counts]\n",
    "\n",
    "fig, ax = plt.subplots()\n",
    "ax.bar(list(range(1, range_max)), percent_counts)\n",
    "ax.set_title('User Dropoff with Games Played', fontsize=18)\n",
    "ax.set_xlabel('Minimum Games Played', fontsize=16)\n",
    "ax.set_ylabel('% of Users', fontsize=16)\n",
    "fig.tight_layout()\n",
    "fig.show()\n",
    "fig.savefig('../figures/user_dropoff.png')"
   ]
  },
  {
   "cell_type": "markdown",
   "metadata": {},
   "source": [
    "## Restrict analysis to users with n games played\n",
    "### n is 5 here"
   ]
  },
  {
   "cell_type": "code",
   "execution_count": 32,
   "metadata": {},
   "outputs": [
    {
     "data": {
      "image/png": "[encoded data removed]",
      "text/plain": [
       "<matplotlib.figure.Figure at 0x112dd3cf8>"
      ]
     },
     "metadata": {},
     "output_type": "display_data"
    }
   ],
   "source": [
    "fig, ax = plt.subplots()\n",
    "ax.bar(list(range(1, range_max)), percent_counts)\n",
    "ax.set_title('User Dropoff with Games Played')\n",
    "ax.set_xlabel('Games Played')\n",
    "ax.set_ylabel('% of Users')\n",
    "ax.axhline(percent_counts[], color='black', linestyle=':')\n",
    "fig.show()\n",
    "fig.savefig('../figures/user_dropoff_5.png')"
   ]
  },
  {
   "cell_type": "code",
   "execution_count": 19,
   "metadata": {},
   "outputs": [
    {
     "name": "stdout",
     "output_type": "stream",
     "text": [
      "Record count:  57789\n",
      "User count:  2436\n"
     ]
    }
   ],
   "source": [
    "no_cold_start_df = EDA.load_200k_restrict_data(5)\n",
    "user_count = no_cold_start_df.groupby('uid').count().shape[0]\n",
    "print('Record count: ', no_cold_start_df.shape[0])\n",
    "print('User count: ', user_count)"
   ]
  },
  {
   "cell_type": "code",
   "execution_count": 109,
   "metadata": {},
   "outputs": [
    {
     "data": {
      "text/html": [
       "<div>\n",
       "<style>\n",
       "    .dataframe thead tr:only-child th {\n",
       "        text-align: right;\n",
       "    }\n",
       "\n",
       "    .dataframe thead th {\n",
       "        text-align: left;\n",
       "    }\n",
       "\n",
       "    .dataframe tbody tr th {\n",
       "        vertical-align: top;\n",
       "    }\n",
       "</style>\n",
       "<table border=\"1\" class=\"dataframe\">\n",
       "  <thead>\n",
       "    <tr style=\"text-align: right;\">\n",
       "      <th></th>\n",
       "      <th>uid</th>\n",
       "      <th>game_name</th>\n",
       "      <th>purchase_action</th>\n",
       "      <th>playtime</th>\n",
       "      <th>playtime_mean</th>\n",
       "      <th>playtime_min</th>\n",
       "      <th>playtime_max</th>\n",
       "      <th>game_counts</th>\n",
       "      <th>min_max</th>\n",
       "    </tr>\n",
       "  </thead>\n",
       "  <tbody>\n",
       "    <tr>\n",
       "      <th>1</th>\n",
       "      <td>151603712</td>\n",
       "      <td>The Elder Scrolls V Skyrim</td>\n",
       "      <td>play</td>\n",
       "      <td>273.0</td>\n",
       "      <td>105.721530</td>\n",
       "      <td>0.1</td>\n",
       "      <td>1986.0</td>\n",
       "      <td>562</td>\n",
       "      <td>0.549675</td>\n",
       "    </tr>\n",
       "    <tr>\n",
       "      <th>3</th>\n",
       "      <td>151603712</td>\n",
       "      <td>Fallout 4</td>\n",
       "      <td>play</td>\n",
       "      <td>87.0</td>\n",
       "      <td>65.274172</td>\n",
       "      <td>0.2</td>\n",
       "      <td>629.0</td>\n",
       "      <td>151</td>\n",
       "      <td>0.552163</td>\n",
       "    </tr>\n",
       "    <tr>\n",
       "      <th>5</th>\n",
       "      <td>151603712</td>\n",
       "      <td>Spore</td>\n",
       "      <td>play</td>\n",
       "      <td>14.9</td>\n",
       "      <td>26.016667</td>\n",
       "      <td>0.1</td>\n",
       "      <td>417.0</td>\n",
       "      <td>54</td>\n",
       "      <td>0.142000</td>\n",
       "    </tr>\n",
       "    <tr>\n",
       "      <th>7</th>\n",
       "      <td>151603712</td>\n",
       "      <td>Fallout New Vegas</td>\n",
       "      <td>play</td>\n",
       "      <td>12.1</td>\n",
       "      <td>52.247843</td>\n",
       "      <td>0.1</td>\n",
       "      <td>417.0</td>\n",
       "      <td>255</td>\n",
       "      <td>0.115136</td>\n",
       "    </tr>\n",
       "  </tbody>\n",
       "</table>\n",
       "</div>"
      ],
      "text/plain": [
       "         uid                   game_name purchase_action  playtime  \\\n",
       "1  151603712  The Elder Scrolls V Skyrim            play     273.0   \n",
       "3  151603712                   Fallout 4            play      87.0   \n",
       "5  151603712                       Spore            play      14.9   \n",
       "7  151603712           Fallout New Vegas            play      12.1   \n",
       "\n",
       "   playtime_mean  playtime_min  playtime_max  game_counts   min_max  \n",
       "1     105.721530           0.1        1986.0          562  0.549675  \n",
       "3      65.274172           0.2         629.0          151  0.552163  \n",
       "5      26.016667           0.1         417.0           54  0.142000  \n",
       "7      52.247843           0.1         417.0          255  0.115136  "
      ]
     },
     "execution_count": 109,
     "metadata": {},
     "output_type": "execute_result"
    }
   ],
   "source": [
    "# add_summaries has been moved to PandasALSPreprocessor\n",
    "final = EDA.add_summaries(no_cold_start_df)\n",
    "final.head(4)"
   ]
  },
  {
   "cell_type": "markdown",
   "metadata": {
    "collapsed": true
   },
   "source": [
    "## Game cutoff with Users"
   ]
  },
  {
   "cell_type": "code",
   "execution_count": 10,
   "metadata": {},
   "outputs": [
    {
     "name": "stdout",
     "output_type": "stream",
     "text": [
      "Number of unique games:  3600\n"
     ]
    },
    {
     "data": {
      "image/png": "[encoded data removed]",
      "text/plain": [
       "<matplotlib.figure.Figure at 0x10d9e7048>"
      ]
     },
     "metadata": {},
     "output_type": "display_data"
    }
   ],
   "source": [
    "user_counts = steam_df.groupby('game_name').count()\n",
    "print('Number of unique games: ', user_counts.shape[0])\n",
    "\n",
    "range_max = 30\n",
    "counts = [user_counts[user_counts['uid'] >= i].shape[0] for i in range (1, range_max)]\n",
    "percent_counts = [count / counts[0] for count in counts]\n",
    "\n",
    "fig, ax = plt.subplots()\n",
    "ax.bar(list(range(1, range_max)), percent_counts)\n",
    "ax.set_title('Game Dropoff with Users Who Have Played')\n",
    "ax.set_xlabel('Users Who Have Played')\n",
    "ax.set_ylabel('% of Games')\n",
    "fig.show()\n",
    "fig.savefig('../figures/game_dropoff.png')"
   ]
  },
  {
   "cell_type": "markdown",
   "metadata": {
    "collapsed": true
   },
   "source": [
    "# Goal:\n",
    "\n",
    "## Provide value to users who have already played a few games"
   ]
  }
 ],
 "metadata": {
  "kernelspec": {
   "display_name": "Python 3",
   "language": "python",
   "name": "python3"
  },
  "language_info": {
   "codemirror_mode": {
    "name": "ipython",
    "version": 3
   },
   "file_extension": ".py",
   "mimetype": "text/x-python",
   "name": "python",
   "nbconvert_exporter": "python",
   "pygments_lexer": "ipython3",
   "version": "3.6.3"
  }
 },
 "nbformat": 4,
 "nbformat_minor": 2
}
