{
 "cells": [
  {
   "cell_type": "markdown",
   "metadata": {},
   "source": [
    "# Tweaking the Model"
   ]
  },
  {
   "cell_type": "code",
   "execution_count": 1,
   "metadata": {},
   "outputs": [],
   "source": [
    "import math\n",
    "import random\n",
    "import pandas as pd\n",
    "import numpy as np\n",
    "import matplotlib.pyplot as plt\n",
    "%matplotlib inline\n",
    "\n",
    "import pyspark\n",
    "from pyspark.sql import SparkSession\n",
    "from pyspark.ml.recommendation import ALS\n",
    "from pyspark.ml.tuning import CrossValidator, ParamGridBuilder, TrainValidationSplit\n",
    "from pyspark.ml.evaluation import RegressionEvaluator\n",
    "\n",
    "import os, sys\n",
    "sys.path.append(os.path.dirname(os.path.dirname(os.path.abspath('__file__'))))\n",
    "# can try doing addfiles to spark init in nb_spark - maybe terminal option for files\n",
    "from src import EDA, ModelEvaluation, Preprocess, Split\n",
    "%load_ext autoreload\n",
    "%autoreload 2\n",
    "\n",
    "spark_session = SparkSession.builder.getOrCreate()"
   ]
  },
  {
   "cell_type": "code",
   "execution_count": 2,
   "metadata": {},
   "outputs": [
    {
     "name": "stderr",
     "output_type": "stream",
     "text": [
      "/Users/michaelbarton/Code/gproject/src/EDA.py:26: UserWarning: Boolean Series key will be reindexed to match DataFrame index.\n",
      "  return filtered_users[steam_df['game_name'].isin(usable_games['game_name'].values)]\n",
      "/Users/michaelbarton/anaconda2/envs/py36/lib/python3.6/site-packages/pandas/core/groupby.py:4036: FutureWarning: using a dict with renaming is deprecated and will be removed in a future version\n",
      "  return super(DataFrameGroupBy, self).aggregate(arg, *args, **kwargs)\n"
     ]
    },
    {
     "data": {
      "text/html": [
       "<div>\n",
       "<style>\n",
       "    .dataframe thead tr:only-child th {\n",
       "        text-align: right;\n",
       "    }\n",
       "\n",
       "    .dataframe thead th {\n",
       "        text-align: left;\n",
       "    }\n",
       "\n",
       "    .dataframe tbody tr th {\n",
       "        vertical-align: top;\n",
       "    }\n",
       "</style>\n",
       "<table border=\"1\" class=\"dataframe\">\n",
       "  <thead>\n",
       "    <tr style=\"text-align: right;\">\n",
       "      <th></th>\n",
       "      <th>uid</th>\n",
       "      <th>playtime</th>\n",
       "      <th>playtime_min_max</th>\n",
       "      <th>game_name</th>\n",
       "      <th>game_uid</th>\n",
       "    </tr>\n",
       "  </thead>\n",
       "  <tbody>\n",
       "    <tr>\n",
       "      <th>1</th>\n",
       "      <td>151603712</td>\n",
       "      <td>273.0</td>\n",
       "      <td>0.412256</td>\n",
       "      <td>The Elder Scrolls V Skyrim</td>\n",
       "      <td>0</td>\n",
       "    </tr>\n",
       "    <tr>\n",
       "      <th>3</th>\n",
       "      <td>151603712</td>\n",
       "      <td>87.0</td>\n",
       "      <td>0.414122</td>\n",
       "      <td>Fallout 4</td>\n",
       "      <td>1</td>\n",
       "    </tr>\n",
       "  </tbody>\n",
       "</table>\n",
       "</div>"
      ],
      "text/plain": [
       "         uid  playtime  playtime_min_max                   game_name  game_uid\n",
       "1  151603712     273.0          0.412256  The Elder Scrolls V Skyrim         0\n",
       "3  151603712      87.0          0.414122                   Fallout 4         1"
      ]
     },
     "execution_count": 2,
     "metadata": {},
     "output_type": "execute_result"
    }
   ],
   "source": [
    "steam_df = EDA.load_without_cold_start(min_games_played=5, min_users_for_game=3)\n",
    "preprocessor = Preprocess.PandasALSPreprocessor(steam_df)\n",
    "preprocessor.process_general()\n",
    "preprocessor.process_buckets()\n",
    "preprocessor.process_min_max()\n",
    "preprocessor.keep_standard_columns()\n",
    "steam_df = preprocessor.get_df()\n",
    "steam_df.head(2)"
   ]
  },
  {
   "cell_type": "code",
   "execution_count": 3,
   "metadata": {
    "scrolled": true
   },
   "outputs": [
    {
     "name": "stdout",
     "output_type": "stream",
     "text": [
      "split sizes:  (49854, 5213)\n",
      "Number of users:  2192\n",
      "train test split size 0:  (42661, 7129)\n",
      "train test split size 1:  (43515, 6275)\n",
      "train test split size 2:  (42998, 6792)\n",
      "train test split size 3:  (42501, 7289)\n",
      "train test split size 4:  (42067, 7723)\n"
     ]
    }
   ],
   "source": [
    "# need holdout users.  Hold out 10%.  We could put some percent of their games into\n",
    "# the training but it will make it very complicated\n",
    "pandas_train_test = Split.PandasTrainTest(steam_df, seed=1)\n",
    "train_val, holdout_test = pandas_train_test.user_only_split(user_split_train=.9)\n",
    "print('split sizes: ', (train_val.shape[0], holdout_test.shape[0]))\n",
    "\n",
    "pandas_train_test = Split.PandasTrainTest(train_val, seed=1)\n",
    "k_fold_dfs = pandas_train_test.get_k_folds(5, game_split_train=.3)\n",
    "for i, d in enumerate(k_fold_dfs):\n",
    "    printed = 'train test split size ' + str(i) + ': '\n",
    "    print(printed, (d[0].shape[0], d[1].shape[0]))"
   ]
  },
  {
   "cell_type": "code",
   "execution_count": 4,
   "metadata": {
    "collapsed": true
   },
   "outputs": [],
   "source": [
    "# Convert to spark\n",
    "sparkified_k_fold_dfs = [(spark_session.createDataFrame(a), spark_session.createDataFrame(b)) for a, b in k_fold_dfs]"
   ]
  },
  {
   "cell_type": "code",
   "execution_count": 6,
   "metadata": {},
   "outputs": [],
   "source": [
    "als_models = [ALS(\n",
    "    itemCol='game_uid',\n",
    "    userCol='uid',\n",
    "    ratingCol='playtime_min_max',\n",
    "    nonnegative=True,    \n",
    "    regParam=0.1,\n",
    "    coldStartStrategy=\"drop\", # Drops if user or item in test was not in train\n",
    "    rank=i\n",
    ") for i in range(1, 100)]"
   ]
  },
  {
   "cell_type": "code",
   "execution_count": 7,
   "metadata": {},
   "outputs": [
    {
     "name": "stdout",
     "output_type": "stream",
     "text": [
      "rmse: 0.6950887698192904\n",
      "rmse: 0.6970252361930702\n",
      "rmse: 0.698893931829734\n",
      "rmse: 0.6940727429391034\n",
      "rmse: 0.6905435715170509\n",
      "rmse: 0.6890981243456585\n",
      "rmse: 0.6868152363101588\n",
      "rmse: 0.6835677669531479\n",
      "rmse: 0.6848170447160001\n",
      "rmse: 0.6863318385234651\n",
      "rmse: 0.6826298651650528\n"
     ]
    }
   ],
   "source": [
    "mean_rmses = []\n",
    "for als_model in als_models[:11]:\n",
    "    rmses = []\n",
    "    for train, test in sparkified_k_fold_dfs:\n",
    "        fitted_als_model = als_model.fit(train)\n",
    "        predictions = fitted_als_model.transform(test)\n",
    "        evaluator = RegressionEvaluator() \\\n",
    "            .setMetricName(\"rmse\") \\\n",
    "            .setLabelCol(\"playtime_min_max\") \\\n",
    "            .setPredictionCol(\"prediction\")\n",
    "        rmse = evaluator.evaluate(predictions)\n",
    "        rmses.append(rmse)\n",
    "    mean_rmse = sum(rmses) / len(rmses)\n",
    "    print('rmse: {}'.format(mean_rmse))\n",
    "    mean_rmses.append(mean_rmse)"
   ]
  },
  {
   "cell_type": "code",
   "execution_count": 9,
   "metadata": {},
   "outputs": [
    {
     "name": "stdout",
     "output_type": "stream",
     "text": [
      "rmse: 0.6829671060195952\n",
      "rmse: 0.6819593198397017\n",
      "rmse: 0.6781553274795546\n",
      "rmse: 0.6774872398675311\n",
      "rmse: 0.6789165435054688\n",
      "rmse: 0.6788463190278659\n",
      "rmse: 0.6769692908079634\n",
      "rmse: 0.6771703567633454\n",
      "rmse: 0.677417898154309\n",
      "rmse: 0.676713354481069\n"
     ]
    }
   ],
   "source": [
    "mean_rmses2 = []\n",
    "# shoulda done 0:10 for first\n",
    "for als_model in als_models[11:21]:\n",
    "    rmses = []\n",
    "    for train, test in sparkified_k_fold_dfs:\n",
    "        fitted_als_model = als_model.fit(train)\n",
    "        predictions = fitted_als_model.transform(test)\n",
    "        evaluator = RegressionEvaluator() \\\n",
    "            .setMetricName(\"rmse\") \\\n",
    "            .setLabelCol(\"playtime_min_max\") \\\n",
    "            .setPredictionCol(\"prediction\")\n",
    "        rmse = evaluator.evaluate(predictions)\n",
    "        rmses.append(rmse)\n",
    "    mean_rmse = sum(rmses) / len(rmses)\n",
    "    print('rmse: {}'.format(mean_rmse))\n",
    "    mean_rmses2.append(mean_rmse)"
   ]
  },
  {
   "cell_type": "code",
   "execution_count": 10,
   "metadata": {},
   "outputs": [
    {
     "name": "stderr",
     "output_type": "stream",
     "text": [
      "/Users/michaelbarton/anaconda2/envs/py36/lib/python3.6/site-packages/matplotlib/figure.py:418: UserWarning: matplotlib is currently using a non-GUI backend, so cannot show the figure\n",
      "  \"matplotlib is currently using a non-GUI backend, \"\n"
     ]
    },
    {
     "data": {
      "image/png": "[encoded data removed]",
      "text/plain": [
       "<matplotlib.figure.Figure at 0x116f22d68>"
      ]
     },
     "metadata": {},
     "output_type": "display_data"
    }
   ],
   "source": [
    "fig, ax = plt.subplots()\n",
    "ax.scatter(list(range(0,21)), mean_rmses + mean_rmses2)\n",
    "ax.set_title('Kfold Mean RMSES for models with Different Ranks')\n",
    "ax.set_xlabel('Rank')\n",
    "ax.set_ylabel('Mean RMSE')\n",
    "fig.show()\n",
    "fig.savefig('../figures/rank_rmse_decreasing.png')"
   ]
  },
  {
   "cell_type": "code",
   "execution_count": 35,
   "metadata": {
    "collapsed": true
   },
   "outputs": [],
   "source": [
    "mean_rmses3 = []\n",
    "# shoulda done 0:10 for first\n",
    "for als_model in als_rank_models[21:31]:\n",
    "    rmses = []\n",
    "    for train, test in sparkified_k_fold_dfs:\n",
    "        fitted_als_model = als_model.fit(train)\n",
    "        predictions = fitted_als_model.transform(test)\n",
    "        evaluator = RegressionEvaluator() \\\n",
    "            .setMetricName(\"rmse\") \\\n",
    "            .setLabelCol(\"playtime_min_max\") \\\n",
    "            .setPredictionCol(\"prediction\")\n",
    "        rmse = evaluator.evaluate(predictions)\n",
    "        rmses.append(rmse)\n",
    "    mean_rmse = sum(rmses) / len(rmses)\n",
    "    mean_rmses3.append(mean_rmse)"
   ]
  },
  {
   "cell_type": "code",
   "execution_count": 47,
   "metadata": {},
   "outputs": [
    {
     "name": "stderr",
     "output_type": "stream",
     "text": [
      "/Users/michaelbarton/anaconda2/envs/py36/lib/python3.6/site-packages/matplotlib/figure.py:418: UserWarning: matplotlib is currently using a non-GUI backend, so cannot show the figure\n",
      "  \"matplotlib is currently using a non-GUI backend, \"\n"
     ]
    },
    {
     "data": {
      "text/plain": [
       "0.7345949071133352"
      ]
     },
     "execution_count": 47,
     "metadata": {},
     "output_type": "execute_result"
    },
    {
     "data": {
      "image/png": "[encoded data removed]",
      "text/plain": [
       "<matplotlib.figure.Figure at 0x10f7cc1d0>"
      ]
     },
     "metadata": {},
     "output_type": "display_data"
    }
   ],
   "source": [
    "fig, ax = plt.subplots()\n",
    "combined_rmses = mean_rmses + mean_rmses2 + mean_rmses3\n",
    "ax.scatter(list(range(1,32)), combined_rmses)\n",
    "ax.set_title('Kfold Mean RMSES for models with Different Ranks')\n",
    "ax.set_xlabel('Rank')\n",
    "ax.set_ylabel('Mean RMSE')\n",
    "ax.axvline(11, color='black', linestyle=':')\n",
    "ax.axvline(27, color='black', linestyle=':')\n",
    "fig.show()\n",
    "combined_rmses[26]"
   ]
  },
  {
   "cell_type": "code",
   "execution_count": 16,
   "metadata": {
    "collapsed": true
   },
   "outputs": [],
   "source": [
    "# we leave more than the top sorted by prediction because the actual may be n away from the \n",
    "# top predictions\n",
    "def sort_predictions_slice(arr, n):\n",
    "    actual_and_pred = np.array(arr)\n",
    "    # sort by predictions\n",
    "    indeces = np.argsort(actual_and_pred[:, 1])\n",
    "    return actual_and_pred[indeces[::-1]][:n].tolist()\n",
    "\n",
    "def dcg_at_k(scores, k):\n",
    "    \"\"\"\n",
    "    Discounted cumulative gain\n",
    "    See http://fastml.com/evaluating-recommender-systems/\n",
    "    Args:\n",
    "        r: List - Relevance scores in rank order\n",
    "        k: Number of results to consider\n",
    "    Returns:\n",
    "        Float\n",
    "    \"\"\"\n",
    "    r = np.asfarray(scores)[:k]\n",
    "    if r.size:\n",
    "        # item 1 and 2 have same weights\n",
    "        # return r[0] + np.sum(r[1:] / np.log2(np.arange(2, r.size + 1)))\n",
    "        # use below for more emphasis on first rank\n",
    "        return np.sum(r / np.log2(np.arange(2, r.size + 2)))\n",
    "    print('sersly?')\n",
    "    return 0.\n",
    "\n",
    "def ndcg_at_k(scores, k):\n",
    "    \"\"\"\n",
    "    Normalized Discounted cumulative gain\n",
    "    See http://fastml.com/evaluating-recommender-systems/\n",
    "    Args:\n",
    "        r: List - Relevance scores in rank order\n",
    "        k: Number of results to consider\n",
    "    Returns:\n",
    "        Float from 0 to 1\n",
    "    \"\"\"\n",
    "    dcg_max = dcg_at_k(sorted(scores, reverse=True), k)\n",
    "    if not dcg_max:\n",
    "        return 0.\n",
    "    return dcg_at_k(scores, k) / dcg_max\n",
    "\n",
    "def get_rdd_ndcg(rdd, top_n=3, label_col='playtime_min_max', prediction_col='prediction', id_col='uid'):\n",
    "    rdd_ndcg = rdd.map(lambda row: (row[id_col], [(row[label_col], row[prediction_col])])) \\\n",
    "        .reduceByKey(lambda total, val: total + val) \\\n",
    "        .map(lambda kv: (kv[0], sort_predictions_slice(kv[1], 1000))) \\\n",
    "        .map(lambda kv: ndcg_at_k(np.array(kv[1])[:, 0], top_n)) \\\n",
    "        .sum()\n",
    "    return rdd_ndcg\n",
    "\n",
    "def fit_and_calculate_kfold_ndcg(model, train_test_dfs):\n",
    "    results = []\n",
    "    for train, test in train_test_dfs:\n",
    "        fitted_model = model.fit(train)\n",
    "        predictions = fitted_model.transform(test)\n",
    "        predictions_rdd = predictions.rdd\n",
    "        ndcg = get_rdd_ndcg(predictions_rdd, top_n=5, prediction_col='prediction')\n",
    "        # can divide ndcg by user count - would be more efficient to pass counts\n",
    "        num_users = len(predictions.groupby('uid').count().collect())\n",
    "        results.append(ndcg / num_users)\n",
    "    return sum(results) / len(results)"
   ]
  },
  {
   "cell_type": "code",
   "execution_count": 17,
   "metadata": {},
   "outputs": [
    {
     "name": "stdout",
     "output_type": "stream",
     "text": [
      "rank: 1, ndcg: 0.8259876377701477\n",
      "rank: 2, ndcg: 0.821533715461902\n",
      "rank: 3, ndcg: 0.8206144369044376\n"
     ]
    }
   ],
   "source": [
    "als_models = [ALS(\n",
    "    itemCol='game_uid',\n",
    "    userCol='uid',\n",
    "    ratingCol='playtime_min_max',\n",
    "    nonnegative=True,    \n",
    "    regParam=0.1,\n",
    "    coldStartStrategy=\"drop\", # Drops if user or item in test was not in train\n",
    "    rank=i\n",
    ") for i in range(1, 101, 5)]\n",
    "mean_ndcgs = []\n",
    "for als_model in als_models[:3]:\n",
    "    mean_ndcg = fit_and_calculate_kfold_ndcg(als_model, sparkified_k_fold_dfs)\n",
    "    print('rank: {}, ndcg: {}'.format(als_model.getRank(), mean_ndcg))\n",
    "    mean_ndcgs.append(mean_ndcg)"
   ]
  },
  {
   "cell_type": "code",
   "execution_count": 11,
   "metadata": {},
   "outputs": [],
   "source": [
    "mean_ndcgs_test = []\n",
    "for als_model in als_models[26:28]:\n",
    "    mean_ndcg = fit_and_calculate_kfold_ndcg(als_model, sparkified_k_fold_dfs)\n",
    "    print('rank: {}, ndcg: {}'.format(als_model.getRank(), mean_ndcg))\n",
    "    mean_ndcgs_test.append(mean_ndcg)\n",
    "    \n",
    "# looks like it is just becoming more certain about the rankings... not changing anything"
   ]
  },
  {
   "cell_type": "code",
   "execution_count": 99,
   "metadata": {},
   "outputs": [
    {
     "data": {
      "text/plain": [
       "438"
      ]
     },
     "execution_count": 99,
     "metadata": {},
     "output_type": "execute_result"
    }
   ],
   "source": [
    "test_mod = als_models[0]\n",
    "ttrain, ttest = sparkified_k_fold_dfs[0]\n",
    "fitted_test_model = test_mod.fit(ttrain)\n",
    "test_predictions = fitted_test_model.transform(ttest)\n",
    "len(test_predictions.groupby('uid').count().collect())"
   ]
  },
  {
   "cell_type": "code",
   "execution_count": 12,
   "metadata": {},
   "outputs": [],
   "source": [
    "fig, ax = plt.subplots()\n",
    "ax.scatter(list(range(1,11)), mean_ndcgs)\n",
    "ax.set_title('Kfold NDCG for models with Different Ranks')\n",
    "ax.set_xlabel('Rank')\n",
    "ax.set_ylabel('Mean NDCG')\n",
    "fig.show()\n",
    "# mean_rmses"
   ]
  },
  {
   "cell_type": "code",
   "execution_count": 15,
   "metadata": {},
   "outputs": [
    {
     "name": "stdout",
     "output_type": "stream",
     "text": [
      "11\n",
      "rank: 11, ndcg: 0.03218711119679153\n",
      "12\n",
      "rank: 12, ndcg: 0.03177689593541009\n",
      "13\n",
      "rank: 13, ndcg: 0.032058995047159644\n",
      "14\n",
      "rank: 14, ndcg: 0.03221837975102719\n",
      "15\n",
      "rank: 15, ndcg: 0.03200839116979423\n",
      "16\n",
      "rank: 16, ndcg: 0.032659435392872985\n",
      "17\n",
      "rank: 17, ndcg: 0.03211225546781417\n",
      "18\n",
      "rank: 18, ndcg: 0.03173045352966628\n",
      "19\n",
      "rank: 19, ndcg: 0.03215484782017845\n",
      "20\n",
      "rank: 20, ndcg: 0.0322285678283997\n"
     ]
    }
   ],
   "source": [
    "mean_ndcgs2 = []\n",
    "for als_model in als_models[10:20]:\n",
    "    mean_ndcg = fit_and_calculate_kfold_ndcg(als_model, sparkified_k_fold_dfs)\n",
    "    print('rank: {}, ndcg: {}'.format(als_model.getRank(), mean_ndcg))\n",
    "    mean_ndcgs2.append(mean_ndcg)"
   ]
  },
  {
   "cell_type": "code",
   "execution_count": 19,
   "metadata": {},
   "outputs": [
    {
     "name": "stderr",
     "output_type": "stream",
     "text": [
      "/Users/michaelbarton/anaconda2/envs/py36/lib/python3.6/site-packages/matplotlib/figure.py:418: UserWarning: matplotlib is currently using a non-GUI backend, so cannot show the figure\n",
      "  \"matplotlib is currently using a non-GUI backend, \"\n"
     ]
    },
    {
     "data": {
      "image/png": "[encoded data removed]",
      "text/plain": [
       "<matplotlib.figure.Figure at 0x118b32358>"
      ]
     },
     "metadata": {},
     "output_type": "display_data"
    }
   ],
   "source": [
    "fig, ax = plt.subplots()\n",
    "ax.scatter(list(range(1,21)), mean_ndcgs + mean_ndcgs2)\n",
    "ax.set_title('Kfold Mean NDCG for models with Different Ranks')\n",
    "ax.set_xlabel('Rank')\n",
    "ax.set_ylabel('Mean NDCG')\n",
    "fig.show()\n",
    "# mean_rmses"
   ]
  },
  {
   "cell_type": "code",
   "execution_count": 17,
   "metadata": {},
   "outputs": [
    {
     "name": "stdout",
     "output_type": "stream",
     "text": [
      "rank: 21, ndcg: 0.03216954117170926\n",
      "rank: 22, ndcg: 0.03239536669845905\n",
      "rank: 23, ndcg: 0.03204883836663193\n",
      "rank: 24, ndcg: 0.0320211984777437\n",
      "rank: 25, ndcg: 0.031923914026656244\n",
      "rank: 26, ndcg: 0.031973262301568335\n",
      "rank: 27, ndcg: 0.03299763914757485\n",
      "rank: 28, ndcg: 0.03260655299742274\n",
      "rank: 29, ndcg: 0.03217291391158036\n",
      "rank: 30, ndcg: 0.03222419605639058\n"
     ]
    }
   ],
   "source": [
    "mean_ndcgs3 = []\n",
    "for als_model in als_models[20:30]:\n",
    "    mean_ndcg = fit_and_calculate_kfold_ndcg(als_model, sparkified_k_fold_dfs)\n",
    "    print('rank: {}, ndcg: {}'.format(als_model.getRank(), mean_ndcg))\n",
    "    mean_ndcgs3.append(mean_ndcg)"
   ]
  },
  {
   "cell_type": "code",
   "execution_count": 20,
   "metadata": {},
   "outputs": [
    {
     "name": "stdout",
     "output_type": "stream",
     "text": [
      "rank: 31, ndcg: 0.03264524983692711\n",
      "rank: 32, ndcg: 0.03251543088108967\n",
      "rank: 33, ndcg: 0.03244909694715743\n",
      "rank: 34, ndcg: 0.032149768646618136\n",
      "rank: 35, ndcg: 0.03227262370049352\n",
      "rank: 36, ndcg: 0.032493017365067926\n",
      "rank: 37, ndcg: 0.03263978890530025\n",
      "rank: 38, ndcg: 0.03228899511075565\n",
      "rank: 39, ndcg: 0.03227304166459331\n",
      "rank: 40, ndcg: 0.03211152470374258\n"
     ]
    }
   ],
   "source": [
    "mean_ndcgs4 = []\n",
    "for als_model in als_models[30:40]:\n",
    "    mean_ndcg = fit_and_calculate_kfold_ndcg(als_model, sparkified_k_fold_dfs)\n",
    "    print('rank: {}, ndcg: {}'.format(als_model.getRank(), mean_ndcg))\n",
    "    mean_ndcgs4.append(mean_ndcg)"
   ]
  },
  {
   "cell_type": "code",
   "execution_count": 84,
   "metadata": {
    "collapsed": true
   },
   "outputs": [],
   "source": [
    "def get_rdd_average_ndcg_2(rdd, top_n=3, label_col='playtime_min_max', prediction_col='prediction', id_col='uid'):\n",
    "    count = rdd.count()\n",
    "    ndcg = rdd.map(lambda row: (row[id_col], [(row[label_col], row[prediction_col])])) \\\n",
    "        .reduceByKey(lambda total, val: total + val) \\\n",
    "        .map(lambda kv: (kv[0], sort_predictions_slice(kv[1], 3))) \\\n",
    "        .map(lambda kv: ndcg_at_k(np.array(kv[1])[:, 0], top_n)) \\\n",
    "        .reduce(lambda total, gain: total + gain)\n",
    "    average_ndcg = ndcg / count\n",
    "    return average_ndcg\n",
    "\n",
    "def test_alg(rdd, top_n=3, label_col='playtime_min_max', prediction_col='prediction', id_col='uid'):\n",
    "    test = rdd.map(lambda row: (row[id_col], [(row[label_col], row[prediction_col])])) \\\n",
    "        .reduceByKey(lambda total, val: total + val) \\\n",
    "        .map(lambda kv: (kv[0], sort_predictions_slice(kv[1], 3))) \\\n",
    "        .map(lambda kv: ndcg_at_k(np.array(kv[1])[:, 0], top_n)) \\\n",
    "        .sum()\n",
    "#         .reduce(lambda total, gain: total + gain)\n",
    "    return test\n",
    "\n",
    "def test_test(model, train_test_dfs):\n",
    "    results = []\n",
    "    for train, test in train_test_dfs:\n",
    "        fitted_model = model.fit(train)\n",
    "        predictions_rdd = fitted_model.transform(test).rdd\n",
    "        # sampled = predictions_rdd.sample(False, 1, 1)\n",
    "        test = test_alg(predictions_rdd, prediction_col='prediction')\n",
    "        results.append(test)\n",
    "    return results\n",
    "\n",
    "def fit_and_calculate_kfold_ndcg_2(model, train_test_dfs):\n",
    "    results = []\n",
    "    for train, test in train_test_dfs:\n",
    "        fitted_model = model.fit(train)\n",
    "        predictions_rdd = fitted_model.transform(test).rdd\n",
    "        # sampled = predictions_rdd.sample(False, 1, 1)\n",
    "        average_ndcg = get_rdd_average_ndcg_2(predictions_rdd, prediction_col='prediction')\n",
    "        results.append(average_ndcg)\n",
    "    return sum(results) / len(results)\n",
    "\n",
    "def ndcg_at_k(scores, k):\n",
    "    \"\"\"\n",
    "    Normalized Discounted cumulative gain\n",
    "    See http://fastml.com/evaluating-recommender-systems/\n",
    "    Args:\n",
    "        r: List - Relevance scores in rank order\n",
    "        k: Number of results to consider\n",
    "    Returns:\n",
    "        Float from 0 to 1\n",
    "    \"\"\"\n",
    "    dcg_max = dcg_at_k(sorted(scores, reverse=True), k)\n",
    "    if not dcg_max:\n",
    "        return 1.\n",
    "    final = dcg_at_k(scores, k) / dcg_max\n",
    "    if final < 0:\n",
    "        print('ooooo')\n",
    "    return final"
   ]
  },
  {
   "cell_type": "code",
   "execution_count": 85,
   "metadata": {},
   "outputs": [
    {
     "name": "stdout",
     "output_type": "stream",
     "text": [
      "7401\n",
      "6679\n",
      "7093\n",
      "6968\n",
      "8138\n",
      "rank: 1, ndcg: [PythonRDD[13207] at RDD at PythonRDD.scala:48, PythonRDD[13208] at RDD at PythonRDD.scala:48, PythonRDD[13209] at RDD at PythonRDD.scala:48, PythonRDD[13210] at RDD at PythonRDD.scala:48, PythonRDD[13211] at RDD at PythonRDD.scala:48]\n"
     ]
    }
   ],
   "source": [
    "als_models = [ALS(\n",
    "    itemCol='game_uid',\n",
    "    userCol='uid',\n",
    "    ratingCol='playtime_min_max',\n",
    "    nonnegative=True,    \n",
    "    regParam=0.1,\n",
    "    coldStartStrategy=\"drop\", # Drops if user or item in test was not in train\n",
    "    rank=i\n",
    ") for i in range(1, 101)]\n",
    "mean_ndcgs = []\n",
    "for als_model in als_models[:1]:\n",
    "    mean_ndcg = test_test(als_model, sparkified_k_fold_dfs)\n",
    "    print('rank: {}, ndcg: {}'.format(als_model.getRank(), mean_ndcg))"
   ]
  },
  {
   "cell_type": "code",
   "execution_count": 87,
   "metadata": {},
   "outputs": [
    {
     "data": {
      "text/plain": [
       "416.56206904868384"
      ]
     },
     "execution_count": 87,
     "metadata": {},
     "output_type": "execute_result"
    }
   ],
   "source": [
    "collected = mean_ndcg[0].collect()\n",
    "ns = []\n",
    "# for kv in get_100:\n",
    "#     print(kv)\n",
    "sum(collected)"
   ]
  },
  {
   "cell_type": "markdown",
   "metadata": {},
   "source": [
    "### Max Iterations"
   ]
  },
  {
   "cell_type": "code",
   "execution_count": 4,
   "metadata": {
    "collapsed": true
   },
   "outputs": [],
   "source": [
    "als_model = ALS(\n",
    "    itemCol='game_uid',\n",
    "    userCol='uid',\n",
    "    ratingCol='playtime_rank',\n",
    "    nonnegative=True,    \n",
    "    regParam=0.1,\n",
    "    coldStartStrategy=\"drop\", # Drops if user or item in test was not in train\n",
    "    rank=10,\n",
    "    maxIter=20,\n",
    ") \n",
    "\n",
    "fitted_als_model = als_model.fit(train)"
   ]
  },
  {
   "cell_type": "code",
   "execution_count": 6,
   "metadata": {
    "collapsed": true
   },
   "outputs": [],
   "source": [
    "predictions = fitted_als_model.transform(test)"
   ]
  },
  {
   "cell_type": "code",
   "execution_count": 7,
   "metadata": {},
   "outputs": [
    {
     "data": {
      "text/plain": [
       "1.0069301894654907"
      ]
     },
     "execution_count": 7,
     "metadata": {},
     "output_type": "execute_result"
    }
   ],
   "source": [
    "# predictions = fitted_als_model.transform(test)\n",
    "evaluator = RegressionEvaluator() \\\n",
    "    .setMetricName(\"rmse\") \\\n",
    "    .setLabelCol(\"playtime_rank\") \\\n",
    "    .setPredictionCol(\"prediction\")\n",
    "rmse = evaluator.evaluate(predictions)\n",
    "rmse\n",
    "# 1.0051786784416223 with maxIter = 10.."
   ]
  },
  {
   "cell_type": "markdown",
   "metadata": {
    "collapsed": true
   },
   "source": [
    "# No reg"
   ]
  },
  {
   "cell_type": "code",
   "execution_count": 6,
   "metadata": {
    "collapsed": true
   },
   "outputs": [],
   "source": [
    "als_models = [ALS(\n",
    "    itemCol='game_uid',\n",
    "    userCol='uid',\n",
    "    ratingCol='playtime',\n",
    "    nonnegative=True,    \n",
    "    regParam=0.1,\n",
    "    coldStartStrategy=\"drop\", # Drops if user or item in test was not in train\n",
    "    rank=i\n",
    ") for i in range(1, 100)]"
   ]
  },
  {
   "cell_type": "code",
   "execution_count": 8,
   "metadata": {
    "collapsed": true
   },
   "outputs": [],
   "source": [
    "# this is already using all cores\n",
    "mean_rmses = []\n",
    "for als_model in als_models[:10]:\n",
    "    rmses = []\n",
    "    for train, test in sparkified_k_fold_dfs:\n",
    "        fitted_als_model = als_model.fit(train)\n",
    "        predictions = fitted_als_model.transform(test)\n",
    "        evaluator = RegressionEvaluator() \\\n",
    "            .setMetricName(\"rmse\") \\\n",
    "            .setLabelCol(\"playtime_min_max\") \\\n",
    "            .setPredictionCol(\"prediction\")\n",
    "        rmse = evaluator.evaluate(predictions)\n",
    "        rmses.append(rmse)\n",
    "    mean_rmse = sum(rmses) / len(rmses)\n",
    "    mean_rmses.append(mean_rmse)"
   ]
  },
  {
   "cell_type": "code",
   "execution_count": 10,
   "metadata": {},
   "outputs": [
    {
     "data": {
      "text/plain": [
       "461.975980669396"
      ]
     },
     "execution_count": 10,
     "metadata": {},
     "output_type": "execute_result"
    }
   ],
   "source": [
    "sum(mean_rmses) / len(mean_rmses)"
   ]
  },
  {
   "cell_type": "code",
   "execution_count": 11,
   "metadata": {},
   "outputs": [
    {
     "data": {
      "text/plain": [
       "[442.70455082893966,\n",
       " 701.21078942383,\n",
       " 616.7765002619902,\n",
       " 545.8536944885054,\n",
       " 548.2485059854025,\n",
       " 457.3473455728757,\n",
       " 405.6827558159439,\n",
       " 341.9442691354975,\n",
       " 295.9830021694369,\n",
       " 264.0083930115378]"
      ]
     },
     "execution_count": 11,
     "metadata": {},
     "output_type": "execute_result"
    }
   ],
   "source": [
    "mean_rmses"
   ]
  },
  {
   "cell_type": "code",
   "execution_count": 19,
   "metadata": {},
   "outputs": [
    {
     "name": "stdout",
     "output_type": "stream",
     "text": [
      "rank: 10, ndcg: 0.8221150766608506\n",
      "rank: 10, ndcg: 0.8225699453319308\n",
      "rank: 10, ndcg: 0.8226940435114523\n",
      "rank: 10, ndcg: 0.8213233517412105\n",
      "rank: 10, ndcg: 0.8209206282969582\n",
      "rank: 10, ndcg: 0.8212076336757239\n",
      "rank: 10, ndcg: 0.8210023672984903\n"
     ]
    },
    {
     "ename": "KeyboardInterrupt",
     "evalue": "",
     "output_type": "error",
     "traceback": [
      "\u001b[0;31m---------------------------------------------------------------------------\u001b[0m",
      "\u001b[0;31mKeyboardInterrupt\u001b[0m                         Traceback (most recent call last)",
      "\u001b[0;32m<ipython-input-19-287ea56f1ea8>\u001b[0m in \u001b[0;36m<module>\u001b[0;34m()\u001b[0m\n\u001b[1;32m     11\u001b[0m \u001b[0mmean_ndcgs\u001b[0m \u001b[0;34m=\u001b[0m \u001b[0;34m[\u001b[0m\u001b[0;34m]\u001b[0m\u001b[0;34m\u001b[0m\u001b[0m\n\u001b[1;32m     12\u001b[0m \u001b[0;32mfor\u001b[0m \u001b[0mals_model\u001b[0m \u001b[0;32min\u001b[0m \u001b[0mals_models\u001b[0m\u001b[0;34m[\u001b[0m\u001b[0;34m:\u001b[0m\u001b[0;36m10\u001b[0m\u001b[0;34m]\u001b[0m\u001b[0;34m:\u001b[0m\u001b[0;34m\u001b[0m\u001b[0m\n\u001b[0;32m---> 13\u001b[0;31m     \u001b[0mmean_ndcg\u001b[0m \u001b[0;34m=\u001b[0m \u001b[0mfit_and_calculate_kfold_ndcg\u001b[0m\u001b[0;34m(\u001b[0m\u001b[0mals_model\u001b[0m\u001b[0;34m,\u001b[0m \u001b[0msparkified_k_fold_dfs\u001b[0m\u001b[0;34m)\u001b[0m\u001b[0;34m\u001b[0m\u001b[0m\n\u001b[0m\u001b[1;32m     14\u001b[0m     \u001b[0mprint\u001b[0m\u001b[0;34m(\u001b[0m\u001b[0;34m'rank: {}, ndcg: {}'\u001b[0m\u001b[0;34m.\u001b[0m\u001b[0mformat\u001b[0m\u001b[0;34m(\u001b[0m\u001b[0mals_model\u001b[0m\u001b[0;34m.\u001b[0m\u001b[0mgetRank\u001b[0m\u001b[0;34m(\u001b[0m\u001b[0;34m)\u001b[0m\u001b[0;34m,\u001b[0m \u001b[0mmean_ndcg\u001b[0m\u001b[0;34m)\u001b[0m\u001b[0;34m)\u001b[0m\u001b[0;34m\u001b[0m\u001b[0m\n\u001b[1;32m     15\u001b[0m     \u001b[0mmean_ndcgs\u001b[0m\u001b[0;34m.\u001b[0m\u001b[0mappend\u001b[0m\u001b[0;34m(\u001b[0m\u001b[0mmean_ndcg\u001b[0m\u001b[0;34m)\u001b[0m\u001b[0;34m\u001b[0m\u001b[0m\n",
      "\u001b[0;32m<ipython-input-16-f153433a371e>\u001b[0m in \u001b[0;36mfit_and_calculate_kfold_ndcg\u001b[0;34m(model, train_test_dfs)\u001b[0m\n\u001b[1;32m     53\u001b[0m         \u001b[0mndcg\u001b[0m \u001b[0;34m=\u001b[0m \u001b[0mget_rdd_ndcg\u001b[0m\u001b[0;34m(\u001b[0m\u001b[0mpredictions_rdd\u001b[0m\u001b[0;34m,\u001b[0m \u001b[0mtop_n\u001b[0m\u001b[0;34m=\u001b[0m\u001b[0;36m5\u001b[0m\u001b[0;34m,\u001b[0m \u001b[0mprediction_col\u001b[0m\u001b[0;34m=\u001b[0m\u001b[0;34m'prediction'\u001b[0m\u001b[0;34m)\u001b[0m\u001b[0;34m\u001b[0m\u001b[0m\n\u001b[1;32m     54\u001b[0m         \u001b[0;31m# can divide ndcg by user count - would be more efficient to pass counts\u001b[0m\u001b[0;34m\u001b[0m\u001b[0;34m\u001b[0m\u001b[0m\n\u001b[0;32m---> 55\u001b[0;31m         \u001b[0mnum_users\u001b[0m \u001b[0;34m=\u001b[0m \u001b[0mlen\u001b[0m\u001b[0;34m(\u001b[0m\u001b[0mpredictions\u001b[0m\u001b[0;34m.\u001b[0m\u001b[0mgroupby\u001b[0m\u001b[0;34m(\u001b[0m\u001b[0;34m'uid'\u001b[0m\u001b[0;34m)\u001b[0m\u001b[0;34m.\u001b[0m\u001b[0mcount\u001b[0m\u001b[0;34m(\u001b[0m\u001b[0;34m)\u001b[0m\u001b[0;34m.\u001b[0m\u001b[0mcollect\u001b[0m\u001b[0;34m(\u001b[0m\u001b[0;34m)\u001b[0m\u001b[0;34m)\u001b[0m\u001b[0;34m\u001b[0m\u001b[0m\n\u001b[0m\u001b[1;32m     56\u001b[0m         \u001b[0mresults\u001b[0m\u001b[0;34m.\u001b[0m\u001b[0mappend\u001b[0m\u001b[0;34m(\u001b[0m\u001b[0mndcg\u001b[0m \u001b[0;34m/\u001b[0m \u001b[0mnum_users\u001b[0m\u001b[0;34m)\u001b[0m\u001b[0;34m\u001b[0m\u001b[0m\n\u001b[1;32m     57\u001b[0m     \u001b[0;32mreturn\u001b[0m \u001b[0msum\u001b[0m\u001b[0;34m(\u001b[0m\u001b[0mresults\u001b[0m\u001b[0;34m)\u001b[0m \u001b[0;34m/\u001b[0m \u001b[0mlen\u001b[0m\u001b[0;34m(\u001b[0m\u001b[0mresults\u001b[0m\u001b[0;34m)\u001b[0m\u001b[0;34m\u001b[0m\u001b[0m\n",
      "\u001b[0;32m/usr/local/Cellar/apache-spark/2.2.0/libexec/python/pyspark/sql/dataframe.py\u001b[0m in \u001b[0;36mcollect\u001b[0;34m(self)\u001b[0m\n\u001b[1;32m    436\u001b[0m         \"\"\"\n\u001b[1;32m    437\u001b[0m         \u001b[0;32mwith\u001b[0m \u001b[0mSCCallSiteSync\u001b[0m\u001b[0;34m(\u001b[0m\u001b[0mself\u001b[0m\u001b[0;34m.\u001b[0m\u001b[0m_sc\u001b[0m\u001b[0;34m)\u001b[0m \u001b[0;32mas\u001b[0m \u001b[0mcss\u001b[0m\u001b[0;34m:\u001b[0m\u001b[0;34m\u001b[0m\u001b[0m\n\u001b[0;32m--> 438\u001b[0;31m             \u001b[0mport\u001b[0m \u001b[0;34m=\u001b[0m \u001b[0mself\u001b[0m\u001b[0;34m.\u001b[0m\u001b[0m_jdf\u001b[0m\u001b[0;34m.\u001b[0m\u001b[0mcollectToPython\u001b[0m\u001b[0;34m(\u001b[0m\u001b[0;34m)\u001b[0m\u001b[0;34m\u001b[0m\u001b[0m\n\u001b[0m\u001b[1;32m    439\u001b[0m         \u001b[0;32mreturn\u001b[0m \u001b[0mlist\u001b[0m\u001b[0;34m(\u001b[0m\u001b[0m_load_from_socket\u001b[0m\u001b[0;34m(\u001b[0m\u001b[0mport\u001b[0m\u001b[0;34m,\u001b[0m \u001b[0mBatchedSerializer\u001b[0m\u001b[0;34m(\u001b[0m\u001b[0mPickleSerializer\u001b[0m\u001b[0;34m(\u001b[0m\u001b[0;34m)\u001b[0m\u001b[0;34m)\u001b[0m\u001b[0;34m)\u001b[0m\u001b[0;34m)\u001b[0m\u001b[0;34m\u001b[0m\u001b[0m\n\u001b[1;32m    440\u001b[0m \u001b[0;34m\u001b[0m\u001b[0m\n",
      "\u001b[0;32m/usr/local/Cellar/apache-spark/2.2.0/libexec/python/lib/py4j-0.10.4-src.zip/py4j/java_gateway.py\u001b[0m in \u001b[0;36m__call__\u001b[0;34m(self, *args)\u001b[0m\n\u001b[1;32m   1129\u001b[0m             \u001b[0mproto\u001b[0m\u001b[0;34m.\u001b[0m\u001b[0mEND_COMMAND_PART\u001b[0m\u001b[0;34m\u001b[0m\u001b[0m\n\u001b[1;32m   1130\u001b[0m \u001b[0;34m\u001b[0m\u001b[0m\n\u001b[0;32m-> 1131\u001b[0;31m         \u001b[0manswer\u001b[0m \u001b[0;34m=\u001b[0m \u001b[0mself\u001b[0m\u001b[0;34m.\u001b[0m\u001b[0mgateway_client\u001b[0m\u001b[0;34m.\u001b[0m\u001b[0msend_command\u001b[0m\u001b[0;34m(\u001b[0m\u001b[0mcommand\u001b[0m\u001b[0;34m)\u001b[0m\u001b[0;34m\u001b[0m\u001b[0m\n\u001b[0m\u001b[1;32m   1132\u001b[0m         return_value = get_return_value(\n\u001b[1;32m   1133\u001b[0m             answer, self.gateway_client, self.target_id, self.name)\n",
      "\u001b[0;32m/usr/local/Cellar/apache-spark/2.2.0/libexec/python/lib/py4j-0.10.4-src.zip/py4j/java_gateway.py\u001b[0m in \u001b[0;36msend_command\u001b[0;34m(self, command, retry, binary)\u001b[0m\n\u001b[1;32m    881\u001b[0m         \u001b[0mconnection\u001b[0m \u001b[0;34m=\u001b[0m \u001b[0mself\u001b[0m\u001b[0;34m.\u001b[0m\u001b[0m_get_connection\u001b[0m\u001b[0;34m(\u001b[0m\u001b[0;34m)\u001b[0m\u001b[0;34m\u001b[0m\u001b[0m\n\u001b[1;32m    882\u001b[0m         \u001b[0;32mtry\u001b[0m\u001b[0;34m:\u001b[0m\u001b[0;34m\u001b[0m\u001b[0m\n\u001b[0;32m--> 883\u001b[0;31m             \u001b[0mresponse\u001b[0m \u001b[0;34m=\u001b[0m \u001b[0mconnection\u001b[0m\u001b[0;34m.\u001b[0m\u001b[0msend_command\u001b[0m\u001b[0;34m(\u001b[0m\u001b[0mcommand\u001b[0m\u001b[0;34m)\u001b[0m\u001b[0;34m\u001b[0m\u001b[0m\n\u001b[0m\u001b[1;32m    884\u001b[0m             \u001b[0;32mif\u001b[0m \u001b[0mbinary\u001b[0m\u001b[0;34m:\u001b[0m\u001b[0;34m\u001b[0m\u001b[0m\n\u001b[1;32m    885\u001b[0m                 \u001b[0;32mreturn\u001b[0m \u001b[0mresponse\u001b[0m\u001b[0;34m,\u001b[0m \u001b[0mself\u001b[0m\u001b[0;34m.\u001b[0m\u001b[0m_create_connection_guard\u001b[0m\u001b[0;34m(\u001b[0m\u001b[0mconnection\u001b[0m\u001b[0;34m)\u001b[0m\u001b[0;34m\u001b[0m\u001b[0m\n",
      "\u001b[0;32m/usr/local/Cellar/apache-spark/2.2.0/libexec/python/lib/py4j-0.10.4-src.zip/py4j/java_gateway.py\u001b[0m in \u001b[0;36msend_command\u001b[0;34m(self, command)\u001b[0m\n\u001b[1;32m   1026\u001b[0m \u001b[0;34m\u001b[0m\u001b[0m\n\u001b[1;32m   1027\u001b[0m         \u001b[0;32mtry\u001b[0m\u001b[0;34m:\u001b[0m\u001b[0;34m\u001b[0m\u001b[0m\n\u001b[0;32m-> 1028\u001b[0;31m             \u001b[0manswer\u001b[0m \u001b[0;34m=\u001b[0m \u001b[0msmart_decode\u001b[0m\u001b[0;34m(\u001b[0m\u001b[0mself\u001b[0m\u001b[0;34m.\u001b[0m\u001b[0mstream\u001b[0m\u001b[0;34m.\u001b[0m\u001b[0mreadline\u001b[0m\u001b[0;34m(\u001b[0m\u001b[0;34m)\u001b[0m\u001b[0;34m[\u001b[0m\u001b[0;34m:\u001b[0m\u001b[0;34m-\u001b[0m\u001b[0;36m1\u001b[0m\u001b[0;34m]\u001b[0m\u001b[0;34m)\u001b[0m\u001b[0;34m\u001b[0m\u001b[0m\n\u001b[0m\u001b[1;32m   1029\u001b[0m             \u001b[0mlogger\u001b[0m\u001b[0;34m.\u001b[0m\u001b[0mdebug\u001b[0m\u001b[0;34m(\u001b[0m\u001b[0;34m\"Answer received: {0}\"\u001b[0m\u001b[0;34m.\u001b[0m\u001b[0mformat\u001b[0m\u001b[0;34m(\u001b[0m\u001b[0manswer\u001b[0m\u001b[0;34m)\u001b[0m\u001b[0;34m)\u001b[0m\u001b[0;34m\u001b[0m\u001b[0m\n\u001b[1;32m   1030\u001b[0m             \u001b[0;32mif\u001b[0m \u001b[0manswer\u001b[0m\u001b[0;34m.\u001b[0m\u001b[0mstartswith\u001b[0m\u001b[0;34m(\u001b[0m\u001b[0mproto\u001b[0m\u001b[0;34m.\u001b[0m\u001b[0mRETURN_MESSAGE\u001b[0m\u001b[0;34m)\u001b[0m\u001b[0;34m:\u001b[0m\u001b[0;34m\u001b[0m\u001b[0m\n",
      "\u001b[0;32m~/anaconda2/envs/py36/lib/python3.6/socket.py\u001b[0m in \u001b[0;36mreadinto\u001b[0;34m(self, b)\u001b[0m\n\u001b[1;32m    584\u001b[0m         \u001b[0;32mwhile\u001b[0m \u001b[0;32mTrue\u001b[0m\u001b[0;34m:\u001b[0m\u001b[0;34m\u001b[0m\u001b[0m\n\u001b[1;32m    585\u001b[0m             \u001b[0;32mtry\u001b[0m\u001b[0;34m:\u001b[0m\u001b[0;34m\u001b[0m\u001b[0m\n\u001b[0;32m--> 586\u001b[0;31m                 \u001b[0;32mreturn\u001b[0m \u001b[0mself\u001b[0m\u001b[0;34m.\u001b[0m\u001b[0m_sock\u001b[0m\u001b[0;34m.\u001b[0m\u001b[0mrecv_into\u001b[0m\u001b[0;34m(\u001b[0m\u001b[0mb\u001b[0m\u001b[0;34m)\u001b[0m\u001b[0;34m\u001b[0m\u001b[0m\n\u001b[0m\u001b[1;32m    587\u001b[0m             \u001b[0;32mexcept\u001b[0m \u001b[0mtimeout\u001b[0m\u001b[0;34m:\u001b[0m\u001b[0;34m\u001b[0m\u001b[0m\n\u001b[1;32m    588\u001b[0m                 \u001b[0mself\u001b[0m\u001b[0;34m.\u001b[0m\u001b[0m_timeout_occurred\u001b[0m \u001b[0;34m=\u001b[0m \u001b[0;32mTrue\u001b[0m\u001b[0;34m\u001b[0m\u001b[0m\n",
      "\u001b[0;31mKeyboardInterrupt\u001b[0m: "
     ]
    }
   ],
   "source": [
    "als_models = [ALS(\n",
    "    itemCol='game_uid',\n",
    "    userCol='uid',\n",
    "    ratingCol='playtime_min_max',\n",
    "    nonnegative=True,    \n",
    "    regParam=0.1,\n",
    "    coldStartStrategy=\"drop\", # Drops if user or item in test was not in train\n",
    "    rank=10,\n",
    "    maxIter=i\n",
    ") for i in range(1, 101)]\n",
    "mean_ndcgs = []\n",
    "for als_model in als_models[:10]:\n",
    "    mean_ndcg = fit_and_calculate_kfold_ndcg(als_model, sparkified_k_fold_dfs)\n",
    "    print('rank: {}, ndcg: {}'.format(als_model.getRank(), mean_ndcg))\n",
    "    mean_ndcgs.append(mean_ndcg)"
   ]
  },
  {
   "cell_type": "code",
   "execution_count": null,
   "metadata": {
    "collapsed": true
   },
   "outputs": [],
   "source": [
    "mean_ndcgs"
   ]
  },
  {
   "cell_type": "code",
   "execution_count": 23,
   "metadata": {},
   "outputs": [
    {
     "name": "stderr",
     "output_type": "stream",
     "text": [
      "/Users/michaelbarton/Code/gproject/src/EDA.py:22: UserWarning: Boolean Series key will be reindexed to match DataFrame index.\n",
      "  return filtered_users[steam_df['game_name'].isin(usable_games['game_name'].values)]\n",
      "/Users/michaelbarton/anaconda2/envs/py36/lib/python3.6/site-packages/pandas/core/groupby.py:4036: FutureWarning: using a dict with renaming is deprecated and will be removed in a future version\n",
      "  return super(DataFrameGroupBy, self).aggregate(arg, *args, **kwargs)\n"
     ]
    },
    {
     "data": {
      "text/html": [
       "<div>\n",
       "<style>\n",
       "    .dataframe thead tr:only-child th {\n",
       "        text-align: right;\n",
       "    }\n",
       "\n",
       "    .dataframe thead th {\n",
       "        text-align: left;\n",
       "    }\n",
       "\n",
       "    .dataframe tbody tr th {\n",
       "        vertical-align: top;\n",
       "    }\n",
       "</style>\n",
       "<table border=\"1\" class=\"dataframe\">\n",
       "  <thead>\n",
       "    <tr style=\"text-align: right;\">\n",
       "      <th></th>\n",
       "      <th>uid</th>\n",
       "      <th>playtime</th>\n",
       "      <th>playtime_min_max</th>\n",
       "      <th>game_name</th>\n",
       "      <th>game_uid</th>\n",
       "    </tr>\n",
       "  </thead>\n",
       "  <tbody>\n",
       "    <tr>\n",
       "      <th>1</th>\n",
       "      <td>151603712</td>\n",
       "      <td>273.0</td>\n",
       "      <td>1.412256</td>\n",
       "      <td>The Elder Scrolls V Skyrim</td>\n",
       "      <td>0</td>\n",
       "    </tr>\n",
       "    <tr>\n",
       "      <th>3</th>\n",
       "      <td>151603712</td>\n",
       "      <td>87.0</td>\n",
       "      <td>1.414122</td>\n",
       "      <td>Fallout 4</td>\n",
       "      <td>1</td>\n",
       "    </tr>\n",
       "  </tbody>\n",
       "</table>\n",
       "</div>"
      ],
      "text/plain": [
       "         uid  playtime  playtime_min_max                   game_name  game_uid\n",
       "1  151603712     273.0          1.412256  The Elder Scrolls V Skyrim         0\n",
       "3  151603712      87.0          1.414122                   Fallout 4         1"
      ]
     },
     "execution_count": 23,
     "metadata": {},
     "output_type": "execute_result"
    }
   ],
   "source": [
    "steam_df = EDA.load_without_cold_start(min_games=10)\n",
    "preprocessor = Preprocess.PandasALSPreprocessor(steam_df)\n",
    "preprocessor.process_general()\n",
    "preprocessor.process_buckets()\n",
    "preprocessor.process_min_max()\n",
    "preprocessor.keep_standard_columns()\n",
    "steam_df = preprocessor.get_df()\n",
    "steam_df.head(2)"
   ]
  },
  {
   "cell_type": "code",
   "execution_count": 24,
   "metadata": {},
   "outputs": [
    {
     "name": "stdout",
     "output_type": "stream",
     "text": [
      "split sizes:  (46232, 5301)\n",
      "Number of users:  1330\n",
      "train test split size 0:  (39147, 7085)\n",
      "train test split size 1:  (39680, 6552)\n",
      "train test split size 2:  (40106, 6126)\n",
      "train test split size 3:  (39976, 6256)\n",
      "train test split size 4:  (39660, 6572)\n"
     ]
    }
   ],
   "source": [
    "# need holdout users.  Hold out 10%.  We could put some percent of their games into\n",
    "# the training but it will make it very complicated\n",
    "pandas_train_test = Split.PandasTrainTest(steam_df, seed=1)\n",
    "train_val, holdout_test = pandas_train_test.user_only_split(user_split_train=.9)\n",
    "print('split sizes: ', (train_val.shape[0], holdout_test.shape[0]))\n",
    "\n",
    "pandas_train_test = Split.PandasTrainTest(train_val, seed=1)\n",
    "k_fold_dfs = pandas_train_test.get_k_folds(5, game_split_train=.3)\n",
    "for i, d in enumerate(k_fold_dfs):\n",
    "    printed = 'train test split size ' + str(i) + ': '\n",
    "    print(printed, (d[0].shape[0], d[1].shape[0]))"
   ]
  },
  {
   "cell_type": "code",
   "execution_count": 25,
   "metadata": {
    "collapsed": true
   },
   "outputs": [],
   "source": [
    "# Convert to spark\n",
    "sparkified_k_fold_dfs = [(spark_session.createDataFrame(a), spark_session.createDataFrame(b)) for a, b in k_fold_dfs]"
   ]
  },
  {
   "cell_type": "code",
   "execution_count": 13,
   "metadata": {},
   "outputs": [],
   "source": [
    "als_models = [ALS(\n",
    "    itemCol='game_uid',\n",
    "    userCol='uid',\n",
    "    ratingCol='playtime_min_max',\n",
    "    nonnegative=True,    \n",
    "    regParam=0.1,\n",
    "    coldStartStrategy=\"drop\", # Drops if user or item in test was not in train\n",
    "    rank=i,\n",
    ") for i in range(1, 101)]\n",
    "mean_ndcgs = []\n",
    "for als_model in als_models[:10]:\n",
    "    mean_ndcg = fit_and_calculate_kfold_ndcg(als_model, sparkified_k_fold_dfs)\n",
    "    print('rank: {}, ndcg: {}'.format(als_model.getRank(), mean_ndcg))\n",
    "    mean_ndcgs.append(mean_ndcg)"
   ]
  },
  {
   "cell_type": "code",
   "execution_count": 27,
   "metadata": {},
   "outputs": [
    {
     "name": "stdout",
     "output_type": "stream",
     "text": [
      "rank: 24, ndcg: 0.7286111081591814\n",
      "rank: 25, ndcg: 0.7313643299279526\n"
     ]
    }
   ],
   "source": [
    "als_models = [ALS(\n",
    "    itemCol='game_uid',\n",
    "    userCol='uid',\n",
    "    ratingCol='playtime_min_max',\n",
    "    nonnegative=True,    \n",
    "    regParam=0.1,\n",
    "    coldStartStrategy=\"drop\", # Drops if user or item in test was not in train\n",
    "    rank=i,\n",
    ") for i in range(1, 101)]\n",
    "mean_ndcgs = []\n",
    "for als_model in als_models[23:25]:\n",
    "    mean_ndcg = fit_and_calculate_kfold_ndcg(als_model, sparkified_k_fold_dfs)\n",
    "    print('rank: {}, ndcg: {}'.format(als_model.getRank(), mean_ndcg))\n",
    "    mean_ndcgs.append(mean_ndcg)"
   ]
  },
  {
   "cell_type": "code",
   "execution_count": 41,
   "metadata": {
    "collapsed": true
   },
   "outputs": [],
   "source": [
    "# do a manual run for 25 and make sure its the same."
   ]
  }
 ],
 "metadata": {
  "kernelspec": {
   "display_name": "Python 3",
   "language": "python",
   "name": "python3"
  },
  "language_info": {
   "codemirror_mode": {
    "name": "ipython",
    "version": 3
   },
   "file_extension": ".py",
   "mimetype": "text/x-python",
   "name": "python",
   "nbconvert_exporter": "python",
   "pygments_lexer": "ipython3",
   "version": "3.6.3"
  }
 },
 "nbformat": 4,
 "nbformat_minor": 2
}
