{
 "cells": [
  {
   "cell_type": "code",
   "execution_count": 17,
   "metadata": {
    "collapsed": true
   },
   "outputs": [],
   "source": [
    "import math\n",
    "import random\n",
    "import pandas as pd\n",
    "import numpy as np\n",
    "import matplotlib.pyplot as plt\n",
    "%matplotlib inline\n",
    "\n",
    "import graphlab\n",
    "from graphlab import factorization_recommender"
   ]
  },
  {
   "cell_type": "markdown",
   "metadata": {},
   "source": [
    "# For comparison to Spark\n",
    "## This notebook was taking a quick look at RMSE for graphlab"
   ]
  },
  {
   "cell_type": "code",
   "execution_count": 8,
   "metadata": {
    "collapsed": true
   },
   "outputs": [],
   "source": [
    "# Graphlab is python 2, so avoiding import differences\n",
    "def load_200k():\n",
    "    steam_200k_df = pd.read_csv('../data/steam-200k.csv', header=None)\n",
    "    steam_200k_df.columns = ['uid', 'game_name', 'purchase_action', 'playtime', 'extra']\n",
    "    steam_200k_df = steam_200k_df.drop('extra', axis=1)\n",
    "    steam_200k_df = steam_200k_df[steam_200k_df['purchase_action'] == 'play']\n",
    "    steam_200k_df = steam_200k_df.drop('purchase_action', axis=1)\n",
    "    return steam_200k_df\n",
    "\n",
    "def load_without_cold_start(min_games=5, min_users=0):\n",
    "    steam_df = load_200k()\n",
    "    # filter users\n",
    "    game_counts = steam_df.groupby('uid').count()\n",
    "    usable_users = game_counts[game_counts['game_name'] >= min_games].reset_index()\n",
    "    filtered_users = steam_df[steam_df['uid'].isin(usable_users['uid'].values)]\n",
    "    # filter games\n",
    "    user_counts = steam_df.groupby('game_name').count()\n",
    "    usable_games = user_counts[user_counts['playtime'] > min_users].reset_index()\n",
    "    return filtered_users[steam_df['game_name'].isin(usable_games['game_name'].values)]\n",
    "\n",
    "import numpy as np\n",
    "import pandas as pd\n",
    "import random\n",
    "\n",
    "class PandasALSPreprocessor(object):\n",
    "    def __init__(self, df):\n",
    "        self.df = df.copy()\n",
    "        self.standard_columns = ['uid', 'game_uid', 'game_name', 'playtime', 'playtime_min_max']\n",
    "\n",
    "    def _rank_playtime(self, time):\n",
    "        if time <= 1:\n",
    "            return 0\n",
    "        if time > 1 and time <= 5:\n",
    "            return 1\n",
    "        if time > 6 and time <= 25:\n",
    "            return 2\n",
    "        return 3\n",
    "\n",
    "    def _min_max(self, row):\n",
    "        # TODO double check this\n",
    "        if (row['playtime_max'] == row['playtime_min']):\n",
    "            return 1.0 / row['game_counts']\n",
    "        diff = row['playtime_max'] - row['playtime_min']\n",
    "        return (row['playtime'] - row['playtime_min']) / diff\n",
    "\n",
    "    def _add_playtime_summaries(self, df, max_rank=3):\n",
    "        aggs = {'playtime_mean': np.mean, 'playtime_min': np.min, 'playtime_max': np.max, 'game_counts': 'count'}\n",
    "        grouped_means = df.groupby('game_name').agg({'playtime': aggs})\n",
    "        grouped_means.columns = [col[1] for col in grouped_means.columns]\n",
    "        joined = df.join(grouped_means, on='game_name')\n",
    "        joined['playtime_min_max'] = joined.apply(lambda x: (self._min_max(x) * max_rank) + 1, axis=1)\n",
    "        return joined\n",
    "\n",
    "    def _create_uids(self, df, from_column='game_name', to_column='game_uid'):\n",
    "        # fitting ALS must have numbers for itemCol and userCol\n",
    "        uid = 0\n",
    "        uid_map = {}\n",
    "        for item in df[from_column]:\n",
    "            if item in uid_map:\n",
    "                continue\n",
    "            uid_map[item] = uid\n",
    "            uid += 1\n",
    "        df[to_column] = df[from_column].map(lambda name: uid_map[name])\n",
    "        return df\n",
    "\n",
    "    def get_df(self):\n",
    "        return self.df\n",
    "\n",
    "    def process_general(self):\n",
    "        self.df = self._create_uids(self.df, from_column='game_name', to_column='game_uid')\n",
    "        return self.df\n",
    "\n",
    "    def process_buckets(self):\n",
    "        self.df[\"playtime_rank\"] = self.df['playtime'].map(lambda value: self._rank_playtime(value))\n",
    "        return self.df\n",
    "\n",
    "    def process_min_max(self, max_rank=3):\n",
    "        self.df = self._add_playtime_summaries(self.df, max_rank=max_rank)\n",
    "        return self.df\n",
    "\n",
    "    def keep_columns(self, keep_columns):\n",
    "        existing_columns = set(self.df.columns)\n",
    "        intersection = existing_columns.intersection(set(keep_columns))\n",
    "        self.df = self.df[list(intersection)]\n",
    "        return self.df\n",
    "\n",
    "    def keep_standard_columns(self):\n",
    "        self.keep_columns(self.standard_columns)\n",
    "        return self.df\n",
    "\n",
    "class PandasTrainTest(object):\n",
    "    '''\n",
    "    '''\n",
    "    def __init__(self, df, seed=None):\n",
    "        self.df = df\n",
    "        if (seed):\n",
    "            random.seed(seed)\n",
    "\n",
    "    def _user_games_split(self, test_df, game_split_train=.5):\n",
    "        train_indices = []\n",
    "        test_indices = []\n",
    "        # can do uid in users and game in gameid\n",
    "        for uid in test_df['uid'].unique():\n",
    "            user_data = test_df[test_df['uid'] == uid]\n",
    "            indices = user_data.index.values\n",
    "            random.shuffle(indices)\n",
    "            train_game_indices = indices[:int((len(indices) + 1) * game_split_train)]\n",
    "            test_game_indices = indices[int((len(indices) + 1) * game_split_train):]\n",
    "            train_indices += train_game_indices.tolist()\n",
    "            test_indices += test_game_indices.tolist()\n",
    "        train_games = test_df.loc[train_indices,:]\n",
    "        test_games = test_df.loc[test_indices,:]\n",
    "        return (train_games, test_games)\n",
    "\n",
    "    def _get_unique_users(self, df, user_column='uid'):\n",
    "        unique_users = df[user_column].unique()\n",
    "        random.shuffle(unique_users)\n",
    "        return unique_users\n",
    "\n",
    "    def user_only_split(self, user_column='uid', user_split_train=.8):\n",
    "        df = self.df\n",
    "        unique_users = self._get_unique_users(df, user_column)\n",
    "        train_users = unique_users[:int((len(unique_users) + 1) * user_split_train)]\n",
    "        test_users = unique_users[int((len(unique_users) + 1) * user_split_train):]\n",
    "        train_df = df[df[user_column].isin(train_users)]\n",
    "        test_df = df[df[user_column].isin(test_users)]\n",
    "        return (train_df, test_df)\n",
    "\n",
    "    # Consider sampling with replacement?  What does that mean in rec\n",
    "    def train_test_split(\n",
    "        self,\n",
    "        user_column='uid',\n",
    "        user_split_train=.8,\n",
    "        game_split_train=.5,\n",
    "    ):\n",
    "        '''\n",
    "            Custom train test split for recommender.\n",
    "            Puts n percent of users into train and 1-n into test.\n",
    "            For each user in test, put half of their games back into train\n",
    "        '''\n",
    "        train_df, test_df = self.user_only_split(user_column, user_split_train)\n",
    "        # append test user training games to train users\n",
    "        train_games_df, test_games_df = self._user_games_split(test_df, game_split_train=game_split_train)\n",
    "        final_train_df = train_df.append(train_games_df)\n",
    "        return (final_train_df, test_games_df)\n",
    "\n",
    "    def get_k_folds(self, k, user_column='uid', game_split_train=.5):\n",
    "        unique_users = self._get_unique_users(self.df)\n",
    "        print('Number of users: ', len(unique_users))\n",
    "        len_over_k = int((len(unique_users) + 1) / k)\n",
    "        user_divisions = []\n",
    "        for i in range(0, k):\n",
    "            user_subset = unique_users[i * len_over_k : (i + 1) * len_over_k]\n",
    "            user_divisions.append(user_subset)\n",
    "        # return user_divisions\n",
    "        # just do range\n",
    "        finals = []\n",
    "        for i in range(0, len(user_divisions)):\n",
    "            k_test_ids = user_divisions[i]\n",
    "            k_train = user_divisions[0:i] + user_divisions[i+1:]\n",
    "            k_train_ids = [item for sublist in k_train for item in sublist]\n",
    "            k_test_df = self.df[self.df[user_column].isin(k_test_ids)]\n",
    "            k_train_df = self.df[self.df[user_column].isin(k_train_ids)]\n",
    "            k_train_games_df, k_test_games_df = self._user_games_split(k_test_df, game_split_train=game_split_train)\n",
    "            final_k_train_df = k_train_df.append(k_train_games_df)\n",
    "            finals.append((final_k_train_df, k_test_games_df))\n",
    "        return finals\n",
    "\n",
    "    def run_k_folds(self, model, evaluator):\n",
    "        # get k folds\n",
    "        # run function on each split\n",
    "        # evaluate\n",
    "        # return average loss\n",
    "        pass"
   ]
  },
  {
   "cell_type": "code",
   "execution_count": 6,
   "metadata": {},
   "outputs": [
    {
     "name": "stderr",
     "output_type": "stream",
     "text": [
      "/Users/michaelbarton/anaconda2/lib/python2.7/site-packages/ipykernel_launcher.py:18: UserWarning: Boolean Series key will be reindexed to match DataFrame index.\n",
      "/Users/michaelbarton/anaconda2/lib/python2.7/site-packages/pandas/core/groupby.py:4036: FutureWarning: using a dict with renaming is deprecated and will be removed in a future version\n",
      "  return super(DataFrameGroupBy, self).aggregate(arg, *args, **kwargs)\n"
     ]
    },
    {
     "data": {
      "text/html": [
       "<div>\n",
       "<style>\n",
       "    .dataframe thead tr:only-child th {\n",
       "        text-align: right;\n",
       "    }\n",
       "\n",
       "    .dataframe thead th {\n",
       "        text-align: left;\n",
       "    }\n",
       "\n",
       "    .dataframe tbody tr th {\n",
       "        vertical-align: top;\n",
       "    }\n",
       "</style>\n",
       "<table border=\"1\" class=\"dataframe\">\n",
       "  <thead>\n",
       "    <tr style=\"text-align: right;\">\n",
       "      <th></th>\n",
       "      <th>game_name</th>\n",
       "      <th>game_uid</th>\n",
       "      <th>playtime_min_max</th>\n",
       "      <th>uid</th>\n",
       "      <th>playtime</th>\n",
       "    </tr>\n",
       "  </thead>\n",
       "  <tbody>\n",
       "    <tr>\n",
       "      <th>1</th>\n",
       "      <td>The Elder Scrolls V Skyrim</td>\n",
       "      <td>0</td>\n",
       "      <td>1.412256</td>\n",
       "      <td>151603712</td>\n",
       "      <td>273.0</td>\n",
       "    </tr>\n",
       "    <tr>\n",
       "      <th>3</th>\n",
       "      <td>Fallout 4</td>\n",
       "      <td>1</td>\n",
       "      <td>1.414122</td>\n",
       "      <td>151603712</td>\n",
       "      <td>87.0</td>\n",
       "    </tr>\n",
       "  </tbody>\n",
       "</table>\n",
       "</div>"
      ],
      "text/plain": [
       "                    game_name  game_uid  playtime_min_max        uid  playtime\n",
       "1  The Elder Scrolls V Skyrim         0          1.412256  151603712     273.0\n",
       "3                   Fallout 4         1          1.414122  151603712      87.0"
      ]
     },
     "execution_count": 6,
     "metadata": {},
     "output_type": "execute_result"
    }
   ],
   "source": [
    "steam_df = load_without_cold_start(min_games=5)\n",
    "preprocessor = PandasALSPreprocessor(steam_df)\n",
    "preprocessor.process_general()\n",
    "preprocessor.process_buckets()\n",
    "preprocessor.process_min_max()\n",
    "preprocessor.keep_standard_columns()\n",
    "steam_df = preprocessor.get_df()\n",
    "steam_df.head(2)"
   ]
  },
  {
   "cell_type": "code",
   "execution_count": 10,
   "metadata": {},
   "outputs": [
    {
     "name": "stdout",
     "output_type": "stream",
     "text": [
      "('split sizes: ', (52831, 4958))\n"
     ]
    }
   ],
   "source": [
    "# need holdout users.  Hold out 10%.  We could put some percent of their games into\n",
    "# the training but it will make it very complicated\n",
    "pandas_train_test = PandasTrainTest(steam_df, seed=1)\n",
    "train_val, holdout_test = pandas_train_test.user_only_split(user_split_train=.9)\n",
    "print('split sizes: ', (train_val.shape[0], holdout_test.shape[0]))"
   ]
  },
  {
   "cell_type": "code",
   "execution_count": 11,
   "metadata": {},
   "outputs": [
    {
     "name": "stdout",
     "output_type": "stream",
     "text": [
      "('Number of users: ', 2193)\n",
      "('train test split size 0: ', (45376, 7414))\n",
      "('train test split size 1: ', (44843, 7947))\n",
      "('train test split size 2: ', (45393, 7397))\n",
      "('train test split size 3: ', (45753, 7037))\n",
      "('train test split size 4: ', (45278, 7512))\n"
     ]
    }
   ],
   "source": [
    "pandas_train_test = PandasTrainTest(train_val, seed=1)\n",
    "k_fold_dfs = pandas_train_test.get_k_folds(5, game_split_train=.3)\n",
    "for i, d in enumerate(k_fold_dfs):\n",
    "    printed = 'train test split size ' + str(i) + ': '\n",
    "    print(printed, (d[0].shape[0], d[1].shape[0]))"
   ]
  },
  {
   "cell_type": "code",
   "execution_count": 42,
   "metadata": {},
   "outputs": [
    {
     "data": {
      "text/html": [
       "<div>\n",
       "<style>\n",
       "    .dataframe thead tr:only-child th {\n",
       "        text-align: right;\n",
       "    }\n",
       "\n",
       "    .dataframe thead th {\n",
       "        text-align: left;\n",
       "    }\n",
       "\n",
       "    .dataframe tbody tr th {\n",
       "        vertical-align: top;\n",
       "    }\n",
       "</style>\n",
       "<table border=\"1\" class=\"dataframe\">\n",
       "  <thead>\n",
       "    <tr style=\"text-align: right;\">\n",
       "      <th></th>\n",
       "      <th>game_name</th>\n",
       "      <th>item_id</th>\n",
       "      <th>playtime_min_max</th>\n",
       "      <th>user_id</th>\n",
       "      <th>rating</th>\n",
       "    </tr>\n",
       "  </thead>\n",
       "  <tbody>\n",
       "    <tr>\n",
       "      <th>847</th>\n",
       "      <td>Dungeon Defenders</td>\n",
       "      <td>235</td>\n",
       "      <td>1.046283</td>\n",
       "      <td>26122540</td>\n",
       "      <td>6.8</td>\n",
       "    </tr>\n",
       "    <tr>\n",
       "      <th>851</th>\n",
       "      <td>Day of Defeat Source</td>\n",
       "      <td>237</td>\n",
       "      <td>1.002054</td>\n",
       "      <td>26122540</td>\n",
       "      <td>1.1</td>\n",
       "    </tr>\n",
       "  </tbody>\n",
       "</table>\n",
       "</div>"
      ],
      "text/plain": [
       "                game_name  item_id  playtime_min_max   user_id  rating\n",
       "847     Dungeon Defenders      235          1.046283  26122540     6.8\n",
       "851  Day of Defeat Source      237          1.002054  26122540     1.1"
      ]
     },
     "execution_count": 42,
     "metadata": {},
     "output_type": "execute_result"
    }
   ],
   "source": [
    "test = k_fold_dfs[0][0]\n",
    "test.columns\n",
    "test.columns = 'game_name', 'item_id', 'playtime_min_max', 'user_id', 'rating'\n",
    "test.head(2)\n",
    "\n",
    "test_test = k_fold_dfs[0][1]\n",
    "test_test.columns\n",
    "test_test.columns = 'game_name', 'item_id', 'playtime_min_max', 'user_id', 'rating'\n",
    "test_test.head(2)"
   ]
  },
  {
   "cell_type": "code",
   "execution_count": 47,
   "metadata": {
    "collapsed": true
   },
   "outputs": [],
   "source": [
    "sf = graphlab.SFrame(test)\n",
    "sf_test = graphlab.SFrame(test_test)"
   ]
  },
  {
   "cell_type": "code",
   "execution_count": 84,
   "metadata": {},
   "outputs": [
    {
     "data": {
      "text/html": [
       "<pre>Recsys training: model = ranking_factorization_recommender</pre>"
      ],
      "text/plain": [
       "Recsys training: model = ranking_factorization_recommender"
      ]
     },
     "metadata": {},
     "output_type": "display_data"
    },
    {
     "data": {
      "text/html": [
       "<pre>Preparing data set.</pre>"
      ],
      "text/plain": [
       "Preparing data set."
      ]
     },
     "metadata": {},
     "output_type": "display_data"
    },
    {
     "data": {
      "text/html": [
       "<pre>    Data has 45376 observations with 2190 users and 3354 items.</pre>"
      ],
      "text/plain": [
       "    Data has 45376 observations with 2190 users and 3354 items."
      ]
     },
     "metadata": {},
     "output_type": "display_data"
    },
    {
     "data": {
      "text/html": [
       "<pre>    Data prepared in: 0.096558s</pre>"
      ],
      "text/plain": [
       "    Data prepared in: 0.096558s"
      ]
     },
     "metadata": {},
     "output_type": "display_data"
    },
    {
     "data": {
      "text/html": [
       "<pre>Training ranking_factorization_recommender for recommendations.</pre>"
      ],
      "text/plain": [
       "Training ranking_factorization_recommender for recommendations."
      ]
     },
     "metadata": {},
     "output_type": "display_data"
    },
    {
     "data": {
      "text/html": [
       "<pre>+--------------------------------+--------------------------------------------------+----------+</pre>"
      ],
      "text/plain": [
       "+--------------------------------+--------------------------------------------------+----------+"
      ]
     },
     "metadata": {},
     "output_type": "display_data"
    },
    {
     "data": {
      "text/html": [
       "<pre>| Parameter                      | Description                                      | Value    |</pre>"
      ],
      "text/plain": [
       "| Parameter                      | Description                                      | Value    |"
      ]
     },
     "metadata": {},
     "output_type": "display_data"
    },
    {
     "data": {
      "text/html": [
       "<pre>+--------------------------------+--------------------------------------------------+----------+</pre>"
      ],
      "text/plain": [
       "+--------------------------------+--------------------------------------------------+----------+"
      ]
     },
     "metadata": {},
     "output_type": "display_data"
    },
    {
     "data": {
      "text/html": [
       "<pre>| num_factors                    | Factor Dimension                                 | 32       |</pre>"
      ],
      "text/plain": [
       "| num_factors                    | Factor Dimension                                 | 32       |"
      ]
     },
     "metadata": {},
     "output_type": "display_data"
    },
    {
     "data": {
      "text/html": [
       "<pre>| regularization                 | L2 Regularization on Factors                     | 1e-09    |</pre>"
      ],
      "text/plain": [
       "| regularization                 | L2 Regularization on Factors                     | 1e-09    |"
      ]
     },
     "metadata": {},
     "output_type": "display_data"
    },
    {
     "data": {
      "text/html": [
       "<pre>| solver                         | Solver used for training                         | adagrad  |</pre>"
      ],
      "text/plain": [
       "| solver                         | Solver used for training                         | adagrad  |"
      ]
     },
     "metadata": {},
     "output_type": "display_data"
    },
    {
     "data": {
      "text/html": [
       "<pre>| linear_regularization          | L2 Regularization on Linear Coefficients         | 1e-09    |</pre>"
      ],
      "text/plain": [
       "| linear_regularization          | L2 Regularization on Linear Coefficients         | 1e-09    |"
      ]
     },
     "metadata": {},
     "output_type": "display_data"
    },
    {
     "data": {
      "text/html": [
       "<pre>| ranking_regularization         | Rank-based Regularization Weight                 | 0.1      |</pre>"
      ],
      "text/plain": [
       "| ranking_regularization         | Rank-based Regularization Weight                 | 0.1      |"
      ]
     },
     "metadata": {},
     "output_type": "display_data"
    },
    {
     "data": {
      "text/html": [
       "<pre>| max_iterations                 | Maximum Number of Iterations                     | 25       |</pre>"
      ],
      "text/plain": [
       "| max_iterations                 | Maximum Number of Iterations                     | 25       |"
      ]
     },
     "metadata": {},
     "output_type": "display_data"
    },
    {
     "data": {
      "text/html": [
       "<pre>+--------------------------------+--------------------------------------------------+----------+</pre>"
      ],
      "text/plain": [
       "+--------------------------------+--------------------------------------------------+----------+"
      ]
     },
     "metadata": {},
     "output_type": "display_data"
    },
    {
     "data": {
      "text/html": [
       "<pre>  Optimizing model using SGD; tuning step size.</pre>"
      ],
      "text/plain": [
       "  Optimizing model using SGD; tuning step size."
      ]
     },
     "metadata": {},
     "output_type": "display_data"
    },
    {
     "data": {
      "text/html": [
       "<pre>  Using 10000 / 45376 points for tuning the step size.</pre>"
      ],
      "text/plain": [
       "  Using 10000 / 45376 points for tuning the step size."
      ]
     },
     "metadata": {},
     "output_type": "display_data"
    },
    {
     "data": {
      "text/html": [
       "<pre>+---------+-------------------+------------------------------------------+</pre>"
      ],
      "text/plain": [
       "+---------+-------------------+------------------------------------------+"
      ]
     },
     "metadata": {},
     "output_type": "display_data"
    },
    {
     "data": {
      "text/html": [
       "<pre>| Attempt | Initial Step Size | Estimated Objective Value                |</pre>"
      ],
      "text/plain": [
       "| Attempt | Initial Step Size | Estimated Objective Value                |"
      ]
     },
     "metadata": {},
     "output_type": "display_data"
    },
    {
     "data": {
      "text/html": [
       "<pre>+---------+-------------------+------------------------------------------+</pre>"
      ],
      "text/plain": [
       "+---------+-------------------+------------------------------------------+"
      ]
     },
     "metadata": {},
     "output_type": "display_data"
    },
    {
     "data": {
      "text/html": [
       "<pre>| 0       | 12.5              | Not Viable                               |</pre>"
      ],
      "text/plain": [
       "| 0       | 12.5              | Not Viable                               |"
      ]
     },
     "metadata": {},
     "output_type": "display_data"
    },
    {
     "data": {
      "text/html": [
       "<pre>| 1       | 3.125             | Not Viable                               |</pre>"
      ],
      "text/plain": [
       "| 1       | 3.125             | Not Viable                               |"
      ]
     },
     "metadata": {},
     "output_type": "display_data"
    },
    {
     "data": {
      "text/html": [
       "<pre>| 2       | 0.78125           | 22434.7                                  |</pre>"
      ],
      "text/plain": [
       "| 2       | 0.78125           | 22434.7                                  |"
      ]
     },
     "metadata": {},
     "output_type": "display_data"
    },
    {
     "data": {
      "text/html": [
       "<pre>| 3       | 0.390625          | 40344.5                                  |</pre>"
      ],
      "text/plain": [
       "| 3       | 0.390625          | 40344.5                                  |"
      ]
     },
     "metadata": {},
     "output_type": "display_data"
    },
    {
     "data": {
      "text/html": [
       "<pre>| 4       | 0.195312          | 23448.5                                  |</pre>"
      ],
      "text/plain": [
       "| 4       | 0.195312          | 23448.5                                  |"
      ]
     },
     "metadata": {},
     "output_type": "display_data"
    },
    {
     "data": {
      "text/html": [
       "<pre>| 5       | 0.0976562         | 41017.8                                  |</pre>"
      ],
      "text/plain": [
       "| 5       | 0.0976562         | 41017.8                                  |"
      ]
     },
     "metadata": {},
     "output_type": "display_data"
    },
    {
     "data": {
      "text/html": [
       "<pre>+---------+-------------------+------------------------------------------+</pre>"
      ],
      "text/plain": [
       "+---------+-------------------+------------------------------------------+"
      ]
     },
     "metadata": {},
     "output_type": "display_data"
    },
    {
     "data": {
      "text/html": [
       "<pre>| Final   | 0.78125           | 22434.7                                  |</pre>"
      ],
      "text/plain": [
       "| Final   | 0.78125           | 22434.7                                  |"
      ]
     },
     "metadata": {},
     "output_type": "display_data"
    },
    {
     "data": {
      "text/html": [
       "<pre>+---------+-------------------+------------------------------------------+</pre>"
      ],
      "text/plain": [
       "+---------+-------------------+------------------------------------------+"
      ]
     },
     "metadata": {},
     "output_type": "display_data"
    },
    {
     "data": {
      "text/html": [
       "<pre>Starting Optimization.</pre>"
      ],
      "text/plain": [
       "Starting Optimization."
      ]
     },
     "metadata": {},
     "output_type": "display_data"
    },
    {
     "data": {
      "text/html": [
       "<pre>+---------+--------------+-------------------+-----------------------+-------------+</pre>"
      ],
      "text/plain": [
       "+---------+--------------+-------------------+-----------------------+-------------+"
      ]
     },
     "metadata": {},
     "output_type": "display_data"
    },
    {
     "data": {
      "text/html": [
       "<pre>| Iter.   | Elapsed Time | Approx. Objective | Approx. Training RMSE | Step Size   |</pre>"
      ],
      "text/plain": [
       "| Iter.   | Elapsed Time | Approx. Objective | Approx. Training RMSE | Step Size   |"
      ]
     },
     "metadata": {},
     "output_type": "display_data"
    },
    {
     "data": {
      "text/html": [
       "<pre>+---------+--------------+-------------------+-----------------------+-------------+</pre>"
      ],
      "text/plain": [
       "+---------+--------------+-------------------+-----------------------+-------------+"
      ]
     },
     "metadata": {},
     "output_type": "display_data"
    },
    {
     "data": {
      "text/html": [
       "<pre>| Initial | 128us        | 49428.4           | 188.97                |             |</pre>"
      ],
      "text/plain": [
       "| Initial | 128us        | 49428.4           | 188.97                |             |"
      ]
     },
     "metadata": {},
     "output_type": "display_data"
    },
    {
     "data": {
      "text/html": [
       "<pre>+---------+--------------+-------------------+-----------------------+-------------+</pre>"
      ],
      "text/plain": [
       "+---------+--------------+-------------------+-----------------------+-------------+"
      ]
     },
     "metadata": {},
     "output_type": "display_data"
    },
    {
     "data": {
      "text/html": [
       "<pre>| 1       | 92.15ms      | 41208.5           | 175.874               | 0.78125     |</pre>"
      ],
      "text/plain": [
       "| 1       | 92.15ms      | 41208.5           | 175.874               | 0.78125     |"
      ]
     },
     "metadata": {},
     "output_type": "display_data"
    },
    {
     "data": {
      "text/html": [
       "<pre>| 2       | 192.99ms     | 37482.5           | 166.146               | 0.78125     |</pre>"
      ],
      "text/plain": [
       "| 2       | 192.99ms     | 37482.5           | 166.146               | 0.78125     |"
      ]
     },
     "metadata": {},
     "output_type": "display_data"
    },
    {
     "data": {
      "text/html": [
       "<pre>| 3       | 265.491ms    | 31734.1           | 150.936               | 0.78125     |</pre>"
      ],
      "text/plain": [
       "| 3       | 265.491ms    | 31734.1           | 150.936               | 0.78125     |"
      ]
     },
     "metadata": {},
     "output_type": "display_data"
    },
    {
     "data": {
      "text/html": [
       "<pre>| 4       | 359.463ms    | 28647.3           | 141.751               | 0.78125     |</pre>"
      ],
      "text/plain": [
       "| 4       | 359.463ms    | 28647.3           | 141.751               | 0.78125     |"
      ]
     },
     "metadata": {},
     "output_type": "display_data"
    },
    {
     "data": {
      "text/html": [
       "<pre>| 5       | 458.825ms    | 27033.2           | 136.749               | 0.78125     |</pre>"
      ],
      "text/plain": [
       "| 5       | 458.825ms    | 27033.2           | 136.749               | 0.78125     |"
      ]
     },
     "metadata": {},
     "output_type": "display_data"
    },
    {
     "data": {
      "text/html": [
       "<pre>| 6       | 556.55ms     | 25929.5           | 133.357               | 0.78125     |</pre>"
      ],
      "text/plain": [
       "| 6       | 556.55ms     | 25929.5           | 133.357               | 0.78125     |"
      ]
     },
     "metadata": {},
     "output_type": "display_data"
    },
    {
     "data": {
      "text/html": [
       "<pre>| 11      | 954.197ms    | 19458.5           | 110.041               | 0.78125     |</pre>"
      ],
      "text/plain": [
       "| 11      | 954.197ms    | 19458.5           | 110.041               | 0.78125     |"
      ]
     },
     "metadata": {},
     "output_type": "display_data"
    },
    {
     "data": {
      "text/html": [
       "<pre>| 25      | 1.97s        | 10500             | 68.5027               | 0.78125     |</pre>"
      ],
      "text/plain": [
       "| 25      | 1.97s        | 10500             | 68.5027               | 0.78125     |"
      ]
     },
     "metadata": {},
     "output_type": "display_data"
    },
    {
     "data": {
      "text/html": [
       "<pre>+---------+--------------+-------------------+-----------------------+-------------+</pre>"
      ],
      "text/plain": [
       "+---------+--------------+-------------------+-----------------------+-------------+"
      ]
     },
     "metadata": {},
     "output_type": "display_data"
    },
    {
     "data": {
      "text/html": [
       "<pre>Optimization Complete: Maximum number of passes through the data reached.</pre>"
      ],
      "text/plain": [
       "Optimization Complete: Maximum number of passes through the data reached."
      ]
     },
     "metadata": {},
     "output_type": "display_data"
    },
    {
     "data": {
      "text/html": [
       "<pre>Computing final objective value and training RMSE.</pre>"
      ],
      "text/plain": [
       "Computing final objective value and training RMSE."
      ]
     },
     "metadata": {},
     "output_type": "display_data"
    },
    {
     "data": {
      "text/html": [
       "<pre>       Final objective value: 10362.2</pre>"
      ],
      "text/plain": [
       "       Final objective value: 10362.2"
      ]
     },
     "metadata": {},
     "output_type": "display_data"
    },
    {
     "data": {
      "text/html": [
       "<pre>       Final training RMSE: 66.3649</pre>"
      ],
      "text/plain": [
       "       Final training RMSE: 66.3649"
      ]
     },
     "metadata": {},
     "output_type": "display_data"
    }
   ],
   "source": [
    "m1 = graphlab.ranking_factorization_recommender.create(sf, target='rating', ranking_regularization = 0.1 )"
   ]
  },
  {
   "cell_type": "code",
   "execution_count": 85,
   "metadata": {},
   "outputs": [
    {
     "data": {
      "text/plain": [
       "{'precision_recall_by_user': Columns:\n",
       " \tuser_id\tint\n",
       " \tcutoff\tint\n",
       " \tprecision\tfloat\n",
       " \trecall\tfloat\n",
       " \tcount\tint\n",
       " \n",
       " Rows: 7884\n",
       " \n",
       " Data:\n",
       " +---------+--------+-----------+--------+-------+\n",
       " | user_id | cutoff | precision | recall | count |\n",
       " +---------+--------+-----------+--------+-------+\n",
       " |   5250  |   1    |    0.0    |  0.0   |   4   |\n",
       " |   5250  |   2    |    0.0    |  0.0   |   4   |\n",
       " |   5250  |   3    |    0.0    |  0.0   |   4   |\n",
       " |   5250  |   4    |    0.0    |  0.0   |   4   |\n",
       " |   5250  |   5    |    0.0    |  0.0   |   4   |\n",
       " |   5250  |   6    |    0.0    |  0.0   |   4   |\n",
       " |   5250  |   7    |    0.0    |  0.0   |   4   |\n",
       " |   5250  |   8    |    0.0    |  0.0   |   4   |\n",
       " |   5250  |   9    |    0.0    |  0.0   |   4   |\n",
       " |   5250  |   10   |    0.0    |  0.0   |   4   |\n",
       " +---------+--------+-----------+--------+-------+\n",
       " [7884 rows x 5 columns]\n",
       " Note: Only the head of the SFrame is printed.\n",
       " You can use print_rows(num_rows=m, num_columns=n) to print more rows and columns.,\n",
       " 'precision_recall_overall': Columns:\n",
       " \tcutoff\tint\n",
       " \tprecision\tfloat\n",
       " \trecall\tfloat\n",
       " \n",
       " Rows: 18\n",
       " \n",
       " Data:\n",
       " +--------+----------------+-----------------+\n",
       " | cutoff |   precision    |      recall     |\n",
       " +--------+----------------+-----------------+\n",
       " |   1    | 0.342465753425 | 0.0319927487667 |\n",
       " |   2    | 0.285388127854 | 0.0535668354547 |\n",
       " |   3    | 0.269406392694 | 0.0737194791988 |\n",
       " |   4    | 0.255136986301 | 0.0908910421853 |\n",
       " |   5    | 0.232876712329 |  0.101598745005 |\n",
       " |   6    | 0.212709284627 |  0.109460616663 |\n",
       " |   7    | 0.196999347684 |  0.117189984177 |\n",
       " |   8    | 0.181792237443 |  0.122197651809 |\n",
       " |   9    | 0.170725520041 |  0.129095714461 |\n",
       " |   10   | 0.161415525114 |  0.133606295497 |\n",
       " +--------+----------------+-----------------+\n",
       " [18 rows x 3 columns]\n",
       " Note: Only the head of the SFrame is printed.\n",
       " You can use print_rows(num_rows=m, num_columns=n) to print more rows and columns.}"
      ]
     },
     "execution_count": 85,
     "metadata": {},
     "output_type": "execute_result"
    }
   ],
   "source": [
    "m1.evaluate_precision_recall(sf_test)"
   ]
  },
  {
   "cell_type": "code",
   "execution_count": 86,
   "metadata": {},
   "outputs": [
    {
     "data": {
      "text/html": [
       "<pre>recommendations finished on 1000/2190 queries. users per second: 8643.49</pre>"
      ],
      "text/plain": [
       "recommendations finished on 1000/2190 queries. users per second: 8643.49"
      ]
     },
     "metadata": {},
     "output_type": "display_data"
    },
    {
     "data": {
      "text/html": [
       "<pre>recommendations finished on 2000/2190 queries. users per second: 8794.42</pre>"
      ],
      "text/plain": [
       "recommendations finished on 2000/2190 queries. users per second: 8794.42"
      ]
     },
     "metadata": {},
     "output_type": "display_data"
    },
    {
     "data": {
      "text/plain": [
       "{'precision_recall_by_user': Columns:\n",
       " \tuser_id\tint\n",
       " \tcutoff\tint\n",
       " \tprecision\tfloat\n",
       " \trecall\tfloat\n",
       " \tcount\tint\n",
       " \n",
       " Rows: 39420\n",
       " \n",
       " Data:\n",
       " +---------+--------+-----------+--------+-------+\n",
       " | user_id | cutoff | precision | recall | count |\n",
       " +---------+--------+-----------+--------+-------+\n",
       " |   5250  |   1    |    0.0    |  0.0   |   2   |\n",
       " |   5250  |   2    |    0.0    |  0.0   |   2   |\n",
       " |   5250  |   3    |    0.0    |  0.0   |   2   |\n",
       " |   5250  |   4    |    0.0    |  0.0   |   2   |\n",
       " |   5250  |   5    |    0.0    |  0.0   |   2   |\n",
       " |   5250  |   6    |    0.0    |  0.0   |   2   |\n",
       " |   5250  |   7    |    0.0    |  0.0   |   2   |\n",
       " |   5250  |   8    |    0.0    |  0.0   |   2   |\n",
       " |   5250  |   9    |    0.0    |  0.0   |   2   |\n",
       " |   5250  |   10   |    0.0    |  0.0   |   2   |\n",
       " +---------+--------+-----------+--------+-------+\n",
       " [39420 rows x 5 columns]\n",
       " Note: Only the head of the SFrame is printed.\n",
       " You can use print_rows(num_rows=m, num_columns=n) to print more rows and columns.,\n",
       " 'precision_recall_overall': Columns:\n",
       " \tcutoff\tint\n",
       " \tprecision\tfloat\n",
       " \trecall\tfloat\n",
       " \n",
       " Rows: 18\n",
       " \n",
       " Data:\n",
       " +--------+-----------+--------+\n",
       " | cutoff | precision | recall |\n",
       " +--------+-----------+--------+\n",
       " |   1    |    0.0    |  0.0   |\n",
       " |   2    |    0.0    |  0.0   |\n",
       " |   3    |    0.0    |  0.0   |\n",
       " |   4    |    0.0    |  0.0   |\n",
       " |   5    |    0.0    |  0.0   |\n",
       " |   6    |    0.0    |  0.0   |\n",
       " |   7    |    0.0    |  0.0   |\n",
       " |   8    |    0.0    |  0.0   |\n",
       " |   9    |    0.0    |  0.0   |\n",
       " |   10   |    0.0    |  0.0   |\n",
       " +--------+-----------+--------+\n",
       " [18 rows x 3 columns]\n",
       " Note: Only the head of the SFrame is printed.\n",
       " You can use print_rows(num_rows=m, num_columns=n) to print more rows and columns.}"
      ]
     },
     "execution_count": 86,
     "metadata": {},
     "output_type": "execute_result"
    }
   ],
   "source": [
    "m1.evaluate_precision_recall(sf)"
   ]
  },
  {
   "cell_type": "code",
   "execution_count": 87,
   "metadata": {},
   "outputs": [
    {
     "name": "stdout",
     "output_type": "stream",
     "text": [
      "\n",
      "Precision and recall summary statistics by cutoff\n",
      "+--------+----------------+-----------------+\n",
      "| cutoff | mean_precision |   mean_recall   |\n",
      "+--------+----------------+-----------------+\n",
      "|   1    | 0.342465753425 | 0.0319927487667 |\n",
      "|   2    | 0.285388127854 | 0.0535668354547 |\n",
      "|   3    | 0.269406392694 | 0.0737194791988 |\n",
      "|   4    | 0.255136986301 | 0.0908910421853 |\n",
      "|   5    | 0.232876712329 |  0.101598745005 |\n",
      "|   6    | 0.212709284627 |  0.109460616663 |\n",
      "|   7    | 0.196999347684 |  0.117189984177 |\n",
      "|   8    | 0.181792237443 |  0.122197651809 |\n",
      "|   9    | 0.170725520041 |  0.129095714461 |\n",
      "|   10   | 0.161415525114 |  0.133606295497 |\n",
      "+--------+----------------+-----------------+\n",
      "[10 rows x 3 columns]\n",
      "\n",
      "('\\nOverall RMSE: ', 236.32466262739274)\n",
      "\n",
      "Per User RMSE (best)\n",
      "+-----------+-------+---------------+\n",
      "|  user_id  | count |      rmse     |\n",
      "+-----------+-------+---------------+\n",
      "| 203092936 |   4   | 24.4625835707 |\n",
      "+-----------+-------+---------------+\n",
      "[1 rows x 3 columns]\n",
      "\n",
      "\n",
      "Per User RMSE (worst)\n",
      "+----------+-------+---------------+\n",
      "| user_id  | count |      rmse     |\n",
      "+----------+-------+---------------+\n",
      "| 32749624 |   4   | 2060.30972523 |\n",
      "+----------+-------+---------------+\n",
      "[1 rows x 3 columns]\n",
      "\n",
      "\n",
      "Per Item RMSE (best)\n",
      "+---------+-------+----------------+\n",
      "| item_id | count |      rmse      |\n",
      "+---------+-------+----------------+\n",
      "|   317   |   1   | 0.705799939359 |\n",
      "+---------+-------+----------------+\n",
      "[1 rows x 3 columns]\n",
      "\n",
      "\n",
      "Per Item RMSE (worst)\n",
      "+---------+-------+---------------+\n",
      "| item_id | count |      rmse     |\n",
      "+---------+-------+---------------+\n",
      "|   2137  |   1   | 1340.77896738 |\n",
      "+---------+-------+---------------+\n",
      "[1 rows x 3 columns]\n",
      "\n"
     ]
    }
   ],
   "source": [
    "test_eval = m1.evaluate(sf_test)"
   ]
  },
  {
   "cell_type": "code",
   "execution_count": 88,
   "metadata": {},
   "outputs": [
    {
     "data": {
      "text/plain": [
       "7414"
      ]
     },
     "execution_count": 88,
     "metadata": {},
     "output_type": "execute_result"
    }
   ],
   "source": [
    "test_test.shape[0]"
   ]
  },
  {
   "cell_type": "code",
   "execution_count": 90,
   "metadata": {},
   "outputs": [
    {
     "data": {
      "text/plain": [
       "dict_keys(['rmse_by_user', 'precision_recall_overall', 'rmse_by_item', 'precision_recall_by_user', 'rmse_overall'])"
      ]
     },
     "execution_count": 90,
     "metadata": {},
     "output_type": "execute_result"
    }
   ],
   "source": [
    "test_eval.viewkeys()"
   ]
  },
  {
   "cell_type": "code",
   "execution_count": 97,
   "metadata": {
    "collapsed": true
   },
   "outputs": [],
   "source": [
    "pr = test_eval['rmse_overall']"
   ]
  },
  {
   "cell_type": "code",
   "execution_count": 98,
   "metadata": {},
   "outputs": [
    {
     "data": {
      "text/plain": [
       "236.32466262739274"
      ]
     },
     "execution_count": 98,
     "metadata": {},
     "output_type": "execute_result"
    }
   ],
   "source": [
    "pr"
   ]
  },
  {
   "cell_type": "code",
   "execution_count": 94,
   "metadata": {},
   "outputs": [
    {
     "data": {
      "text/plain": [
       "user_id      1.152340e+08\n",
       "cutoff       1.801234e+01\n",
       "precision    2.432792e-01\n",
       "recall       2.082940e-01\n",
       "count        2.012344e+01\n",
       "dtype: float64"
      ]
     },
     "execution_count": 94,
     "metadata": {},
     "output_type": "execute_result"
    }
   ],
   "source": [
    "not_zero_df.mean()"
   ]
  }
 ],
 "metadata": {
  "kernelspec": {
   "display_name": "Python 3",
   "language": "python",
   "name": "python3"
  },
  "language_info": {
   "codemirror_mode": {
    "name": "ipython",
    "version": 3
   },
   "file_extension": ".py",
   "mimetype": "text/x-python",
   "name": "python",
   "nbconvert_exporter": "python",
   "pygments_lexer": "ipython3",
   "version": "3.6.3"
  }
 },
 "nbformat": 4,
 "nbformat_minor": 2
}
