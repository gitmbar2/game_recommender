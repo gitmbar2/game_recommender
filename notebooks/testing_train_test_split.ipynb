{
 "cells": [
  {
   "cell_type": "markdown",
   "metadata": {},
   "source": [
    "# Alternative Train Test Split"
   ]
  },
  {
   "cell_type": "code",
   "execution_count": 1,
   "metadata": {
    "collapsed": true
   },
   "outputs": [],
   "source": [
    "import math\n",
    "import random\n",
    "import pandas as pd\n",
    "import numpy as np\n",
    "import matplotlib.pyplot as plt\n",
    "%matplotlib inline\n",
    "\n",
    "import pyspark\n",
    "from pyspark.sql import SparkSession\n",
    "from pyspark.ml.recommendation import ALS\n",
    "from pyspark.ml.evaluation import RegressionEvaluator\n",
    "\n",
    "spark_sess = SparkSession.builder.getOrCreate()\n",
    "spark_session = spark_sess.newSession()\n",
    "path = os.path.dirname(os.path.dirname(os.path.abspath('__file__')))\n",
    "# spark_context = spark_session.sparkContext\n",
    "# spark_context.addFile(path + '/src/', recursive=True)\n",
    "\n",
    "import os, sys\n",
    "sys.path.append(os.path.dirname(os.path.dirname(os.path.abspath('__file__'))))\n",
    "from src import EDA\n",
    "from src import ModelEvaluation\n",
    "%load_ext autoreload\n",
    "%autoreload 2"
   ]
  },
  {
   "cell_type": "code",
   "execution_count": 2,
   "metadata": {},
   "outputs": [
    {
     "name": "stderr",
     "output_type": "stream",
     "text": [
      "/Users/michaelbarton/Code/gproject/src/EDA.py:21: UserWarning: Boolean Series key will be reindexed to match DataFrame index.\n",
      "  return filtered_users[steam_df['game_name'].isin(usable_games['game_name'].values)]\n",
      "/Users/michaelbarton/anaconda2/envs/py36/lib/python3.6/site-packages/pandas/core/groupby.py:4036: FutureWarning: using a dict with renaming is deprecated and will be removed in a future version\n",
      "  return super(DataFrameGroupBy, self).aggregate(arg, *args, **kwargs)\n"
     ]
    },
    {
     "data": {
      "text/html": [
       "<div>\n",
       "<style>\n",
       "    .dataframe thead tr:only-child th {\n",
       "        text-align: right;\n",
       "    }\n",
       "\n",
       "    .dataframe thead th {\n",
       "        text-align: left;\n",
       "    }\n",
       "\n",
       "    .dataframe tbody tr th {\n",
       "        vertical-align: top;\n",
       "    }\n",
       "</style>\n",
       "<table border=\"1\" class=\"dataframe\">\n",
       "  <thead>\n",
       "    <tr style=\"text-align: right;\">\n",
       "      <th></th>\n",
       "      <th>uid</th>\n",
       "      <th>game_name</th>\n",
       "      <th>purchase_action</th>\n",
       "      <th>playtime</th>\n",
       "      <th>playtime_rank</th>\n",
       "      <th>game_uid</th>\n",
       "      <th>playtime_mean</th>\n",
       "      <th>playtime_min</th>\n",
       "      <th>playtime_max</th>\n",
       "      <th>game_counts</th>\n",
       "      <th>min_max</th>\n",
       "    </tr>\n",
       "  </thead>\n",
       "  <tbody>\n",
       "    <tr>\n",
       "      <th>1</th>\n",
       "      <td>151603712</td>\n",
       "      <td>The Elder Scrolls V Skyrim</td>\n",
       "      <td>play</td>\n",
       "      <td>273.0</td>\n",
       "      <td>3</td>\n",
       "      <td>0</td>\n",
       "      <td>105.721530</td>\n",
       "      <td>0.1</td>\n",
       "      <td>1986.0</td>\n",
       "      <td>562</td>\n",
       "      <td>0.412256</td>\n",
       "    </tr>\n",
       "    <tr>\n",
       "      <th>3</th>\n",
       "      <td>151603712</td>\n",
       "      <td>Fallout 4</td>\n",
       "      <td>play</td>\n",
       "      <td>87.0</td>\n",
       "      <td>3</td>\n",
       "      <td>1</td>\n",
       "      <td>65.274172</td>\n",
       "      <td>0.2</td>\n",
       "      <td>629.0</td>\n",
       "      <td>151</td>\n",
       "      <td>0.414122</td>\n",
       "    </tr>\n",
       "  </tbody>\n",
       "</table>\n",
       "</div>"
      ],
      "text/plain": [
       "         uid                   game_name purchase_action  playtime  \\\n",
       "1  151603712  The Elder Scrolls V Skyrim            play     273.0   \n",
       "3  151603712                   Fallout 4            play      87.0   \n",
       "\n",
       "   playtime_rank  game_uid  playtime_mean  playtime_min  playtime_max  \\\n",
       "1              3         0     105.721530           0.1        1986.0   \n",
       "3              3         1      65.274172           0.2         629.0   \n",
       "\n",
       "   game_counts   min_max  \n",
       "1          562  0.412256  \n",
       "3          151  0.414122  "
      ]
     },
     "execution_count": 2,
     "metadata": {},
     "output_type": "execute_result"
    }
   ],
   "source": [
    "steam_df = EDA.load_without_cold_start(5)\n",
    "steam_df = steam_df[steam_df['purchase_action'] == 'play']\n",
    "steam_df[\"playtime_rank\"] = steam_df['playtime'].map(lambda value: EDA.rank_playtime(value))\n",
    "steam_df = EDA.get_uids(steam_df, from_column='game_name', to_column='game_uid')\n",
    "with_summaries_df = EDA.add_summaries(steam_df)\n",
    "with_summaries_df.head(2)"
   ]
  },
  {
   "cell_type": "code",
   "execution_count": 3,
   "metadata": {
    "collapsed": true
   },
   "outputs": [],
   "source": [
    "min_score = with_summaries_df['min_max'].min()\n",
    "max_score = with_summaries_df['min_max'].max()\n",
    "def get_random_scores(n, max_score):\n",
    "    return np.random.random_sample(n, ) * max_score"
   ]
  },
  {
   "cell_type": "code",
   "execution_count": 4,
   "metadata": {
    "collapsed": true
   },
   "outputs": [],
   "source": [
    "steam_df_random_predictions = with_summaries_df.copy()\n",
    "steam_df_random_predictions['random_prediction'] = get_random_scores(steam_df_random_predictions.shape[0], max_score)"
   ]
  },
  {
   "cell_type": "code",
   "execution_count": 67,
   "metadata": {
    "collapsed": true
   },
   "outputs": [],
   "source": [
    "# split\n",
    "train_df, test_df = EDA.recommender_train_test_split(\n",
    "    steam_df_random_predictions,\n",
    "    user_split_train=.7,\n",
    "    game_split_train=.3,\n",
    "    seed=1)"
   ]
  },
  {
   "cell_type": "code",
   "execution_count": 68,
   "metadata": {},
   "outputs": [
    {
     "data": {
      "text/plain": [
       "46520"
      ]
     },
     "execution_count": 68,
     "metadata": {},
     "output_type": "execute_result"
    }
   ],
   "source": [
    "train_spark_df = spark_session.createDataFrame(train_df)\n",
    "test_spark_df = spark_session.createDataFrame(test_df)\n",
    "train_spark_df.count()"
   ]
  },
  {
   "cell_type": "code",
   "execution_count": 69,
   "metadata": {},
   "outputs": [
    {
     "data": {
      "text/plain": [
       "0.7440154765345693"
      ]
     },
     "execution_count": 69,
     "metadata": {},
     "output_type": "execute_result"
    }
   ],
   "source": [
    "als_model = ALS(\n",
    "    itemCol='game_uid',\n",
    "    userCol='uid',\n",
    "    ratingCol='min_max',\n",
    "    nonnegative=True,    \n",
    "    regParam=0.1,\n",
    "    coldStartStrategy=\"drop\", # Drops if user or item in test was not in train\n",
    "    rank=10) \n",
    "\n",
    "fitted_als_model = als_model.fit(train_spark_df)\n",
    "\n",
    "predictions = fitted_als_model.transform(test_spark_df)\n",
    "evaluator = RegressionEvaluator() \\\n",
    "    .setMetricName(\"rmse\") \\\n",
    "    .setLabelCol(\"min_max\") \\\n",
    "    .setPredictionCol(\"prediction\")\n",
    "rmse = evaluator.evaluate(predictions)\n",
    "rmse\n",
    "# compare to 0.7685464618302161 for 80/20 split"
   ]
  },
  {
   "cell_type": "code",
   "execution_count": 70,
   "metadata": {
    "collapsed": true
   },
   "outputs": [],
   "source": [
    "# Random RMSE\n",
    "# Would need multiple random models to be confident since it will be... random\n",
    "\n",
    "prediction_count = predictions.count() # less than test item count (NaNs)\n",
    "predictions_rdd = predictions.rdd\n",
    "random_SSE = predictions_rdd.map(lambda r: (r['min_max'] - r['random_prediction'])**2) \\\n",
    "    .reduce(lambda total, x: total + x)\n",
    "random_rmse = math.sqrt(random_SSE / prediction_count)"
   ]
  },
  {
   "cell_type": "code",
   "execution_count": 71,
   "metadata": {},
   "outputs": [
    {
     "name": "stdout",
     "output_type": "stream",
     "text": [
      "Random RMSE:  1.576392282698209\n",
      "% Increase in Random Model RMSError:  111.87627575176724\n"
     ]
    }
   ],
   "source": [
    "print('Random RMSE: ', random_rmse)\n",
    "print('% Increase in Random Model RMSError: ', ((random_rmse / rmse) - 1) * 100)\n",
    "# base 80/20 split is 104.35477288510509"
   ]
  },
  {
   "cell_type": "code",
   "execution_count": 72,
   "metadata": {
    "collapsed": true
   },
   "outputs": [],
   "source": [
    "def sort_predictions_slice(arr, n):\n",
    "    actual_and_pred = np.array(arr)\n",
    "    # sort by predictions\n",
    "    indeces = np.argsort(actual_and_pred[:, 1])\n",
    "    return actual_and_pred[indeces[::-1]][:n].tolist()\n",
    "\n",
    "def dcg_at_k(scores, k):\n",
    "    \"\"\"\n",
    "    Discounted cumulative gain\n",
    "    See http://fastml.com/evaluating-recommender-systems/\n",
    "    Args:\n",
    "        r: List - Relevance scores in rank order\n",
    "        k: Number of results to consider\n",
    "    Returns:\n",
    "        Float\n",
    "    \"\"\"\n",
    "    r = np.asfarray(scores)[:k]\n",
    "    if r.size:\n",
    "        # item 1 and 2 have same weights\n",
    "#         return r[0] + np.sum(r[1:] / np.log2(np.arange(2, r.size + 1)))\n",
    "        # use below for more emphasis on first rank\n",
    "        return np.sum(r / np.log2(np.arange(2, r.size + 2)))\n",
    "    return 0.\n",
    "\n",
    "def ndcg_at_k(scores, k):\n",
    "    \"\"\"\n",
    "    Normalized Discounted cumulative gain\n",
    "    See http://fastml.com/evaluating-recommender-systems/\n",
    "    Args:\n",
    "        r: List - Relevance scores in rank order\n",
    "        k: Number of results to consider\n",
    "    Returns:\n",
    "        Float from 0 to 1\n",
    "    \"\"\"\n",
    "    dcg_max = dcg_at_k(sorted(scores, reverse=True), k)\n",
    "    if not dcg_max:\n",
    "        return 0.\n",
    "    return dcg_at_k(scores, k) / dcg_max"
   ]
  },
  {
   "cell_type": "code",
   "execution_count": 73,
   "metadata": {},
   "outputs": [
    {
     "data": {
      "text/plain": [
       "387.31994747111906"
      ]
     },
     "execution_count": 73,
     "metadata": {},
     "output_type": "execute_result"
    }
   ],
   "source": [
    "# use actual values for gain\n",
    "sampled = predictions_rdd.sample(False, 1, 1)\n",
    "ndcg = sampled.map(lambda row: (row['uid'], [(row['min_max'], row['prediction'])])) \\\n",
    "    .reduceByKey(lambda total, val: total + val) \\\n",
    "    .map(lambda kv: (kv[0], sort_predictions_slice(kv[1], 1000))) \\\n",
    "    .map(lambda kv: ndcg_at_k(np.array(kv[1])[:, 0], 3)) \\\n",
    "    .reduce(lambda total, gain: total + gain) \n",
    "average_ndcg = ndcg / prediction_count\n",
    "ndcg\n",
    "\n",
    "# Calling other files with Spark may not be worth it \n",
    "\n",
    "# ndcg, average_ndcg = ModelEvaluation.spark_ndcg_at_k(predictions_rdd, 3)\n",
    "# ndcg"
   ]
  },
  {
   "cell_type": "code",
   "execution_count": 74,
   "metadata": {},
   "outputs": [
    {
     "data": {
      "text/plain": [
       "284.94678683327874"
      ]
     },
     "execution_count": 74,
     "metadata": {},
     "output_type": "execute_result"
    }
   ],
   "source": [
    "# use actual values for gain\n",
    "# evaluating more than half of the games doesnt seem to be useful - ends up rating everything\n",
    "# need a cutoff for ndcg\n",
    "sampled = predictions_rdd.sample(False, 1, 1)\n",
    "random_ndcg = sampled.map(lambda row: (row['uid'], [(row['min_max'], row['random_prediction'])])) \\\n",
    "    .reduceByKey(lambda total, val: total + val) \\\n",
    "    .map(lambda kv: (kv[0], sort_predictions_slice(kv[1], 1000))) \\\n",
    "    .map(lambda kv: ndcg_at_k(np.array(kv[1])[:, 0], 3)) \\\n",
    "    .reduce(lambda total, gain: total + gain) \n",
    "average_random_dcg = random_ndcg / prediction_count\n",
    "random_ndcg"
   ]
  },
  {
   "cell_type": "code",
   "execution_count": 75,
   "metadata": {},
   "outputs": [
    {
     "name": "stdout",
     "output_type": "stream",
     "text": [
      "Increase in average cumulative gain:  35.927115296\n"
     ]
    }
   ],
   "source": [
    "# 7.4% with 80/20 split\n",
    "# 20% with 50/50 split\n",
    "# 7.4763370166 with .8 and .75 \n",
    "# 11.2840101805 with .9 and .5\n",
    "# 35.9 with .7 and .3 (method 2)\n",
    "# increase compared to random seems to be completely based on games split\n",
    "print('Increase in average cumulative gain: ', (ndcg / random_ndcg - 1) * 100)"
   ]
  },
  {
   "cell_type": "code",
   "execution_count": 76,
   "metadata": {},
   "outputs": [
    {
     "data": {
      "text/plain": [
       "0.035016720682679602"
      ]
     },
     "execution_count": 76,
     "metadata": {},
     "output_type": "execute_result"
    }
   ],
   "source": [
    "# 0.056835339579378932 with 50/50\n",
    "# 0.14969597434654067 with 80/20\n",
    "# 0.064924338587312933 with .8 and .5\n",
    "# increase in ndcg is always related to the games split as well.  \n",
    "# Holding out 75% of games increases random and model ndcg because there is less to get wrong\n",
    "# In both cases it is more likely to be the same as ideal\n",
    "average_ndcg"
   ]
  },
  {
   "cell_type": "code",
   "execution_count": 77,
   "metadata": {},
   "outputs": [
    {
     "data": {
      "text/plain": [
       "0.025761394705115157"
      ]
     },
     "execution_count": 77,
     "metadata": {},
     "output_type": "execute_result"
    }
   ],
   "source": [
    "average_random_dcg"
   ]
  },
  {
   "cell_type": "code",
   "execution_count": 29,
   "metadata": {},
   "outputs": [
    {
     "data": {
      "text/plain": [
       "19840"
      ]
     },
     "execution_count": 29,
     "metadata": {},
     "output_type": "execute_result"
    }
   ],
   "source": [
    "predictions_rdd.count()"
   ]
  },
  {
   "cell_type": "code",
   "execution_count": null,
   "metadata": {
    "collapsed": true
   },
   "outputs": [],
   "source": []
  },
  {
   "cell_type": "code",
   "execution_count": null,
   "metadata": {
    "collapsed": true
   },
   "outputs": [],
   "source": []
  }
 ],
 "metadata": {
  "kernelspec": {
   "display_name": "Python 3",
   "language": "python",
   "name": "python3"
  },
  "language_info": {
   "codemirror_mode": {
    "name": "ipython",
    "version": 3
   },
   "file_extension": ".py",
   "mimetype": "text/x-python",
   "name": "python",
   "nbconvert_exporter": "python",
   "pygments_lexer": "ipython3",
   "version": "3.6.3"
  }
 },
 "nbformat": 4,
 "nbformat_minor": 2
}
