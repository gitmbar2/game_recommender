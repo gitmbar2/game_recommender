{
 "cells": [
  {
   "cell_type": "markdown",
   "metadata": {},
   "source": [
    "# Finding Ideal Train Test Split"
   ]
  },
  {
   "cell_type": "code",
   "execution_count": 1,
   "metadata": {
    "collapsed": true
   },
   "outputs": [],
   "source": [
    "import math\n",
    "import random\n",
    "import pandas as pd\n",
    "import numpy as np\n",
    "import matplotlib.pyplot as plt\n",
    "%matplotlib inline\n",
    "\n",
    "import warnings\n",
    "warnings.filterwarnings(\"ignore\")\n",
    "\n",
    "import pyspark\n",
    "from pyspark.sql import SparkSession\n",
    "from pyspark.ml.recommendation import ALS\n",
    "from pyspark.ml.evaluation import RegressionEvaluator\n",
    "\n",
    "import os, sys\n",
    "parent_folder = os.path.dirname(os.path.dirname(os.path.abspath('__file__')))\n",
    "sys.path.append(parent_folder)\n",
    "from src import EDA, ModelEvaluation, Preprocess, Split\n",
    "%load_ext autoreload\n",
    "%autoreload 2\n",
    "\n",
    "spark_sess = SparkSession.builder.getOrCreate()\n",
    "spark_session = spark_sess.newSession()"
   ]
  },
  {
   "cell_type": "markdown",
   "metadata": {},
   "source": [
    "# This notebook was used for exploring splitting the data\n",
    "### Ultimately, kfold cross validation was decided upon"
   ]
  },
  {
   "cell_type": "code",
   "execution_count": 3,
   "metadata": {},
   "outputs": [
    {
     "data": {
      "text/html": [
       "<div>\n",
       "<style>\n",
       "    .dataframe thead tr:only-child th {\n",
       "        text-align: right;\n",
       "    }\n",
       "\n",
       "    .dataframe thead th {\n",
       "        text-align: left;\n",
       "    }\n",
       "\n",
       "    .dataframe tbody tr th {\n",
       "        vertical-align: top;\n",
       "    }\n",
       "</style>\n",
       "<table border=\"1\" class=\"dataframe\">\n",
       "  <thead>\n",
       "    <tr style=\"text-align: right;\">\n",
       "      <th></th>\n",
       "      <th>uid</th>\n",
       "      <th>playtime</th>\n",
       "      <th>playtime_min_max</th>\n",
       "      <th>game_name</th>\n",
       "      <th>game_uid</th>\n",
       "    </tr>\n",
       "  </thead>\n",
       "  <tbody>\n",
       "    <tr>\n",
       "      <th>1</th>\n",
       "      <td>151603712</td>\n",
       "      <td>273.0</td>\n",
       "      <td>1.412256</td>\n",
       "      <td>The Elder Scrolls V Skyrim</td>\n",
       "      <td>0</td>\n",
       "    </tr>\n",
       "    <tr>\n",
       "      <th>3</th>\n",
       "      <td>151603712</td>\n",
       "      <td>87.0</td>\n",
       "      <td>1.414122</td>\n",
       "      <td>Fallout 4</td>\n",
       "      <td>1</td>\n",
       "    </tr>\n",
       "  </tbody>\n",
       "</table>\n",
       "</div>"
      ],
      "text/plain": [
       "         uid  playtime  playtime_min_max                   game_name  game_uid\n",
       "1  151603712     273.0          1.412256  The Elder Scrolls V Skyrim         0\n",
       "3  151603712      87.0          1.414122                   Fallout 4         1"
      ]
     },
     "execution_count": 3,
     "metadata": {},
     "output_type": "execute_result"
    }
   ],
   "source": [
    "steam_df = EDA.load_without_cold_start(min_games_played=5)\n",
    "preprocessor = Preprocess.PandasALSPreprocessor(steam_df)\n",
    "preprocessor.process_general()\n",
    "preprocessor.process_buckets()\n",
    "preprocessor.process_min_max()\n",
    "preprocessor.keep_standard_columns()\n",
    "steam_df = preprocessor.get_df()\n",
    "steam_df.head(2)"
   ]
  },
  {
   "cell_type": "code",
   "execution_count": 4,
   "metadata": {},
   "outputs": [
    {
     "data": {
      "text/html": [
       "<div>\n",
       "<style>\n",
       "    .dataframe thead tr:only-child th {\n",
       "        text-align: right;\n",
       "    }\n",
       "\n",
       "    .dataframe thead th {\n",
       "        text-align: left;\n",
       "    }\n",
       "\n",
       "    .dataframe tbody tr th {\n",
       "        vertical-align: top;\n",
       "    }\n",
       "</style>\n",
       "<table border=\"1\" class=\"dataframe\">\n",
       "  <thead>\n",
       "    <tr style=\"text-align: right;\">\n",
       "      <th></th>\n",
       "      <th>uid</th>\n",
       "      <th>playtime</th>\n",
       "      <th>playtime_min_max</th>\n",
       "      <th>game_name</th>\n",
       "      <th>game_uid</th>\n",
       "      <th>random_prediction</th>\n",
       "    </tr>\n",
       "  </thead>\n",
       "  <tbody>\n",
       "    <tr>\n",
       "      <th>1</th>\n",
       "      <td>151603712</td>\n",
       "      <td>273.0</td>\n",
       "      <td>1.412256</td>\n",
       "      <td>The Elder Scrolls V Skyrim</td>\n",
       "      <td>0</td>\n",
       "      <td>3.274247</td>\n",
       "    </tr>\n",
       "    <tr>\n",
       "      <th>3</th>\n",
       "      <td>151603712</td>\n",
       "      <td>87.0</td>\n",
       "      <td>1.414122</td>\n",
       "      <td>Fallout 4</td>\n",
       "      <td>1</td>\n",
       "      <td>1.967614</td>\n",
       "    </tr>\n",
       "  </tbody>\n",
       "</table>\n",
       "</div>"
      ],
      "text/plain": [
       "         uid  playtime  playtime_min_max                   game_name  \\\n",
       "1  151603712     273.0          1.412256  The Elder Scrolls V Skyrim   \n",
       "3  151603712      87.0          1.414122                   Fallout 4   \n",
       "\n",
       "   game_uid  random_prediction  \n",
       "1         0           3.274247  \n",
       "3         1           1.967614  "
      ]
     },
     "execution_count": 4,
     "metadata": {},
     "output_type": "execute_result"
    }
   ],
   "source": [
    "min_score = steam_df['playtime_min_max'].min()\n",
    "max_score = steam_df['playtime_min_max'].max()\n",
    "def get_random_scores(n, max_score):\n",
    "    return np.random.random_sample(n, ) * max_score\n",
    "\n",
    "steam_df_random_predictions = steam_df.copy()\n",
    "steam_df_random_predictions['random_prediction'] = get_random_scores(steam_df_random_predictions.shape[0], max_score)\n",
    "steam_df_random_predictions.head(2)"
   ]
  },
  {
   "cell_type": "markdown",
   "metadata": {},
   "source": [
    "## Recommender-Specific Split"
   ]
  },
  {
   "cell_type": "code",
   "execution_count": 25,
   "metadata": {},
   "outputs": [
    {
     "data": {
      "text/plain": [
       "(46520, 11269)"
      ]
     },
     "execution_count": 25,
     "metadata": {},
     "output_type": "execute_result"
    }
   ],
   "source": [
    "pandas_train_test = Split.PandasTrainTest(steam_df_random_predictions, seed=1)\n",
    "custom_train_df, custom_test_df = pandas_train_test.train_test_split(\n",
    "    user_split_train=.7,\n",
    "    game_split_train=.3\n",
    ")\n",
    "(custom_train_df.shape[0], custom_test_df.shape[0])"
   ]
  },
  {
   "cell_type": "code",
   "execution_count": null,
   "metadata": {
    "collapsed": true
   },
   "outputs": [],
   "source": [
    "custom_train_spark_df = spark_session.createDataFrame(custom_train_df)\n",
    "custom_test_spark_df = spark_session.createDataFrame(custom_test_df)\n",
    "custom_train_spark_df.count()"
   ]
  },
  {
   "cell_type": "markdown",
   "metadata": {},
   "source": [
    "### RMSE"
   ]
  },
  {
   "cell_type": "code",
   "execution_count": 59,
   "metadata": {},
   "outputs": [
    {
     "data": {
      "text/plain": [
       "0.7494777490045165"
      ]
     },
     "execution_count": 59,
     "metadata": {},
     "output_type": "execute_result"
    }
   ],
   "source": [
    "als_model = ALS(\n",
    "    itemCol='game_uid',\n",
    "    userCol='uid',\n",
    "    ratingCol='playtime_min_max',\n",
    "    nonnegative=True,    \n",
    "    regParam=0.1,\n",
    "    coldStartStrategy=\"drop\", # Drops if user or item in test was not in train\n",
    "    rank=10) \n",
    "\n",
    "fitted_als_model = als_model.fit(custom_train_spark_df)\n",
    "\n",
    "predictions = fitted_als_model.transform(custom_test_spark_df)\n",
    "evaluator = RegressionEvaluator() \\\n",
    "    .setMetricName(\"rmse\") \\\n",
    "    .setLabelCol(\"playtime_min_max\") \\\n",
    "    .setPredictionCol(\"prediction\")\n",
    "rmse = evaluator.evaluate(predictions)\n",
    "rmse\n",
    "# compare to 0.7685464618302161 for 80/20 split\n",
    "# graph with 80/20, 70/30, custom"
   ]
  },
  {
   "cell_type": "code",
   "execution_count": 49,
   "metadata": {
    "collapsed": true
   },
   "outputs": [],
   "source": [
    "# Random RMSE\n",
    "# Would need multiple random models to be confident since it will be... random\n",
    "# or do we?  it has many rows of random data\n",
    "\n",
    "prediction_count = predictions.count() # less than test item count (NaNs)\n",
    "predictions_rdd = predictions.rdd\n",
    "random_SSE = predictions_rdd.map(lambda r: (r['playtime_min_max'] - r['random_prediction'])**2) \\\n",
    "    .reduce(lambda total, x: total + x)\n",
    "random_rmse = math.sqrt(random_SSE / prediction_count)"
   ]
  },
  {
   "cell_type": "code",
   "execution_count": 50,
   "metadata": {},
   "outputs": [
    {
     "name": "stdout",
     "output_type": "stream",
     "text": [
      "Random RMSE:  1.581882058073222\n",
      "% Increase in Random Model RMSError:  111.06457932531492\n"
     ]
    }
   ],
   "source": [
    "print('Random RMSE: ', random_rmse)\n",
    "print('% Increase in Random Model RMSError: ', ((random_rmse / rmse) - 1) * 100)\n",
    "# base 80/20 split is 104.35477288510509"
   ]
  },
  {
   "cell_type": "code",
   "execution_count": 93,
   "metadata": {
    "collapsed": true
   },
   "outputs": [],
   "source": [
    "def sort_predictions_slice(arr, n):\n",
    "    actual_and_pred = np.array(arr)\n",
    "    # sort by predictions\n",
    "    indeces = np.argsort(actual_and_pred[:, 1])\n",
    "    return actual_and_pred[indeces[::-1]][:n].tolist()\n",
    "\n",
    "def dcg_at_k(scores, k):\n",
    "    \"\"\"\n",
    "    Discounted cumulative gain\n",
    "    See http://fastml.com/evaluating-recommender-systems/\n",
    "    Args:\n",
    "        r: List - Relevance scores in rank order\n",
    "        k: Number of results to consider\n",
    "    Returns:\n",
    "        Float\n",
    "    \"\"\"\n",
    "    r = np.asfarray(scores)[:k]\n",
    "    if r.size:\n",
    "        # item 1 and 2 have same weights\n",
    "#         return r[0] + np.sum(r[1:] / np.log2(np.arange(2, r.size + 1)))\n",
    "        # use below for more emphasis on first rank\n",
    "        return np.sum(r / np.log2(np.arange(2, r.size + 2)))\n",
    "    return 0.\n",
    "\n",
    "def ndcg_at_k(scores, k):\n",
    "    \"\"\"\n",
    "    Normalized Discounted cumulative gain\n",
    "    See http://fastml.com/evaluating-recommender-systems/\n",
    "    Args:\n",
    "        r: List - Relevance scores in rank order\n",
    "        k: Number of results to consider\n",
    "    Returns:\n",
    "        Float from 0 to 1\n",
    "    \"\"\"\n",
    "    dcg_max = dcg_at_k(sorted(scores, reverse=True), k)\n",
    "    if not dcg_max:\n",
    "        return 0.\n",
    "    return dcg_at_k(scores, k) / dcg_max"
   ]
  },
  {
   "cell_type": "markdown",
   "metadata": {},
   "source": [
    "## NDCG"
   ]
  },
  {
   "cell_type": "code",
   "execution_count": 52,
   "metadata": {},
   "outputs": [
    {
     "data": {
      "text/plain": [
       "384.57723404575029"
      ]
     },
     "execution_count": 52,
     "metadata": {},
     "output_type": "execute_result"
    }
   ],
   "source": [
    "# use actual values for gain\n",
    "sampled = predictions_rdd.sample(False, 1, 1)\n",
    "ndcg = sampled.map(lambda row: (row['uid'], [(row['playtime_min_max'], row['prediction'])])) \\\n",
    "    .reduceByKey(lambda total, val: total + val) \\\n",
    "    .map(lambda kv: (kv[0], sort_predictions_slice(kv[1], 1000))) \\\n",
    "    .map(lambda kv: ndcg_at_k(np.array(kv[1])[:, 0], 3)) \\\n",
    "    .reduce(lambda total, gain: total + gain) \n",
    "average_ndcg = ndcg / prediction_count\n",
    "ndcg\n",
    "\n",
    "# Calling other files with Spark may not be worth it \n",
    "\n",
    "# ndcg, average_ndcg = ModelEvaluation.spark_ndcg_at_k(predictions_rdd, 3)\n",
    "# ndcg"
   ]
  },
  {
   "cell_type": "code",
   "execution_count": 53,
   "metadata": {},
   "outputs": [
    {
     "data": {
      "text/plain": [
       "284.63854600419319"
      ]
     },
     "execution_count": 53,
     "metadata": {},
     "output_type": "execute_result"
    }
   ],
   "source": [
    "# use actual values for gain\n",
    "# evaluating more than half of the games doesnt seem to be useful - ends up rating everything\n",
    "# need a cutoff for ndcg\n",
    "sampled = predictions_rdd.sample(False, 1, 1)\n",
    "random_ndcg = sampled.map(lambda row: (row['uid'], [(row['playtime_min_max'], row['random_prediction'])])) \\\n",
    "    .reduceByKey(lambda total, val: total + val) \\\n",
    "    .map(lambda kv: (kv[0], sort_predictions_slice(kv[1], 1000))) \\\n",
    "    .map(lambda kv: ndcg_at_k(np.array(kv[1])[:, 0], 3)) \\\n",
    "    .reduce(lambda total, gain: total + gain) \n",
    "average_random_dcg = random_ndcg / prediction_count\n",
    "random_ndcg"
   ]
  },
  {
   "cell_type": "code",
   "execution_count": 54,
   "metadata": {},
   "outputs": [
    {
     "name": "stdout",
     "output_type": "stream",
     "text": [
      "Increase in average cumulative gain:  35.1107358594\n"
     ]
    }
   ],
   "source": [
    "# 7.4% with 80/20 split\n",
    "# 20% with 50/50 split\n",
    "# 7.4763370166 with .8 and .75 \n",
    "# 11.2840101805 with .9 and .5\n",
    "# 35.9 with .7 and .3 (method 2)\n",
    "# increase compared to random seems to be completely based on games split\n",
    "print('Increase in average normalized cumulative gain: ', (ndcg / random_ndcg - 1) * 100)"
   ]
  },
  {
   "cell_type": "code",
   "execution_count": 55,
   "metadata": {},
   "outputs": [
    {
     "data": {
      "text/plain": [
       "0.034768758163434617"
      ]
     },
     "execution_count": 55,
     "metadata": {},
     "output_type": "execute_result"
    }
   ],
   "source": [
    "# 0.056835339579378932 with 50/50\n",
    "# 0.14969597434654067 with 80/20\n",
    "# 0.064924338587312933 with .8 and .5\n",
    "# increase in ndcg is always related to the games split as well.  \n",
    "# Holding out 75% of games increases random and model ndcg because there is less to get wrong\n",
    "# In both cases it is more likely to be the same as ideal\n",
    "average_ndcg"
   ]
  },
  {
   "cell_type": "code",
   "execution_count": 56,
   "metadata": {},
   "outputs": [
    {
     "data": {
      "text/plain": [
       "0.025733527348720114"
      ]
     },
     "execution_count": 56,
     "metadata": {},
     "output_type": "execute_result"
    }
   ],
   "source": [
    "average_random_dcg"
   ]
  },
  {
   "cell_type": "code",
   "execution_count": 57,
   "metadata": {},
   "outputs": [
    {
     "data": {
      "text/plain": [
       "11061"
      ]
     },
     "execution_count": 57,
     "metadata": {},
     "output_type": "execute_result"
    }
   ],
   "source": [
    "predictions_rdd.count()"
   ]
  },
  {
   "cell_type": "code",
   "execution_count": null,
   "metadata": {
    "collapsed": true
   },
   "outputs": [],
   "source": []
  },
  {
   "cell_type": "markdown",
   "metadata": {
    "collapsed": true
   },
   "source": [
    "# K Folds"
   ]
  },
  {
   "cell_type": "code",
   "execution_count": 130,
   "metadata": {},
   "outputs": [
    {
     "name": "stdout",
     "output_type": "stream",
     "text": [
      "Number of users:  2436\n",
      "train test split size 0:  (49573, 8170)\n",
      "train test split size 1:  (49130, 8613)\n",
      "train test split size 2:  (49552, 8191)\n",
      "train test split size 3:  (49453, 8290)\n",
      "train test split size 4:  (50201, 7542)\n"
     ]
    }
   ],
   "source": [
    "pandas_train_test = Split.PandasTrainTest(steam_df_random_predictions, seed=1)\n",
    "k_fold_dfs = pandas_train_test.get_k_folds(5, game_split_train=.3)\n",
    "for i, d in enumerate(k_fold_dfs):\n",
    "    printed = 'train test split size ' + str(i) + ': '\n",
    "    print(printed, (d[0].shape[0], d[1].shape[0]))"
   ]
  },
  {
   "cell_type": "code",
   "execution_count": 131,
   "metadata": {
    "collapsed": true
   },
   "outputs": [],
   "source": [
    "sparkified_k_fold_dfs = [(spark_session.createDataFrame(a), spark_session.createDataFrame(b)) for a, b in k_fold_dfs]"
   ]
  },
  {
   "cell_type": "code",
   "execution_count": 132,
   "metadata": {
    "collapsed": true
   },
   "outputs": [],
   "source": [
    "als_model = ALS(\n",
    "    itemCol='game_uid',\n",
    "    userCol='uid',\n",
    "    ratingCol='playtime_min_max',\n",
    "    nonnegative=True,    \n",
    "    regParam=0.1,\n",
    "    coldStartStrategy=\"drop\", # Drops if user or item in test was not in train\n",
    "    rank=10) "
   ]
  },
  {
   "cell_type": "code",
   "execution_count": 133,
   "metadata": {},
   "outputs": [
    {
     "name": "stdout",
     "output_type": "stream",
     "text": [
      "0.7598384142749224\n",
      "0.7994124502969006\n",
      "0.7217479391715643\n",
      "0.7309140997686916\n",
      "0.7614382143765143\n",
      "mean rmse:  0.7546702235777187\n"
     ]
    }
   ],
   "source": [
    "rmses = []\n",
    "for train, test in sparkified_k_fold_dfs:\n",
    "    fitted_als_model = als_model.fit(train)\n",
    "    predictions = fitted_als_model.transform(test)\n",
    "    evaluator = RegressionEvaluator() \\\n",
    "        .setMetricName(\"rmse\") \\\n",
    "        .setLabelCol(\"playtime_min_max\") \\\n",
    "        .setPredictionCol(\"prediction\")\n",
    "    rmse = evaluator.evaluate(predictions)\n",
    "    print(rmse)\n",
    "    rmses.append(rmse)\n",
    "print('mean rmse: ', sum(rmses) / len(rmses))"
   ]
  },
  {
   "cell_type": "code",
   "execution_count": 150,
   "metadata": {
    "collapsed": true
   },
   "outputs": [],
   "source": [
    "def get_rdd_average_ndcg(rdd, top_n=3, label_col='playtime_min_max', prediction_col='prediction', id_col='uid'):\n",
    "    count = rdd.count()\n",
    "    ndcg = sampled.map(lambda row: (row[id_col], [(row[label_col], row[prediction_col])])) \\\n",
    "        .reduceByKey(lambda total, val: total + val) \\\n",
    "        .map(lambda kv: (kv[0], sort_predictions_slice(kv[1], 1000))) \\\n",
    "        .map(lambda kv: ndcg_at_k(np.array(kv[1])[:, 0], top_n)) \\\n",
    "        .reduce(lambda total, gain: total + gain)\n",
    "    average_ndcg = ndcg / count\n",
    "    return average_ndcg"
   ]
  },
  {
   "cell_type": "code",
   "execution_count": 155,
   "metadata": {},
   "outputs": [
    {
     "name": "stdout",
     "output_type": "stream",
     "text": [
      "0.0321947145581\n",
      "0.030551569029\n",
      "0.0311043463975\n",
      "0.031237701536\n",
      "0.0341942590432\n"
     ]
    },
    {
     "data": {
      "text/plain": [
       "0.031856518112747832"
      ]
     },
     "execution_count": 155,
     "metadata": {},
     "output_type": "execute_result"
    }
   ],
   "source": [
    "prediction_ndcgs = []\n",
    "for train, test in sparkified_k_fold_dfs:\n",
    "    fitted_als_model = als_model.fit(train)\n",
    "    predictions_rdd = fitted_als_model.transform(test).rdd\n",
    "    sampled = predictions_rdd.sample(False, 1, 1)\n",
    "    average_ndcg = get_rdd_average_ndcg(sampled, prediction_col='prediction')\n",
    "    print(average_ndcg)\n",
    "    prediction_ndcgs.append(average_ndcg)\n",
    "mean_prediction_ndcg = sum(prediction_ndcgs) / len(prediction_ndcgs)\n",
    "mean_prediction_ndcg"
   ]
  },
  {
   "cell_type": "code",
   "execution_count": 156,
   "metadata": {},
   "outputs": [
    {
     "name": "stdout",
     "output_type": "stream",
     "text": [
      "0.0236656948581\n",
      "0.0219363300881\n",
      "0.0222226638968\n",
      "0.0238626922271\n",
      "0.0256958719646\n"
     ]
    },
    {
     "data": {
      "text/plain": [
       "0.023476650606948018"
      ]
     },
     "execution_count": 156,
     "metadata": {},
     "output_type": "execute_result"
    }
   ],
   "source": [
    "random_ndcgs = []\n",
    "for train, test in sparkified_k_fold_dfs:\n",
    "    fitted_als_model = als_model.fit(train)\n",
    "    predictions_rdd = fitted_als_model.transform(test).rdd\n",
    "    sampled = predictions_rdd.sample(False, 1, 1)\n",
    "    average_ndcg = get_rdd_average_ndcg(sampled, prediction_col='random_prediction')\n",
    "    print(average_ndcg)\n",
    "    random_ndcgs.append(average_ndcg)\n",
    "mean_random_ndcg = sum(random_ndcgs) / len(random_ndcgs)\n",
    "mean_random_ndcg"
   ]
  },
  {
   "cell_type": "code",
   "execution_count": 157,
   "metadata": {},
   "outputs": [
    {
     "name": "stdout",
     "output_type": "stream",
     "text": [
      "Increase:  35.6944763804\n"
     ]
    }
   ],
   "source": [
    "print('Increase: ', (mean_prediction_ndcg / mean_random_ndcg - 1) * 100)"
   ]
  },
  {
   "cell_type": "code",
   "execution_count": null,
   "metadata": {
    "collapsed": true
   },
   "outputs": [],
   "source": []
  }
 ],
 "metadata": {
  "kernelspec": {
   "display_name": "Python 3",
   "language": "python",
   "name": "python3"
  },
  "language_info": {
   "codemirror_mode": {
    "name": "ipython",
    "version": 3
   },
   "file_extension": ".py",
   "mimetype": "text/x-python",
   "name": "python",
   "nbconvert_exporter": "python",
   "pygments_lexer": "ipython3",
   "version": "3.6.3"
  }
 },
 "nbformat": 4,
 "nbformat_minor": 2
}
