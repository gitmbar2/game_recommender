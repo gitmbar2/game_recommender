{
 "cells": [
  {
   "cell_type": "markdown",
   "metadata": {},
   "source": [
    "# Initial Model\n",
    "\n",
    "### from playtime_distribution, we found 2-5, 6-25, 26+ as good initial cutoffs"
   ]
  },
  {
   "cell_type": "code",
   "execution_count": 100,
   "metadata": {},
   "outputs": [
    {
     "name": "stdout",
     "output_type": "stream",
     "text": [
      "The autoreload extension is already loaded. To reload it, use:\n",
      "  %reload_ext autoreload\n"
     ]
    }
   ],
   "source": [
    "import pandas as pd\n",
    "import matplotlib.pyplot as plt\n",
    "%matplotlib inline\n",
    "\n",
    "# needs python 2\n",
    "# import graphlab as gl\n",
    "# gl.canvas.set_target('ipynb')\n",
    "\n",
    "import pyspark\n",
    "from pyspark.sql import SparkSession\n",
    "from pyspark.ml.recommendation import ALS\n",
    "from pyspark.ml.evaluation import RegressionEvaluator\n",
    "\n",
    "import os, sys\n",
    "sys.path.append(os.path.dirname(os.path.dirname(os.path.abspath('__file__'))))\n",
    "from src import EDA\n",
    "%load_ext autoreload\n",
    "%autoreload 2"
   ]
  },
  {
   "cell_type": "code",
   "execution_count": 5,
   "metadata": {
    "collapsed": true
   },
   "outputs": [],
   "source": [
    "# TODO Maybe show playtime distribution picture here"
   ]
  },
  {
   "cell_type": "code",
   "execution_count": 95,
   "metadata": {},
   "outputs": [
    {
     "data": {
      "text/html": [
       "<div>\n",
       "<style>\n",
       "    .dataframe thead tr:only-child th {\n",
       "        text-align: right;\n",
       "    }\n",
       "\n",
       "    .dataframe thead th {\n",
       "        text-align: left;\n",
       "    }\n",
       "\n",
       "    .dataframe tbody tr th {\n",
       "        vertical-align: top;\n",
       "    }\n",
       "</style>\n",
       "<table border=\"1\" class=\"dataframe\">\n",
       "  <thead>\n",
       "    <tr style=\"text-align: right;\">\n",
       "      <th></th>\n",
       "      <th>uid</th>\n",
       "      <th>game_name</th>\n",
       "      <th>purchase_action</th>\n",
       "      <th>playtime</th>\n",
       "    </tr>\n",
       "  </thead>\n",
       "  <tbody>\n",
       "    <tr>\n",
       "      <th>1</th>\n",
       "      <td>151603712</td>\n",
       "      <td>The Elder Scrolls V Skyrim</td>\n",
       "      <td>play</td>\n",
       "      <td>273.0</td>\n",
       "    </tr>\n",
       "    <tr>\n",
       "      <th>3</th>\n",
       "      <td>151603712</td>\n",
       "      <td>Fallout 4</td>\n",
       "      <td>play</td>\n",
       "      <td>87.0</td>\n",
       "    </tr>\n",
       "  </tbody>\n",
       "</table>\n",
       "</div>"
      ],
      "text/plain": [
       "         uid                   game_name purchase_action  playtime\n",
       "1  151603712  The Elder Scrolls V Skyrim            play     273.0\n",
       "3  151603712                   Fallout 4            play      87.0"
      ]
     },
     "execution_count": 95,
     "metadata": {},
     "output_type": "execute_result"
    }
   ],
   "source": [
    "steam_200k_df = EDA.load_200k()\n",
    "steam_200k_df = steam_200k_df[steam_200k_df['purchase_action'] == 'play']\n",
    "steam_200k_df.head(2)"
   ]
  },
  {
   "cell_type": "code",
   "execution_count": 96,
   "metadata": {},
   "outputs": [],
   "source": [
    "def rank_playtime(time):\n",
    "    if time <= 1:\n",
    "        return 0\n",
    "    if time > 1 and time <= 5:\n",
    "        return 1\n",
    "    if time > 6 and time <= 25:\n",
    "        return 2\n",
    "    return 3\n",
    "steam_200k_df[\"playtime_rank\"] = steam_200k_df['playtime'].map(lambda value: rank_playtime(value))"
   ]
  },
  {
   "cell_type": "code",
   "execution_count": 97,
   "metadata": {},
   "outputs": [
    {
     "data": {
      "text/plain": [
       "1    18918\n",
       "0    17850\n",
       "3    16961\n",
       "2    16760\n",
       "Name: playtime_rank, dtype: int64"
      ]
     },
     "execution_count": 97,
     "metadata": {},
     "output_type": "execute_result"
    }
   ],
   "source": [
    "steam_200k_df['playtime_rank'].value_counts()"
   ]
  },
  {
   "cell_type": "code",
   "execution_count": 83,
   "metadata": {},
   "outputs": [
    {
     "data": {
      "text/plain": [
       "True"
      ]
     },
     "execution_count": 83,
     "metadata": {},
     "output_type": "execute_result"
    }
   ],
   "source": [
    "# fitting ALS must have numbers for itemCol and userCol\n",
    "game_uid = 0\n",
    "game_uid_map = {}\n",
    "for item in steam_200k_df['game_name']:\n",
    "    if item in game_uid_map:\n",
    "        continue\n",
    "    game_uid_map[item] = game_uid\n",
    "    game_uid += 1\n",
    "steam_200k_df['game_name'].value_counts().size == len(game_uid_map.values())"
   ]
  },
  {
   "cell_type": "code",
   "execution_count": 84,
   "metadata": {},
   "outputs": [
    {
     "data": {
      "text/plain": [
       "True"
      ]
     },
     "execution_count": 84,
     "metadata": {},
     "output_type": "execute_result"
    }
   ],
   "source": [
    "steam_200k_df['game_uid'] = steam_200k_df['game_name'].map(lambda name: game_uid_map[name])\n",
    "steam_200k_df['game_uid'].value_counts().size == steam_200k_df['game_name'].value_counts().size"
   ]
  },
  {
   "cell_type": "code",
   "execution_count": 85,
   "metadata": {},
   "outputs": [
    {
     "name": "stdout",
     "output_type": "stream",
     "text": [
      "Number of users:  11350\n",
      "Number of games:  3600\n"
     ]
    }
   ],
   "source": [
    "# Should we use user-user or item-item?\n",
    "print('Number of users: ', steam_200k_df['uid'].value_counts().size)\n",
    "print('Number of games: ', steam_200k_df['game_name'].value_counts().size)\n",
    "# Use the games since there are less games than users (good for steam!)"
   ]
  },
  {
   "cell_type": "code",
   "execution_count": 86,
   "metadata": {},
   "outputs": [
    {
     "data": {
      "text/plain": [
       "70489"
      ]
     },
     "execution_count": 86,
     "metadata": {},
     "output_type": "execute_result"
    }
   ],
   "source": [
    "# Setup a SparkSession\n",
    "spark = SparkSession.builder.getOrCreate()\n",
    "# Convert a Pandas DF to a Spark DF\n",
    "spark_df = spark.createDataFrame(steam_200k_df)\n",
    "spark_df.count()"
   ]
  },
  {
   "cell_type": "code",
   "execution_count": 87,
   "metadata": {},
   "outputs": [],
   "source": [
    "train, test = spark_df.randomSplit([0.8, 0.2], seed=427471138)"
   ]
  },
  {
   "cell_type": "code",
   "execution_count": 131,
   "metadata": {},
   "outputs": [],
   "source": [
    "als_model = ALS(\n",
    "    itemCol='game_uid',\n",
    "    userCol='uid',\n",
    "    ratingCol='playtime_rank',\n",
    "    nonnegative=True,    \n",
    "    regParam=0.1,\n",
    "    coldStartStrategy=\"drop\", # TODO\n",
    "    rank=10) "
   ]
  },
  {
   "cell_type": "code",
   "execution_count": 132,
   "metadata": {},
   "outputs": [],
   "source": [
    "fitted_als_model = als_model.fit(train)"
   ]
  },
  {
   "cell_type": "code",
   "execution_count": 133,
   "metadata": {
    "collapsed": true
   },
   "outputs": [],
   "source": [
    "one_row_pandas_df = pd.DataFrame({'uid': [151603712], 'game_uid': [1]})\n",
    "one_row_spark_df = spark.createDataFrame(one_row_pandas_df)"
   ]
  },
  {
   "cell_type": "code",
   "execution_count": 134,
   "metadata": {},
   "outputs": [
    {
     "name": "stdout",
     "output_type": "stream",
     "text": [
      "+--------+---------+----------+\n",
      "|game_uid|      uid|prediction|\n",
      "+--------+---------+----------+\n",
      "|       1|151603712| 1.6639204|\n",
      "+--------+---------+----------+\n",
      "\n"
     ]
    }
   ],
   "source": [
    "fitted_als_model.transform(one_row_spark_df).show()"
   ]
  },
  {
   "cell_type": "code",
   "execution_count": 135,
   "metadata": {},
   "outputs": [],
   "source": [
    "# fitted_als_model.setColdStartStrategy(\"drop\")\n",
    "predictions = fitted_als_model.transform(test)\n",
    "# preds = predictions.collect()\n",
    "# predictions.take(1)\n",
    "evaluator = RegressionEvaluator() \\\n",
    "    .setMetricName(\"rmse\") \\\n",
    "    .setLabelCol(\"playtime_rank\") \\\n",
    "    .setPredictionCol(\"prediction\")\n",
    "rmse = evaluator.evaluate(predictions)"
   ]
  },
  {
   "cell_type": "code",
   "execution_count": 136,
   "metadata": {},
   "outputs": [
    {
     "data": {
      "text/plain": [
       "1.0460225606688012"
      ]
     },
     "execution_count": 136,
     "metadata": {},
     "output_type": "execute_result"
    }
   ],
   "source": [
    "rmse"
   ]
  },
  {
   "cell_type": "code",
   "execution_count": 137,
   "metadata": {},
   "outputs": [],
   "source": [
    "preds = predictions.collect()"
   ]
  },
  {
   "cell_type": "code",
   "execution_count": 140,
   "metadata": {},
   "outputs": [
    {
     "data": {
      "text/plain": [
       "[Row(uid=116876958, game_name='No Time To Explain Remastered', purchase_action='play', playtime=3.4, playtime_rank=1, game_uid=148, prediction=0.8219438791275024),\n",
       " Row(uid=11373749, game_name='Shadow Puppeteer', purchase_action='play', playtime=0.6, playtime_rank=0, game_uid=463, prediction=0.0),\n",
       " Row(uid=45617627, game_name='Tomb Raider I', purchase_action='play', playtime=0.2, playtime_rank=0, game_uid=471, prediction=0.8916951417922974),\n",
       " Row(uid=101687527, game_name='Tomb Raider I', purchase_action='play', playtime=0.7, playtime_rank=0, game_uid=471, prediction=0.9380249977111816),\n",
       " Row(uid=44472980, game_name='Mortal Kombat Komplete Edition', purchase_action='play', playtime=505.0, playtime_rank=3, game_uid=496, prediction=1.6772217750549316),\n",
       " Row(uid=87740709, game_name='Mortal Kombat Komplete Edition', purchase_action='play', playtime=9.2, playtime_rank=2, game_uid=496, prediction=1.8232853412628174),\n",
       " Row(uid=24469287, game_name='Mortal Kombat Komplete Edition', purchase_action='play', playtime=2.2, playtime_rank=1, game_uid=496, prediction=1.6863185167312622),\n",
       " Row(uid=87734805, game_name='Mortal Kombat Komplete Edition', purchase_action='play', playtime=4.4, playtime_rank=1, game_uid=496, prediction=0.6669661402702332),\n",
       " Row(uid=118852041, game_name='Mortal Kombat Komplete Edition', purchase_action='play', playtime=3.0, playtime_rank=1, game_uid=496, prediction=1.4115092754364014),\n",
       " Row(uid=133024750, game_name='Mortal Kombat Komplete Edition', purchase_action='play', playtime=4.7, playtime_rank=1, game_uid=496, prediction=1.5789693593978882),\n",
       " Row(uid=96400571, game_name='The Lord of the Rings Online', purchase_action='play', playtime=0.8, playtime_rank=0, game_uid=833, prediction=1.4638911485671997),\n",
       " Row(uid=188988198, game_name='The Lord of the Rings Online', purchase_action='play', playtime=1.2, playtime_rank=1, game_uid=833, prediction=1.3152238130569458),\n",
       " Row(uid=283922576, game_name='The Lord of the Rings Online', purchase_action='play', playtime=0.1, playtime_rank=0, game_uid=833, prediction=0.6176493167877197),\n",
       " Row(uid=80511960, game_name='The Lord of the Rings Online', purchase_action='play', playtime=0.6, playtime_rank=0, game_uid=833, prediction=2.0901706218719482),\n",
       " Row(uid=166927601, game_name='The Lord of the Rings Online', purchase_action='play', playtime=0.8, playtime_rank=0, game_uid=833, prediction=2.183734178543091),\n",
       " Row(uid=94521606, game_name='RPG Maker VX Ace', purchase_action='play', playtime=2.4, playtime_rank=1, game_uid=1238, prediction=1.6554771661758423),\n",
       " Row(uid=150789931, game_name='RPG Maker VX Ace', purchase_action='play', playtime=8.8, playtime_rank=2, game_uid=1238, prediction=2.4781975746154785),\n",
       " Row(uid=62990992, game_name='RPG Maker VX Ace', purchase_action='play', playtime=0.9, playtime_rank=0, game_uid=1238, prediction=1.969303846359253),\n",
       " Row(uid=119239620, game_name='RPG Maker VX Ace', purchase_action='play', playtime=3.4, playtime_rank=1, game_uid=1238, prediction=1.859561800956726),\n",
       " Row(uid=42657809, game_name='RPG Maker VX Ace', purchase_action='play', playtime=6.4, playtime_rank=2, game_uid=1238, prediction=1.0977649688720703),\n",
       " Row(uid=51085779, game_name='Super Crate Box', purchase_action='play', playtime=2.7, playtime_rank=1, game_uid=1342, prediction=1.2505638599395752),\n",
       " Row(uid=217779981, game_name='Super Crate Box', purchase_action='play', playtime=2.9, playtime_rank=1, game_uid=1342, prediction=0.060923799872398376),\n",
       " Row(uid=149424772, game_name='Super Crate Box', purchase_action='play', playtime=5.8, playtime_rank=3, game_uid=1342, prediction=0.5974594354629517),\n",
       " Row(uid=31187179, game_name='Super Crate Box', purchase_action='play', playtime=1.3, playtime_rank=1, game_uid=1342, prediction=0.6576124429702759),\n",
       " Row(uid=39361297, game_name='Super Crate Box', purchase_action='play', playtime=0.6, playtime_rank=0, game_uid=1342, prediction=0.2745586335659027),\n",
       " Row(uid=86481908, game_name='Super Crate Box', purchase_action='play', playtime=1.3, playtime_rank=1, game_uid=1342, prediction=0.6196438670158386),\n",
       " Row(uid=53091150, game_name=\"Q.U.B.E Director's Cut\", purchase_action='play', playtime=0.3, playtime_rank=0, game_uid=1591, prediction=0.8230156302452087),\n",
       " Row(uid=174674290, game_name=\"Q.U.B.E Director's Cut\", purchase_action='play', playtime=12.3, playtime_rank=2, game_uid=1591, prediction=0.6395334601402283),\n",
       " Row(uid=22301321, game_name=\"Brothers in Arms Hell's Highway\", purchase_action='play', playtime=0.4, playtime_rank=0, game_uid=1959, prediction=1.0704718828201294),\n",
       " Row(uid=10253354, game_name=\"Brothers in Arms Hell's Highway\", purchase_action='play', playtime=0.9, playtime_rank=0, game_uid=1959, prediction=1.8419599533081055),\n",
       " Row(uid=75463760, game_name='Automation - The Car Company Tycoon Game', purchase_action='play', playtime=5.5, playtime_rank=3, game_uid=2142, prediction=1.0500388145446777),\n",
       " Row(uid=2753525, game_name='Rust', purchase_action='play', playtime=18.2, playtime_rank=2, game_uid=243, prediction=2.054140567779541),\n",
       " Row(uid=45974860, game_name='Rust', purchase_action='play', playtime=34.0, playtime_rank=3, game_uid=243, prediction=2.119843006134033),\n",
       " Row(uid=145320311, game_name='Rust', purchase_action='play', playtime=12.0, playtime_rank=2, game_uid=243, prediction=1.370721697807312),\n",
       " Row(uid=101725007, game_name='Rust', purchase_action='play', playtime=53.0, playtime_rank=3, game_uid=243, prediction=1.40575110912323),\n",
       " Row(uid=127628725, game_name='Rust', purchase_action='play', playtime=1.1, playtime_rank=1, game_uid=243, prediction=0.9069565534591675),\n",
       " Row(uid=26729643, game_name='Rust', purchase_action='play', playtime=186.0, playtime_rank=3, game_uid=243, prediction=2.766235113143921),\n",
       " Row(uid=47364777, game_name='Rust', purchase_action='play', playtime=8.9, playtime_rank=2, game_uid=243, prediction=0.5173893570899963),\n",
       " Row(uid=81170946, game_name='Rust', purchase_action='play', playtime=59.0, playtime_rank=3, game_uid=243, prediction=1.869437336921692),\n",
       " Row(uid=162288536, game_name='Rust', purchase_action='play', playtime=209.0, playtime_rank=3, game_uid=243, prediction=2.145388126373291),\n",
       " Row(uid=72613527, game_name='Rust', purchase_action='play', playtime=1.9, playtime_rank=1, game_uid=243, prediction=1.8849588632583618),\n",
       " Row(uid=86055705, game_name='Rust', purchase_action='play', playtime=34.0, playtime_rank=3, game_uid=243, prediction=2.1606760025024414),\n",
       " Row(uid=131973876, game_name='Rust', purchase_action='play', playtime=52.0, playtime_rank=3, game_uid=243, prediction=2.1138036251068115),\n",
       " Row(uid=93189271, game_name='Rust', purchase_action='play', playtime=3.2, playtime_rank=1, game_uid=243, prediction=1.7024435997009277),\n",
       " Row(uid=39037163, game_name='Rust', purchase_action='play', playtime=14.5, playtime_rank=2, game_uid=243, prediction=2.4239087104797363),\n",
       " Row(uid=122798021, game_name='Rust', purchase_action='play', playtime=82.0, playtime_rank=3, game_uid=243, prediction=1.675432562828064),\n",
       " Row(uid=144071257, game_name='Rust', purchase_action='play', playtime=5.7, playtime_rank=3, game_uid=243, prediction=2.3159890174865723),\n",
       " Row(uid=48525807, game_name='Rust', purchase_action='play', playtime=38.0, playtime_rank=3, game_uid=243, prediction=2.3137576580047607),\n",
       " Row(uid=33622085, game_name='Rust', purchase_action='play', playtime=3.2, playtime_rank=1, game_uid=243, prediction=2.342998743057251),\n",
       " Row(uid=99264709, game_name='Rust', purchase_action='play', playtime=14.7, playtime_rank=2, game_uid=243, prediction=1.7280118465423584),\n",
       " Row(uid=169653526, game_name='Rust', purchase_action='play', playtime=8.1, playtime_rank=2, game_uid=243, prediction=2.0319690704345703),\n",
       " Row(uid=30440303, game_name='Rust', purchase_action='play', playtime=49.0, playtime_rank=3, game_uid=243, prediction=1.916426658630371),\n",
       " Row(uid=189813843, game_name='Rust', purchase_action='play', playtime=238.0, playtime_rank=3, game_uid=243, prediction=2.4134998321533203),\n",
       " Row(uid=162421622, game_name='Rust', purchase_action='play', playtime=102.0, playtime_rank=3, game_uid=243, prediction=2.1393673419952393),\n",
       " Row(uid=80650761, game_name='Rust', purchase_action='play', playtime=0.5, playtime_rank=0, game_uid=243, prediction=0.48672518134117126),\n",
       " Row(uid=150135487, game_name='Rust', purchase_action='play', playtime=6.6, playtime_rank=2, game_uid=243, prediction=1.901079535484314),\n",
       " Row(uid=122679931, game_name='Rust', purchase_action='play', playtime=29.0, playtime_rank=3, game_uid=243, prediction=2.0885772705078125),\n",
       " Row(uid=168031436, game_name='Rust', purchase_action='play', playtime=0.4, playtime_rank=0, game_uid=243, prediction=1.4873735904693604),\n",
       " Row(uid=119239620, game_name='Rust', purchase_action='play', playtime=25.0, playtime_rank=2, game_uid=243, prediction=2.1894993782043457),\n",
       " Row(uid=38317154, game_name='Rust', purchase_action='play', playtime=4.7, playtime_rank=1, game_uid=243, prediction=2.205923080444336),\n",
       " Row(uid=174287424, game_name='Rust', purchase_action='play', playtime=1.6, playtime_rank=1, game_uid=243, prediction=2.353597402572632),\n",
       " Row(uid=168732483, game_name='Rust', purchase_action='play', playtime=76.0, playtime_rank=3, game_uid=243, prediction=1.7904983758926392),\n",
       " Row(uid=91729217, game_name='Rust', purchase_action='play', playtime=323.0, playtime_rank=3, game_uid=243, prediction=2.0883901119232178),\n",
       " Row(uid=99171164, game_name='Rust', purchase_action='play', playtime=87.0, playtime_rank=3, game_uid=243, prediction=2.444153308868408),\n",
       " Row(uid=165216496, game_name='Rust', purchase_action='play', playtime=8.6, playtime_rank=2, game_uid=243, prediction=1.6902549266815186),\n",
       " Row(uid=107818793, game_name='Rust', purchase_action='play', playtime=6.4, playtime_rank=2, game_uid=243, prediction=1.8900210857391357),\n",
       " Row(uid=11403772, game_name='Rust', purchase_action='play', playtime=30.0, playtime_rank=3, game_uid=243, prediction=1.5396966934204102),\n",
       " Row(uid=160883669, game_name='Rust', purchase_action='play', playtime=106.0, playtime_rank=3, game_uid=243, prediction=1.9376282691955566),\n",
       " Row(uid=133439936, game_name='Rust', purchase_action='play', playtime=18.7, playtime_rank=2, game_uid=243, prediction=0.6531976461410522),\n",
       " Row(uid=188509200, game_name='Rust', purchase_action='play', playtime=1.5, playtime_rank=1, game_uid=243, prediction=1.4691052436828613),\n",
       " Row(uid=131032344, game_name='Rust', purchase_action='play', playtime=38.0, playtime_rank=3, game_uid=243, prediction=2.000028610229492),\n",
       " Row(uid=190022459, game_name='Rust', purchase_action='play', playtime=4.0, playtime_rank=1, game_uid=243, prediction=1.2508831024169922),\n",
       " Row(uid=20200395, game_name='Lara Croft and the Guardian of Light', purchase_action='play', playtime=1.4, playtime_rank=1, game_uid=392, prediction=0.7641863822937012),\n",
       " Row(uid=53898495, game_name='Lara Croft and the Guardian of Light', purchase_action='play', playtime=6.9, playtime_rank=2, game_uid=392, prediction=1.4835604429244995),\n",
       " Row(uid=35701646, game_name='Lara Croft and the Guardian of Light', purchase_action='play', playtime=0.6, playtime_rank=0, game_uid=392, prediction=1.0307927131652832),\n",
       " Row(uid=64754418, game_name='Lara Croft and the Guardian of Light', purchase_action='play', playtime=0.2, playtime_rank=0, game_uid=392, prediction=1.1251249313354492),\n",
       " Row(uid=116564064, game_name='Lara Croft and the Guardian of Light', purchase_action='play', playtime=4.0, playtime_rank=1, game_uid=392, prediction=0.5511475801467896),\n",
       " Row(uid=63615483, game_name='Lara Croft and the Guardian of Light', purchase_action='play', playtime=1.1, playtime_rank=1, game_uid=392, prediction=1.5002012252807617),\n",
       " Row(uid=48798067, game_name='Lara Croft and the Guardian of Light', purchase_action='play', playtime=0.3, playtime_rank=0, game_uid=392, prediction=1.058205246925354),\n",
       " Row(uid=93413084, game_name='DC Universe Online', purchase_action='play', playtime=91.0, playtime_rank=3, game_uid=540, prediction=2.043692111968994),\n",
       " Row(uid=198893163, game_name='DC Universe Online', purchase_action='play', playtime=0.3, playtime_rank=0, game_uid=540, prediction=2.2917184829711914),\n",
       " Row(uid=100719181, game_name='DC Universe Online', purchase_action='play', playtime=15.7, playtime_rank=2, game_uid=540, prediction=1.7228270769119263),\n",
       " Row(uid=32710856, game_name='DC Universe Online', purchase_action='play', playtime=2.4, playtime_rank=1, game_uid=540, prediction=1.7090528011322021),\n",
       " Row(uid=56038151, game_name='DC Universe Online', purchase_action='play', playtime=3.8, playtime_rank=1, game_uid=540, prediction=1.4019412994384766),\n",
       " Row(uid=237244349, game_name='DC Universe Online', purchase_action='play', playtime=72.0, playtime_rank=3, game_uid=540, prediction=0.9147681593894958),\n",
       " Row(uid=94110492, game_name='DC Universe Online', purchase_action='play', playtime=3.4, playtime_rank=1, game_uid=540, prediction=1.3047064542770386),\n",
       " Row(uid=11794760, game_name='DC Universe Online', purchase_action='play', playtime=1.9, playtime_rank=1, game_uid=540, prediction=0.893345832824707),\n",
       " Row(uid=63441290, game_name='DC Universe Online', purchase_action='play', playtime=77.0, playtime_rank=3, game_uid=540, prediction=1.7094089984893799),\n",
       " Row(uid=196558392, game_name='DC Universe Online', purchase_action='play', playtime=1.2, playtime_rank=1, game_uid=540, prediction=1.1930347681045532),\n",
       " Row(uid=56789999, game_name='DC Universe Online', purchase_action='play', playtime=3.2, playtime_rank=1, game_uid=540, prediction=2.021117925643921),\n",
       " Row(uid=118189718, game_name='DC Universe Online', purchase_action='play', playtime=0.9, playtime_rank=0, game_uid=540, prediction=1.7244226932525635),\n",
       " Row(uid=200175559, game_name='DC Universe Online', purchase_action='play', playtime=0.9, playtime_rank=0, game_uid=540, prediction=0.0),\n",
       " Row(uid=45292137, game_name='DC Universe Online', purchase_action='play', playtime=7.9, playtime_rank=2, game_uid=540, prediction=2.0506179332733154),\n",
       " Row(uid=185259386, game_name='DC Universe Online', purchase_action='play', playtime=3.1, playtime_rank=1, game_uid=540, prediction=1.107321858406067),\n",
       " Row(uid=36502549, game_name='DC Universe Online', purchase_action='play', playtime=10.6, playtime_rank=2, game_uid=540, prediction=1.902130126953125),\n",
       " Row(uid=44321815, game_name='DC Universe Online', purchase_action='play', playtime=4.0, playtime_rank=1, game_uid=540, prediction=1.7828150987625122),\n",
       " Row(uid=175001491, game_name='DC Universe Online', purchase_action='play', playtime=17.9, playtime_rank=2, game_uid=540, prediction=1.9308390617370605),\n",
       " Row(uid=78671103, game_name='DC Universe Online', purchase_action='play', playtime=3.3, playtime_rank=1, game_uid=540, prediction=1.2698538303375244),\n",
       " Row(uid=89691468, game_name='DC Universe Online', purchase_action='play', playtime=6.9, playtime_rank=2, game_uid=540, prediction=2.0951836109161377),\n",
       " Row(uid=92436417, game_name='DC Universe Online', purchase_action='play', playtime=4.3, playtime_rank=1, game_uid=540, prediction=2.062946319580078)]"
      ]
     },
     "execution_count": 140,
     "metadata": {},
     "output_type": "execute_result"
    }
   ],
   "source": [
    "preds[0:100]"
   ]
  },
  {
   "cell_type": "code",
   "execution_count": 141,
   "metadata": {
    "collapsed": true
   },
   "outputs": [],
   "source": [
    "# TODO find examples of each item rank to get a sense of types of items\n",
    "# TODO better evaluation than rmse"
   ]
  },
  {
   "cell_type": "code",
   "execution_count": null,
   "metadata": {
    "collapsed": true
   },
   "outputs": [],
   "source": []
  }
 ],
 "metadata": {
  "kernelspec": {
   "display_name": "Python 3",
   "language": "python",
   "name": "python3"
  },
  "language_info": {
   "codemirror_mode": {
    "name": "ipython",
    "version": 3
   },
   "file_extension": ".py",
   "mimetype": "text/x-python",
   "name": "python",
   "nbconvert_exporter": "python",
   "pygments_lexer": "ipython3",
   "version": "3.6.3"
  }
 },
 "nbformat": 4,
 "nbformat_minor": 2
}
